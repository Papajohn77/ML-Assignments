{
 "cells": [
  {
   "cell_type": "markdown",
   "metadata": {
    "id": "wuRy3A6sU_zh"
   },
   "source": [
    "# Papers and patents are becoming less disruptive over time\n",
    "\n",
    "This is the third assignment of the Applied Machine Learning course. In this assignment we will create a Machine Learning model that can predict, as accurate as possible, the [CD5](http://russellfunk.org/cdindex/static/papers/funk_ms_2017.pdf) (measures how likely is a work that cites a scientific paper to cite the works that paper cites) of a published paper without looking into the future work that cites it:\n",
    "\n",
    "- Park, M., Leahey, E. & Funk, R.J. Papers and patents are becoming less disruptive over time. Nature 613, 138–144 (2023). https://doi.org/10.1038/s41586-022-05543-x\n",
    "\n",
    "---\n",
    "\n",
    "> John Papadatos, Undergraduate Student <br>\n",
    "> Department of Management Science and Technology <br>\n",
    "> Athens University of Economics and Business <br>\n",
    "> t8190314@aueb.gr\n",
    "\n",
    "---"
   ]
  },
  {
   "cell_type": "markdown",
   "metadata": {
    "id": "ay47UxzUgcJO"
   },
   "source": [
    "- First of all make sure that the following Python packages are installed.\n",
    "\n",
    "\n",
    "- If some packages missing you can install them using the following command: <br>\n",
    "  `pip install <package-name>` or `pip3 install <package-name>`"
   ]
  },
  {
   "cell_type": "code",
   "execution_count": 1,
   "metadata": {
    "id": "zzA4-7WYgWy7"
   },
   "outputs": [],
   "source": [
    "%%capture\n",
    "\n",
    "import cld3  # Package name on PyPI: pycld3\n",
    "import spacy\n",
    "import sqlite3\n",
    "import numpy as np\n",
    "import pandas as pd\n",
    "import sklearn as sk  # Package name on PyPI: scikit-learn\n",
    "import tensorflow as tf\n",
    "import keras_tuner as kt  # Package name on PyPI: keras-tuner\n",
    "import seaborn as sns\n",
    "import matplotlib.pyplot as plt\n",
    "\n",
    "# Load the pre-trained small English language model for NLP\n",
    "nlp = spacy.load(\"en_core_web_sm\")\n",
    "\n",
    "# Print the output without scientific notation\n",
    "pd.options.display.float_format = '{:.3f}'.format"
   ]
  },
  {
   "cell_type": "markdown",
   "metadata": {
    "id": "6-W1GpSaskE8"
   },
   "source": [
    "The data that we will use is in the form of an [SQLite](https://www.sqlite.org/index.html) database. It is derived from the [alexandria3k package](https://github.com/dspinellis/alexandria3k) written by [Professor Diomidis Spinellis](https://www2.dmst.aueb.gr/dds/). In particular, the data comprises part of the [publications graph](https://dspinellis.github.io/alexandria3k/cli-eg.html#publications-graph) for a 1% sample of all CrossRef available publications that have abstracts; an additional table in the database contains the CD5 index for papers.\n",
    "\n",
    "Below you can the the schema of the SQLite database:"
   ]
  },
  {
   "cell_type": "markdown",
   "metadata": {
    "id": "KtXB65I9nlbh"
   },
   "source": [
    "![schema](https://mermaid.ink/img/pako:eNqNU01vgzAM_SvI57barpx33mXXSMgkZmQNSZUYbajiv4_PJXQgNRfs54djPzt3kE4R5CANhvCm8dNjI2w2nAnJvp2_huw-Q-PRKtqs2VB0sQzsUXJElNPRubWl0aEmVSjs9uDGWa73Ah2hn_F-_sxVCXgVkJ3Po3G5vA_2iBfYcu18OGC-JExPFXmykp4hh7b8IslH1NGQSltFP4_6rRVFGaOIUzy6zsvVSVr9S_C_4zlSYFVpo5G1syG9fiecDnMJpzO12NCmgKSPqFdM8tAAetbSULFZjWQNdkeZJn5S0nUah4Uc9LHkS0XYLOnmvh5O0JBvUKvhiUy_COCahsyQD6ZCfxUg7MgbpHQfnZWQs2_pBO1NIdPyoiCv0ATqfwEJUA3E?type=png)"
   ]
  },
  {
   "cell_type": "markdown",
   "metadata": {
    "id": "rSdmlQDMwzRm"
   },
   "source": [
    "- SQLite is a serverless file-based database engine that reads and writes data directly to disk files.\n",
    "- In SQLite, a database is typically stored in a single file, which contains all the tables, indices, views, triggers, and other objects that make up the database.\n",
    "- In our case, the database file is called `publications_graph.db`. \n",
    "- We will use the `sqlite3` module to establish a connection with the `publications_graph.db` database."
   ]
  },
  {
   "cell_type": "code",
   "execution_count": 2,
   "metadata": {
    "id": "DoslMOccYxOt"
   },
   "outputs": [],
   "source": [
    "conn = sqlite3.connect(\"data/publications_graph.db\")"
   ]
  },
  {
   "cell_type": "markdown",
   "metadata": {
    "id": "PUKz-6Y87XV_"
   },
   "source": [
    "- We will use the `read_sql()` method to read the necessary columns from the `works` table into a DataFrame, which is stored in the `works` variable.\n",
    "- We will not need the `published_day` and `published_month` columns. The Nature paper suggests that the CD5 is decreasing over time, but does not suggest that there are specific months or days that are more important than others. Thus, including only the year as feature should be sufficient for capturing the overall trend."
   ]
  },
  {
   "cell_type": "code",
   "execution_count": 3,
   "metadata": {
    "colab": {
     "base_uri": "https://localhost:8080/",
     "height": 372
    },
    "id": "m7UJ4SozkmnS",
    "outputId": "c6d4544c-961c-4fbd-dbc1-2c2694672d07"
   },
   "outputs": [
    {
     "name": "stdout",
     "output_type": "stream",
     "text": [
      "Number of works records: 149.078\n",
      "\n"
     ]
    },
    {
     "data": {
      "text/html": [
       "\n",
       "  <div id=\"df-288c1a03-fa70-4424-a2e1-caf6e47b704a\">\n",
       "    <div class=\"colab-df-container\">\n",
       "      <div>\n",
       "<style scoped>\n",
       "    .dataframe tbody tr th:only-of-type {\n",
       "        vertical-align: middle;\n",
       "    }\n",
       "\n",
       "    .dataframe tbody tr th {\n",
       "        vertical-align: top;\n",
       "    }\n",
       "\n",
       "    .dataframe thead th {\n",
       "        text-align: right;\n",
       "    }\n",
       "</style>\n",
       "<table border=\"1\" class=\"dataframe\">\n",
       "  <thead>\n",
       "    <tr style=\"text-align: right;\">\n",
       "      <th></th>\n",
       "      <th>id</th>\n",
       "      <th>title</th>\n",
       "      <th>abstract</th>\n",
       "      <th>year</th>\n",
       "      <th>doi</th>\n",
       "    </tr>\n",
       "  </thead>\n",
       "  <tbody>\n",
       "    <tr>\n",
       "      <th>44045</th>\n",
       "      <td>1345286</td>\n",
       "      <td>Research beyond biomedical confines: towards b...</td>\n",
       "      <td>&lt;jats:p&gt;‘Working Together to Prevent Suicide’ ...</td>\n",
       "      <td>2019.000</td>\n",
       "      <td>10.31117/neuroscirn.v2i4.43</td>\n",
       "    </tr>\n",
       "    <tr>\n",
       "      <th>99967</th>\n",
       "      <td>3099568</td>\n",
       "      <td>Influencia de expectativas educativas y relaci...</td>\n",
       "      <td>&lt;jats:p&gt;El Embarazo en la Adolescencia (EA) es...</td>\n",
       "      <td>2020.000</td>\n",
       "      <td>10.15174/au.2020.2562</td>\n",
       "    </tr>\n",
       "    <tr>\n",
       "      <th>12469</th>\n",
       "      <td>279423</td>\n",
       "      <td>Configuración de la Agenda en la Unión Europea</td>\n",
       "      <td>&lt;jats:p&gt;&amp;lt;p&amp;gt;El establecimiento de la agen...</td>\n",
       "      <td>2016.000</td>\n",
       "      <td>10.18543/ced-55-2016pp33-59</td>\n",
       "    </tr>\n",
       "    <tr>\n",
       "      <th>143525</th>\n",
       "      <td>4229244</td>\n",
       "      <td>Case-control study of ADARB1 and ADARB2 gene v...</td>\n",
       "      <td>&lt;jats:title&gt;Abstract&lt;/jats:title&gt;\\n          &lt;...</td>\n",
       "      <td>2015.000</td>\n",
       "      <td>10.1186/s10194-015-0511-y</td>\n",
       "    </tr>\n",
       "    <tr>\n",
       "      <th>122536</th>\n",
       "      <td>3622891</td>\n",
       "      <td>MEDIASI INTEREST BASED DALAM PENYELESAIAN SENG...</td>\n",
       "      <td>&lt;jats:p&gt;Meningkatnya perkara tanah di pengadil...</td>\n",
       "      <td>2016.000</td>\n",
       "      <td>10.24843/kp.2016.v38.i02.p05</td>\n",
       "    </tr>\n",
       "  </tbody>\n",
       "</table>\n",
       "</div>\n",
       "      <button class=\"colab-df-convert\" onclick=\"convertToInteractive('df-288c1a03-fa70-4424-a2e1-caf6e47b704a')\"\n",
       "              title=\"Convert this dataframe to an interactive table.\"\n",
       "              style=\"display:none;\">\n",
       "        \n",
       "  <svg xmlns=\"http://www.w3.org/2000/svg\" height=\"24px\"viewBox=\"0 0 24 24\"\n",
       "       width=\"24px\">\n",
       "    <path d=\"M0 0h24v24H0V0z\" fill=\"none\"/>\n",
       "    <path d=\"M18.56 5.44l.94 2.06.94-2.06 2.06-.94-2.06-.94-.94-2.06-.94 2.06-2.06.94zm-11 1L8.5 8.5l.94-2.06 2.06-.94-2.06-.94L8.5 2.5l-.94 2.06-2.06.94zm10 10l.94 2.06.94-2.06 2.06-.94-2.06-.94-.94-2.06-.94 2.06-2.06.94z\"/><path d=\"M17.41 7.96l-1.37-1.37c-.4-.4-.92-.59-1.43-.59-.52 0-1.04.2-1.43.59L10.3 9.45l-7.72 7.72c-.78.78-.78 2.05 0 2.83L4 21.41c.39.39.9.59 1.41.59.51 0 1.02-.2 1.41-.59l7.78-7.78 2.81-2.81c.8-.78.8-2.07 0-2.86zM5.41 20L4 18.59l7.72-7.72 1.47 1.35L5.41 20z\"/>\n",
       "  </svg>\n",
       "      </button>\n",
       "      \n",
       "  <style>\n",
       "    .colab-df-container {\n",
       "      display:flex;\n",
       "      flex-wrap:wrap;\n",
       "      gap: 12px;\n",
       "    }\n",
       "\n",
       "    .colab-df-convert {\n",
       "      background-color: #E8F0FE;\n",
       "      border: none;\n",
       "      border-radius: 50%;\n",
       "      cursor: pointer;\n",
       "      display: none;\n",
       "      fill: #1967D2;\n",
       "      height: 32px;\n",
       "      padding: 0 0 0 0;\n",
       "      width: 32px;\n",
       "    }\n",
       "\n",
       "    .colab-df-convert:hover {\n",
       "      background-color: #E2EBFA;\n",
       "      box-shadow: 0px 1px 2px rgba(60, 64, 67, 0.3), 0px 1px 3px 1px rgba(60, 64, 67, 0.15);\n",
       "      fill: #174EA6;\n",
       "    }\n",
       "\n",
       "    [theme=dark] .colab-df-convert {\n",
       "      background-color: #3B4455;\n",
       "      fill: #D2E3FC;\n",
       "    }\n",
       "\n",
       "    [theme=dark] .colab-df-convert:hover {\n",
       "      background-color: #434B5C;\n",
       "      box-shadow: 0px 1px 3px 1px rgba(0, 0, 0, 0.15);\n",
       "      filter: drop-shadow(0px 1px 2px rgba(0, 0, 0, 0.3));\n",
       "      fill: #FFFFFF;\n",
       "    }\n",
       "  </style>\n",
       "\n",
       "      <script>\n",
       "        const buttonEl =\n",
       "          document.querySelector('#df-288c1a03-fa70-4424-a2e1-caf6e47b704a button.colab-df-convert');\n",
       "        buttonEl.style.display =\n",
       "          google.colab.kernel.accessAllowed ? 'block' : 'none';\n",
       "\n",
       "        async function convertToInteractive(key) {\n",
       "          const element = document.querySelector('#df-288c1a03-fa70-4424-a2e1-caf6e47b704a');\n",
       "          const dataTable =\n",
       "            await google.colab.kernel.invokeFunction('convertToInteractive',\n",
       "                                                     [key], {});\n",
       "          if (!dataTable) return;\n",
       "\n",
       "          const docLinkHtml = 'Like what you see? Visit the ' +\n",
       "            '<a target=\"_blank\" href=https://colab.research.google.com/notebooks/data_table.ipynb>data table notebook</a>'\n",
       "            + ' to learn more about interactive tables.';\n",
       "          element.innerHTML = '';\n",
       "          dataTable['output_type'] = 'display_data';\n",
       "          await google.colab.output.renderOutput(dataTable, element);\n",
       "          const docLink = document.createElement('div');\n",
       "          docLink.innerHTML = docLinkHtml;\n",
       "          element.appendChild(docLink);\n",
       "        }\n",
       "      </script>\n",
       "    </div>\n",
       "  </div>\n",
       "  "
      ],
      "text/plain": [
       "             id                                              title  \\\n",
       "44045   1345286  Research beyond biomedical confines: towards b...   \n",
       "99967   3099568  Influencia de expectativas educativas y relaci...   \n",
       "12469    279423     Configuración de la Agenda en la Unión Europea   \n",
       "143525  4229244  Case-control study of ADARB1 and ADARB2 gene v...   \n",
       "122536  3622891  MEDIASI INTEREST BASED DALAM PENYELESAIAN SENG...   \n",
       "\n",
       "                                                 abstract     year  \\\n",
       "44045   <jats:p>‘Working Together to Prevent Suicide’ ... 2019.000   \n",
       "99967   <jats:p>El Embarazo en la Adolescencia (EA) es... 2020.000   \n",
       "12469   <jats:p>&lt;p&gt;El establecimiento de la agen... 2016.000   \n",
       "143525  <jats:title>Abstract</jats:title>\\n          <... 2015.000   \n",
       "122536  <jats:p>Meningkatnya perkara tanah di pengadil... 2016.000   \n",
       "\n",
       "                                 doi  \n",
       "44045    10.31117/neuroscirn.v2i4.43  \n",
       "99967          10.15174/au.2020.2562  \n",
       "12469    10.18543/ced-55-2016pp33-59  \n",
       "143525     10.1186/s10194-015-0511-y  \n",
       "122536  10.24843/kp.2016.v38.i02.p05  "
      ]
     },
     "execution_count": 3,
     "metadata": {},
     "output_type": "execute_result"
    }
   ],
   "source": [
    "works = pd.read_sql(\"SELECT id, title, abstract, published_year AS year, doi FROM works\", conn)\n",
    "print('Number of works records:', format(len(works), \",d\").replace(\",\", \".\"), end='\\n\\n')\n",
    "works.sample(5)"
   ]
  },
  {
   "cell_type": "markdown",
   "metadata": {
    "id": "Rzdij4qrNEbo"
   },
   "source": [
    "- We will use the `info()` method to get an overview of the DataFrame and ensure that the datatypes are correct."
   ]
  },
  {
   "cell_type": "code",
   "execution_count": 4,
   "metadata": {
    "colab": {
     "base_uri": "https://localhost:8080/"
    },
    "id": "eopiGSmhMBUl",
    "outputId": "ccbc76d2-3155-4e7b-a2cb-10d24120e4ac"
   },
   "outputs": [
    {
     "name": "stdout",
     "output_type": "stream",
     "text": [
      "<class 'pandas.core.frame.DataFrame'>\n",
      "RangeIndex: 149078 entries, 0 to 149077\n",
      "Data columns (total 5 columns):\n",
      " #   Column    Non-Null Count   Dtype  \n",
      "---  ------    --------------   -----  \n",
      " 0   id        149078 non-null  int64  \n",
      " 1   title     149078 non-null  object \n",
      " 2   abstract  149078 non-null  object \n",
      " 3   year      147323 non-null  float64\n",
      " 4   doi       149078 non-null  object \n",
      "dtypes: float64(1), int64(1), object(3)\n",
      "memory usage: 5.7+ MB\n"
     ]
    }
   ],
   "source": [
    "works.info()"
   ]
  },
  {
   "cell_type": "markdown",
   "metadata": {
    "id": "B5V2eNgENvY9"
   },
   "source": [
    "- We will use the `describe()` method to check some decriptive statistics for the `year` column."
   ]
  },
  {
   "cell_type": "code",
   "execution_count": 5,
   "metadata": {
    "colab": {
     "base_uri": "https://localhost:8080/"
    },
    "id": "lDADFZOoMGWM",
    "outputId": "3b22a8c7-d4fe-4640-c673-0c1550893fb0"
   },
   "outputs": [
    {
     "data": {
      "text/plain": [
       "count   147323.000\n",
       "mean      2011.979\n",
       "std         12.842\n",
       "min       1876.000\n",
       "25%       2009.000\n",
       "50%       2017.000\n",
       "75%       2020.000\n",
       "max       2121.000\n",
       "Name: year, dtype: float64"
      ]
     },
     "execution_count": 5,
     "metadata": {},
     "output_type": "execute_result"
    }
   ],
   "source": [
    "works.year.describe()"
   ]
  },
  {
   "cell_type": "markdown",
   "metadata": {
    "id": "wRR6xdoHR063"
   },
   "source": [
    "- Besides the maximum value that is invalid, we can observe that 75% of the papers in our dataset are published after 2009, while the Nature paper uses papers that were published until 2010.\n",
    "- We can also notice that there are some recent years for which the cdindex is not CD5, since those papers have not been published for 5 years or more. We will handle those later."
   ]
  },
  {
   "cell_type": "markdown",
   "metadata": {
    "id": "6eE9c-1_AJf-"
   },
   "source": [
    "- We will check whether sufficient amount of data are present for each feature, to be able to use it in our model."
   ]
  },
  {
   "cell_type": "code",
   "execution_count": 6,
   "metadata": {
    "colab": {
     "base_uri": "https://localhost:8080/",
     "height": 206
    },
    "id": "Uwcmn5ix4h0S",
    "outputId": "28276d72-1d30-430e-e985-255e5964db57"
   },
   "outputs": [
    {
     "data": {
      "text/html": [
       "\n",
       "  <div id=\"df-4dfd48b5-b1fc-483a-b209-ff63ffc387d7\">\n",
       "    <div class=\"colab-df-container\">\n",
       "      <div>\n",
       "<style scoped>\n",
       "    .dataframe tbody tr th:only-of-type {\n",
       "        vertical-align: middle;\n",
       "    }\n",
       "\n",
       "    .dataframe tbody tr th {\n",
       "        vertical-align: top;\n",
       "    }\n",
       "\n",
       "    .dataframe thead th {\n",
       "        text-align: right;\n",
       "    }\n",
       "</style>\n",
       "<table border=\"1\" class=\"dataframe\">\n",
       "  <thead>\n",
       "    <tr style=\"text-align: right;\">\n",
       "      <th></th>\n",
       "      <th>missing_count</th>\n",
       "      <th>missing_ratio</th>\n",
       "    </tr>\n",
       "  </thead>\n",
       "  <tbody>\n",
       "    <tr>\n",
       "      <th>id</th>\n",
       "      <td>0</td>\n",
       "      <td>0.000</td>\n",
       "    </tr>\n",
       "    <tr>\n",
       "      <th>title</th>\n",
       "      <td>0</td>\n",
       "      <td>0.000</td>\n",
       "    </tr>\n",
       "    <tr>\n",
       "      <th>abstract</th>\n",
       "      <td>0</td>\n",
       "      <td>0.000</td>\n",
       "    </tr>\n",
       "    <tr>\n",
       "      <th>year</th>\n",
       "      <td>1755</td>\n",
       "      <td>0.012</td>\n",
       "    </tr>\n",
       "    <tr>\n",
       "      <th>doi</th>\n",
       "      <td>0</td>\n",
       "      <td>0.000</td>\n",
       "    </tr>\n",
       "  </tbody>\n",
       "</table>\n",
       "</div>\n",
       "      <button class=\"colab-df-convert\" onclick=\"convertToInteractive('df-4dfd48b5-b1fc-483a-b209-ff63ffc387d7')\"\n",
       "              title=\"Convert this dataframe to an interactive table.\"\n",
       "              style=\"display:none;\">\n",
       "        \n",
       "  <svg xmlns=\"http://www.w3.org/2000/svg\" height=\"24px\"viewBox=\"0 0 24 24\"\n",
       "       width=\"24px\">\n",
       "    <path d=\"M0 0h24v24H0V0z\" fill=\"none\"/>\n",
       "    <path d=\"M18.56 5.44l.94 2.06.94-2.06 2.06-.94-2.06-.94-.94-2.06-.94 2.06-2.06.94zm-11 1L8.5 8.5l.94-2.06 2.06-.94-2.06-.94L8.5 2.5l-.94 2.06-2.06.94zm10 10l.94 2.06.94-2.06 2.06-.94-2.06-.94-.94-2.06-.94 2.06-2.06.94z\"/><path d=\"M17.41 7.96l-1.37-1.37c-.4-.4-.92-.59-1.43-.59-.52 0-1.04.2-1.43.59L10.3 9.45l-7.72 7.72c-.78.78-.78 2.05 0 2.83L4 21.41c.39.39.9.59 1.41.59.51 0 1.02-.2 1.41-.59l7.78-7.78 2.81-2.81c.8-.78.8-2.07 0-2.86zM5.41 20L4 18.59l7.72-7.72 1.47 1.35L5.41 20z\"/>\n",
       "  </svg>\n",
       "      </button>\n",
       "      \n",
       "  <style>\n",
       "    .colab-df-container {\n",
       "      display:flex;\n",
       "      flex-wrap:wrap;\n",
       "      gap: 12px;\n",
       "    }\n",
       "\n",
       "    .colab-df-convert {\n",
       "      background-color: #E8F0FE;\n",
       "      border: none;\n",
       "      border-radius: 50%;\n",
       "      cursor: pointer;\n",
       "      display: none;\n",
       "      fill: #1967D2;\n",
       "      height: 32px;\n",
       "      padding: 0 0 0 0;\n",
       "      width: 32px;\n",
       "    }\n",
       "\n",
       "    .colab-df-convert:hover {\n",
       "      background-color: #E2EBFA;\n",
       "      box-shadow: 0px 1px 2px rgba(60, 64, 67, 0.3), 0px 1px 3px 1px rgba(60, 64, 67, 0.15);\n",
       "      fill: #174EA6;\n",
       "    }\n",
       "\n",
       "    [theme=dark] .colab-df-convert {\n",
       "      background-color: #3B4455;\n",
       "      fill: #D2E3FC;\n",
       "    }\n",
       "\n",
       "    [theme=dark] .colab-df-convert:hover {\n",
       "      background-color: #434B5C;\n",
       "      box-shadow: 0px 1px 3px 1px rgba(0, 0, 0, 0.15);\n",
       "      filter: drop-shadow(0px 1px 2px rgba(0, 0, 0, 0.3));\n",
       "      fill: #FFFFFF;\n",
       "    }\n",
       "  </style>\n",
       "\n",
       "      <script>\n",
       "        const buttonEl =\n",
       "          document.querySelector('#df-4dfd48b5-b1fc-483a-b209-ff63ffc387d7 button.colab-df-convert');\n",
       "        buttonEl.style.display =\n",
       "          google.colab.kernel.accessAllowed ? 'block' : 'none';\n",
       "\n",
       "        async function convertToInteractive(key) {\n",
       "          const element = document.querySelector('#df-4dfd48b5-b1fc-483a-b209-ff63ffc387d7');\n",
       "          const dataTable =\n",
       "            await google.colab.kernel.invokeFunction('convertToInteractive',\n",
       "                                                     [key], {});\n",
       "          if (!dataTable) return;\n",
       "\n",
       "          const docLinkHtml = 'Like what you see? Visit the ' +\n",
       "            '<a target=\"_blank\" href=https://colab.research.google.com/notebooks/data_table.ipynb>data table notebook</a>'\n",
       "            + ' to learn more about interactive tables.';\n",
       "          element.innerHTML = '';\n",
       "          dataTable['output_type'] = 'display_data';\n",
       "          await google.colab.output.renderOutput(dataTable, element);\n",
       "          const docLink = document.createElement('div');\n",
       "          docLink.innerHTML = docLinkHtml;\n",
       "          element.appendChild(docLink);\n",
       "        }\n",
       "      </script>\n",
       "    </div>\n",
       "  </div>\n",
       "  "
      ],
      "text/plain": [
       "          missing_count  missing_ratio\n",
       "id                    0          0.000\n",
       "title                 0          0.000\n",
       "abstract              0          0.000\n",
       "year               1755          0.012\n",
       "doi                   0          0.000"
      ]
     },
     "execution_count": 6,
     "metadata": {},
     "output_type": "execute_result"
    }
   ],
   "source": [
    "pd.concat([works.isna().sum(), works.isna().mean()],\n",
    "          axis=1, keys=['missing_count', 'missing_ratio'])"
   ]
  },
  {
   "cell_type": "markdown",
   "metadata": {
    "id": "PstD_s_e-gys"
   },
   "source": [
    "- We will use the `read_sql()` method to read the columns from the `work_references` table into a DataFrame, which is stored in the `work_references` variable."
   ]
  },
  {
   "cell_type": "code",
   "execution_count": 7,
   "metadata": {
    "colab": {
     "base_uri": "https://localhost:8080/",
     "height": 241
    },
    "id": "Hq3R1v7DEIeF",
    "outputId": "949c3faa-b05c-4859-f158-807602e5bd48"
   },
   "outputs": [
    {
     "name": "stdout",
     "output_type": "stream",
     "text": [
      "Number of work_references records: 2.852.181\n",
      "\n"
     ]
    },
    {
     "data": {
      "text/html": [
       "\n",
       "  <div id=\"df-95765877-6bbd-4eb9-a0fc-9ffabcc474e9\">\n",
       "    <div class=\"colab-df-container\">\n",
       "      <div>\n",
       "<style scoped>\n",
       "    .dataframe tbody tr th:only-of-type {\n",
       "        vertical-align: middle;\n",
       "    }\n",
       "\n",
       "    .dataframe tbody tr th {\n",
       "        vertical-align: top;\n",
       "    }\n",
       "\n",
       "    .dataframe thead th {\n",
       "        text-align: right;\n",
       "    }\n",
       "</style>\n",
       "<table border=\"1\" class=\"dataframe\">\n",
       "  <thead>\n",
       "    <tr style=\"text-align: right;\">\n",
       "      <th></th>\n",
       "      <th>work_id</th>\n",
       "      <th>article_title</th>\n",
       "      <th>doi</th>\n",
       "      <th>year</th>\n",
       "    </tr>\n",
       "  </thead>\n",
       "  <tbody>\n",
       "    <tr>\n",
       "      <th>392725</th>\n",
       "      <td>591927</td>\n",
       "      <td>None</td>\n",
       "      <td>None</td>\n",
       "      <td>None</td>\n",
       "    </tr>\n",
       "    <tr>\n",
       "      <th>2688176</th>\n",
       "      <td>4161736</td>\n",
       "      <td>Coordinated regulation of cholinergic motor ne...</td>\n",
       "      <td>10.1038/nn.2989</td>\n",
       "      <td>2011</td>\n",
       "    </tr>\n",
       "    <tr>\n",
       "      <th>231826</th>\n",
       "      <td>312094</td>\n",
       "      <td>A guideline for the preparation of species des...</td>\n",
       "      <td>10.1111/j.1365-2761.1989.tb00287.x</td>\n",
       "      <td>1989</td>\n",
       "    </tr>\n",
       "    <tr>\n",
       "      <th>448577</th>\n",
       "      <td>738941</td>\n",
       "      <td>None</td>\n",
       "      <td>10.1371/journal.pgen.0010056</td>\n",
       "      <td>None</td>\n",
       "    </tr>\n",
       "    <tr>\n",
       "      <th>1133385</th>\n",
       "      <td>2064688</td>\n",
       "      <td>None</td>\n",
       "      <td>None</td>\n",
       "      <td>None</td>\n",
       "    </tr>\n",
       "  </tbody>\n",
       "</table>\n",
       "</div>\n",
       "      <button class=\"colab-df-convert\" onclick=\"convertToInteractive('df-95765877-6bbd-4eb9-a0fc-9ffabcc474e9')\"\n",
       "              title=\"Convert this dataframe to an interactive table.\"\n",
       "              style=\"display:none;\">\n",
       "        \n",
       "  <svg xmlns=\"http://www.w3.org/2000/svg\" height=\"24px\"viewBox=\"0 0 24 24\"\n",
       "       width=\"24px\">\n",
       "    <path d=\"M0 0h24v24H0V0z\" fill=\"none\"/>\n",
       "    <path d=\"M18.56 5.44l.94 2.06.94-2.06 2.06-.94-2.06-.94-.94-2.06-.94 2.06-2.06.94zm-11 1L8.5 8.5l.94-2.06 2.06-.94-2.06-.94L8.5 2.5l-.94 2.06-2.06.94zm10 10l.94 2.06.94-2.06 2.06-.94-2.06-.94-.94-2.06-.94 2.06-2.06.94z\"/><path d=\"M17.41 7.96l-1.37-1.37c-.4-.4-.92-.59-1.43-.59-.52 0-1.04.2-1.43.59L10.3 9.45l-7.72 7.72c-.78.78-.78 2.05 0 2.83L4 21.41c.39.39.9.59 1.41.59.51 0 1.02-.2 1.41-.59l7.78-7.78 2.81-2.81c.8-.78.8-2.07 0-2.86zM5.41 20L4 18.59l7.72-7.72 1.47 1.35L5.41 20z\"/>\n",
       "  </svg>\n",
       "      </button>\n",
       "      \n",
       "  <style>\n",
       "    .colab-df-container {\n",
       "      display:flex;\n",
       "      flex-wrap:wrap;\n",
       "      gap: 12px;\n",
       "    }\n",
       "\n",
       "    .colab-df-convert {\n",
       "      background-color: #E8F0FE;\n",
       "      border: none;\n",
       "      border-radius: 50%;\n",
       "      cursor: pointer;\n",
       "      display: none;\n",
       "      fill: #1967D2;\n",
       "      height: 32px;\n",
       "      padding: 0 0 0 0;\n",
       "      width: 32px;\n",
       "    }\n",
       "\n",
       "    .colab-df-convert:hover {\n",
       "      background-color: #E2EBFA;\n",
       "      box-shadow: 0px 1px 2px rgba(60, 64, 67, 0.3), 0px 1px 3px 1px rgba(60, 64, 67, 0.15);\n",
       "      fill: #174EA6;\n",
       "    }\n",
       "\n",
       "    [theme=dark] .colab-df-convert {\n",
       "      background-color: #3B4455;\n",
       "      fill: #D2E3FC;\n",
       "    }\n",
       "\n",
       "    [theme=dark] .colab-df-convert:hover {\n",
       "      background-color: #434B5C;\n",
       "      box-shadow: 0px 1px 3px 1px rgba(0, 0, 0, 0.15);\n",
       "      filter: drop-shadow(0px 1px 2px rgba(0, 0, 0, 0.3));\n",
       "      fill: #FFFFFF;\n",
       "    }\n",
       "  </style>\n",
       "\n",
       "      <script>\n",
       "        const buttonEl =\n",
       "          document.querySelector('#df-95765877-6bbd-4eb9-a0fc-9ffabcc474e9 button.colab-df-convert');\n",
       "        buttonEl.style.display =\n",
       "          google.colab.kernel.accessAllowed ? 'block' : 'none';\n",
       "\n",
       "        async function convertToInteractive(key) {\n",
       "          const element = document.querySelector('#df-95765877-6bbd-4eb9-a0fc-9ffabcc474e9');\n",
       "          const dataTable =\n",
       "            await google.colab.kernel.invokeFunction('convertToInteractive',\n",
       "                                                     [key], {});\n",
       "          if (!dataTable) return;\n",
       "\n",
       "          const docLinkHtml = 'Like what you see? Visit the ' +\n",
       "            '<a target=\"_blank\" href=https://colab.research.google.com/notebooks/data_table.ipynb>data table notebook</a>'\n",
       "            + ' to learn more about interactive tables.';\n",
       "          element.innerHTML = '';\n",
       "          dataTable['output_type'] = 'display_data';\n",
       "          await google.colab.output.renderOutput(dataTable, element);\n",
       "          const docLink = document.createElement('div');\n",
       "          docLink.innerHTML = docLinkHtml;\n",
       "          element.appendChild(docLink);\n",
       "        }\n",
       "      </script>\n",
       "    </div>\n",
       "  </div>\n",
       "  "
      ],
      "text/plain": [
       "         work_id                                      article_title  \\\n",
       "392725    591927                                               None   \n",
       "2688176  4161736  Coordinated regulation of cholinergic motor ne...   \n",
       "231826    312094  A guideline for the preparation of species des...   \n",
       "448577    738941                                               None   \n",
       "1133385  2064688                                               None   \n",
       "\n",
       "                                        doi  year  \n",
       "392725                                 None  None  \n",
       "2688176                     10.1038/nn.2989  2011  \n",
       "231826   10.1111/j.1365-2761.1989.tb00287.x  1989  \n",
       "448577         10.1371/journal.pgen.0010056  None  \n",
       "1133385                                None  None  "
      ]
     },
     "execution_count": 7,
     "metadata": {},
     "output_type": "execute_result"
    }
   ],
   "source": [
    "work_references = pd.read_sql(\"SELECT work_id, article_title, doi, year FROM work_references\", conn)\n",
    "print('Number of work_references records:', format(len(work_references), \",d\").replace(\",\", \".\"), end='\\n\\n')\n",
    "work_references.sample(5)"
   ]
  },
  {
   "cell_type": "markdown",
   "metadata": {
    "id": "VZ5eHfl9eZ3o"
   },
   "source": [
    "- We will use the `info()` method to get an overview of the DataFrame and ensure that the datatypes are correct."
   ]
  },
  {
   "cell_type": "code",
   "execution_count": 8,
   "metadata": {
    "colab": {
     "base_uri": "https://localhost:8080/"
    },
    "id": "CjluqdkSeZBf",
    "outputId": "47c539c8-66c7-4551-b679-3996fb5a7dda"
   },
   "outputs": [
    {
     "name": "stdout",
     "output_type": "stream",
     "text": [
      "<class 'pandas.core.frame.DataFrame'>\n",
      "RangeIndex: 2852181 entries, 0 to 2852180\n",
      "Data columns (total 4 columns):\n",
      " #   Column         Dtype \n",
      "---  ------         ----- \n",
      " 0   work_id        int64 \n",
      " 1   article_title  object\n",
      " 2   doi            object\n",
      " 3   year           object\n",
      "dtypes: int64(1), object(3)\n",
      "memory usage: 87.0+ MB\n"
     ]
    }
   ],
   "source": [
    "work_references.info()"
   ]
  },
  {
   "cell_type": "markdown",
   "metadata": {
    "id": "uKp5wDWTgtnk"
   },
   "source": [
    "- We can see that the dtype of the `year` column is object (contains a mixture of data types, such as strings, numbers, and other Python objects).\n",
    "- After inspecting the non-numeric years I noticed some particular patterns:\n",
    "  - `'YYYYa'`, `'YYYYb'`, `'YYYYc'`, `'YYYYd'` => Probably refering to quarters\n",
    "  - `'YYYY,'`, `'YYYY;'`, `'YYYY:'`, `'(YYYY)'`\n",
    "- We will replace the letters `'a'`, `'b'`, `'c'`, `'d'` and the symbols `','`, `';'`, `':'`, `'('`, `')'` with the empty string `''`."
   ]
  },
  {
   "cell_type": "code",
   "execution_count": 9,
   "metadata": {
    "id": "9RIue2lQjxT_"
   },
   "outputs": [],
   "source": [
    "work_references.year = work_references.year.str.replace(r'a|b|c|d|,|;|:|\\(|\\)', '', regex=True)"
   ]
  },
  {
   "cell_type": "markdown",
   "metadata": {
    "id": "HAdURW6N0Ldx"
   },
   "source": [
    "- We will convert the `year` column to numeric data type, with the rest of the non-numeric years being converted to `NaN`."
   ]
  },
  {
   "cell_type": "code",
   "execution_count": 10,
   "metadata": {
    "colab": {
     "base_uri": "https://localhost:8080/"
    },
    "id": "_VFnRlBM0Kfb",
    "outputId": "ee45cc1d-6e5d-4186-f22f-cc75e3780fea"
   },
   "outputs": [
    {
     "data": {
      "text/plain": [
       "dtype('float64')"
      ]
     },
     "execution_count": 10,
     "metadata": {},
     "output_type": "execute_result"
    }
   ],
   "source": [
    "work_references.year = pd.to_numeric(work_references.year, errors='coerce')\n",
    "work_references.year.dtype"
   ]
  },
  {
   "cell_type": "markdown",
   "metadata": {
    "id": "ioMaJHW_eddK"
   },
   "source": [
    "- We will use the `describe()` method to check some decriptive statistics for the `year` column."
   ]
  },
  {
   "cell_type": "code",
   "execution_count": 11,
   "metadata": {
    "colab": {
     "base_uri": "https://localhost:8080/"
    },
    "id": "P0m_Z5gqekEd",
    "outputId": "e6324f4e-0ac9-4833-ce92-e475d399777b"
   },
   "outputs": [
    {
     "data": {
      "text/plain": [
       "count    1264709.000\n",
       "mean        2581.063\n",
       "std       107108.347\n",
       "min            0.000\n",
       "25%         1998.000\n",
       "50%         2008.000\n",
       "75%         2014.000\n",
       "max     20202020.000\n",
       "Name: year, dtype: float64"
      ]
     },
     "execution_count": 11,
     "metadata": {},
     "output_type": "execute_result"
    }
   ],
   "source": [
    "work_references.year.describe()"
   ]
  },
  {
   "cell_type": "markdown",
   "metadata": {
    "id": "4hmM2wev1zQR"
   },
   "source": [
    "- Besides the minimum and maximum values that are invalid, we can observe that the papers referenced are older compared to the papers themselves."
   ]
  },
  {
   "cell_type": "markdown",
   "metadata": {
    "id": "dTJvdsnYG8bs"
   },
   "source": [
    "- We will check whether sufficient amount of data are present for each feature, to be able to use it in our model."
   ]
  },
  {
   "cell_type": "code",
   "execution_count": 12,
   "metadata": {
    "colab": {
     "base_uri": "https://localhost:8080/",
     "height": 175
    },
    "id": "M_ULapAS6hAy",
    "outputId": "2b94354a-a21d-469e-efc6-9afa5ff4a2a0"
   },
   "outputs": [
    {
     "data": {
      "text/html": [
       "\n",
       "  <div id=\"df-f44c5df4-c535-4348-94dd-26ccd87c8d9b\">\n",
       "    <div class=\"colab-df-container\">\n",
       "      <div>\n",
       "<style scoped>\n",
       "    .dataframe tbody tr th:only-of-type {\n",
       "        vertical-align: middle;\n",
       "    }\n",
       "\n",
       "    .dataframe tbody tr th {\n",
       "        vertical-align: top;\n",
       "    }\n",
       "\n",
       "    .dataframe thead th {\n",
       "        text-align: right;\n",
       "    }\n",
       "</style>\n",
       "<table border=\"1\" class=\"dataframe\">\n",
       "  <thead>\n",
       "    <tr style=\"text-align: right;\">\n",
       "      <th></th>\n",
       "      <th>missing_count</th>\n",
       "      <th>missing_ratio</th>\n",
       "    </tr>\n",
       "  </thead>\n",
       "  <tbody>\n",
       "    <tr>\n",
       "      <th>work_id</th>\n",
       "      <td>0</td>\n",
       "      <td>0.000</td>\n",
       "    </tr>\n",
       "    <tr>\n",
       "      <th>article_title</th>\n",
       "      <td>2311266</td>\n",
       "      <td>0.810</td>\n",
       "    </tr>\n",
       "    <tr>\n",
       "      <th>doi</th>\n",
       "      <td>744220</td>\n",
       "      <td>0.261</td>\n",
       "    </tr>\n",
       "    <tr>\n",
       "      <th>year</th>\n",
       "      <td>1587472</td>\n",
       "      <td>0.557</td>\n",
       "    </tr>\n",
       "  </tbody>\n",
       "</table>\n",
       "</div>\n",
       "      <button class=\"colab-df-convert\" onclick=\"convertToInteractive('df-f44c5df4-c535-4348-94dd-26ccd87c8d9b')\"\n",
       "              title=\"Convert this dataframe to an interactive table.\"\n",
       "              style=\"display:none;\">\n",
       "        \n",
       "  <svg xmlns=\"http://www.w3.org/2000/svg\" height=\"24px\"viewBox=\"0 0 24 24\"\n",
       "       width=\"24px\">\n",
       "    <path d=\"M0 0h24v24H0V0z\" fill=\"none\"/>\n",
       "    <path d=\"M18.56 5.44l.94 2.06.94-2.06 2.06-.94-2.06-.94-.94-2.06-.94 2.06-2.06.94zm-11 1L8.5 8.5l.94-2.06 2.06-.94-2.06-.94L8.5 2.5l-.94 2.06-2.06.94zm10 10l.94 2.06.94-2.06 2.06-.94-2.06-.94-.94-2.06-.94 2.06-2.06.94z\"/><path d=\"M17.41 7.96l-1.37-1.37c-.4-.4-.92-.59-1.43-.59-.52 0-1.04.2-1.43.59L10.3 9.45l-7.72 7.72c-.78.78-.78 2.05 0 2.83L4 21.41c.39.39.9.59 1.41.59.51 0 1.02-.2 1.41-.59l7.78-7.78 2.81-2.81c.8-.78.8-2.07 0-2.86zM5.41 20L4 18.59l7.72-7.72 1.47 1.35L5.41 20z\"/>\n",
       "  </svg>\n",
       "      </button>\n",
       "      \n",
       "  <style>\n",
       "    .colab-df-container {\n",
       "      display:flex;\n",
       "      flex-wrap:wrap;\n",
       "      gap: 12px;\n",
       "    }\n",
       "\n",
       "    .colab-df-convert {\n",
       "      background-color: #E8F0FE;\n",
       "      border: none;\n",
       "      border-radius: 50%;\n",
       "      cursor: pointer;\n",
       "      display: none;\n",
       "      fill: #1967D2;\n",
       "      height: 32px;\n",
       "      padding: 0 0 0 0;\n",
       "      width: 32px;\n",
       "    }\n",
       "\n",
       "    .colab-df-convert:hover {\n",
       "      background-color: #E2EBFA;\n",
       "      box-shadow: 0px 1px 2px rgba(60, 64, 67, 0.3), 0px 1px 3px 1px rgba(60, 64, 67, 0.15);\n",
       "      fill: #174EA6;\n",
       "    }\n",
       "\n",
       "    [theme=dark] .colab-df-convert {\n",
       "      background-color: #3B4455;\n",
       "      fill: #D2E3FC;\n",
       "    }\n",
       "\n",
       "    [theme=dark] .colab-df-convert:hover {\n",
       "      background-color: #434B5C;\n",
       "      box-shadow: 0px 1px 3px 1px rgba(0, 0, 0, 0.15);\n",
       "      filter: drop-shadow(0px 1px 2px rgba(0, 0, 0, 0.3));\n",
       "      fill: #FFFFFF;\n",
       "    }\n",
       "  </style>\n",
       "\n",
       "      <script>\n",
       "        const buttonEl =\n",
       "          document.querySelector('#df-f44c5df4-c535-4348-94dd-26ccd87c8d9b button.colab-df-convert');\n",
       "        buttonEl.style.display =\n",
       "          google.colab.kernel.accessAllowed ? 'block' : 'none';\n",
       "\n",
       "        async function convertToInteractive(key) {\n",
       "          const element = document.querySelector('#df-f44c5df4-c535-4348-94dd-26ccd87c8d9b');\n",
       "          const dataTable =\n",
       "            await google.colab.kernel.invokeFunction('convertToInteractive',\n",
       "                                                     [key], {});\n",
       "          if (!dataTable) return;\n",
       "\n",
       "          const docLinkHtml = 'Like what you see? Visit the ' +\n",
       "            '<a target=\"_blank\" href=https://colab.research.google.com/notebooks/data_table.ipynb>data table notebook</a>'\n",
       "            + ' to learn more about interactive tables.';\n",
       "          element.innerHTML = '';\n",
       "          dataTable['output_type'] = 'display_data';\n",
       "          await google.colab.output.renderOutput(dataTable, element);\n",
       "          const docLink = document.createElement('div');\n",
       "          docLink.innerHTML = docLinkHtml;\n",
       "          element.appendChild(docLink);\n",
       "        }\n",
       "      </script>\n",
       "    </div>\n",
       "  </div>\n",
       "  "
      ],
      "text/plain": [
       "               missing_count  missing_ratio\n",
       "work_id                    0          0.000\n",
       "article_title        2311266          0.810\n",
       "doi                   744220          0.261\n",
       "year                 1587472          0.557"
      ]
     },
     "execution_count": 12,
     "metadata": {},
     "output_type": "execute_result"
    }
   ],
   "source": [
    "pd.concat([work_references.isna().sum(), work_references.isna().mean()],\n",
    "          axis=1, keys=['missing_count', 'missing_ratio'])"
   ]
  },
  {
   "cell_type": "markdown",
   "metadata": {
    "id": "8SeExnQwG_sN"
   },
   "source": [
    "- In general, if some features have a very large percentage of missing data (e.g. more than 50%), it may be difficult to impute these values accurately and it is considered better to drop them.\n",
    "- We will drop the `article_title` column.\n",
    "- We will keep the `year` column for now, because we still need it for the preprocessing."
   ]
  },
  {
   "cell_type": "code",
   "execution_count": 13,
   "metadata": {
    "id": "OwOnpRgVHUL1"
   },
   "outputs": [],
   "source": [
    "work_references = work_references.drop(columns=['article_title'])"
   ]
  },
  {
   "cell_type": "markdown",
   "metadata": {
    "id": "E11I4cXk-ifZ"
   },
   "source": [
    "- We will use the `read_sql()` method to read the necessary columns from the `work_authors` table into a DataFrame, which is stored in the `work_authors` variable."
   ]
  },
  {
   "cell_type": "code",
   "execution_count": 14,
   "metadata": {
    "colab": {
     "base_uri": "https://localhost:8080/",
     "height": 241
    },
    "id": "ca80kwCOm1St",
    "outputId": "ea34e48f-ea21-455f-b734-ef3bd4fba099"
   },
   "outputs": [
    {
     "name": "stdout",
     "output_type": "stream",
     "text": [
      "Number of work_authors records: 577.214\n",
      "\n"
     ]
    },
    {
     "data": {
      "text/html": [
       "\n",
       "  <div id=\"df-05ec0312-0dac-454f-9a07-2c9b1a4eddd9\">\n",
       "    <div class=\"colab-df-container\">\n",
       "      <div>\n",
       "<style scoped>\n",
       "    .dataframe tbody tr th:only-of-type {\n",
       "        vertical-align: middle;\n",
       "    }\n",
       "\n",
       "    .dataframe tbody tr th {\n",
       "        vertical-align: top;\n",
       "    }\n",
       "\n",
       "    .dataframe thead th {\n",
       "        text-align: right;\n",
       "    }\n",
       "</style>\n",
       "<table border=\"1\" class=\"dataframe\">\n",
       "  <thead>\n",
       "    <tr style=\"text-align: right;\">\n",
       "      <th></th>\n",
       "      <th>id</th>\n",
       "      <th>work_id</th>\n",
       "    </tr>\n",
       "  </thead>\n",
       "  <tbody>\n",
       "    <tr>\n",
       "      <th>164058</th>\n",
       "      <td>22024994818</td>\n",
       "      <td>1344299</td>\n",
       "    </tr>\n",
       "    <tr>\n",
       "      <th>200109</th>\n",
       "      <td>29013311493</td>\n",
       "      <td>1770832</td>\n",
       "    </tr>\n",
       "    <tr>\n",
       "      <th>354834</th>\n",
       "      <td>48644833280</td>\n",
       "      <td>2969045</td>\n",
       "    </tr>\n",
       "    <tr>\n",
       "      <th>188228</th>\n",
       "      <td>25775243267</td>\n",
       "      <td>1573196</td>\n",
       "    </tr>\n",
       "    <tr>\n",
       "      <th>422439</th>\n",
       "      <td>53767078035</td>\n",
       "      <td>3281682</td>\n",
       "    </tr>\n",
       "  </tbody>\n",
       "</table>\n",
       "</div>\n",
       "      <button class=\"colab-df-convert\" onclick=\"convertToInteractive('df-05ec0312-0dac-454f-9a07-2c9b1a4eddd9')\"\n",
       "              title=\"Convert this dataframe to an interactive table.\"\n",
       "              style=\"display:none;\">\n",
       "        \n",
       "  <svg xmlns=\"http://www.w3.org/2000/svg\" height=\"24px\"viewBox=\"0 0 24 24\"\n",
       "       width=\"24px\">\n",
       "    <path d=\"M0 0h24v24H0V0z\" fill=\"none\"/>\n",
       "    <path d=\"M18.56 5.44l.94 2.06.94-2.06 2.06-.94-2.06-.94-.94-2.06-.94 2.06-2.06.94zm-11 1L8.5 8.5l.94-2.06 2.06-.94-2.06-.94L8.5 2.5l-.94 2.06-2.06.94zm10 10l.94 2.06.94-2.06 2.06-.94-2.06-.94-.94-2.06-.94 2.06-2.06.94z\"/><path d=\"M17.41 7.96l-1.37-1.37c-.4-.4-.92-.59-1.43-.59-.52 0-1.04.2-1.43.59L10.3 9.45l-7.72 7.72c-.78.78-.78 2.05 0 2.83L4 21.41c.39.39.9.59 1.41.59.51 0 1.02-.2 1.41-.59l7.78-7.78 2.81-2.81c.8-.78.8-2.07 0-2.86zM5.41 20L4 18.59l7.72-7.72 1.47 1.35L5.41 20z\"/>\n",
       "  </svg>\n",
       "      </button>\n",
       "      \n",
       "  <style>\n",
       "    .colab-df-container {\n",
       "      display:flex;\n",
       "      flex-wrap:wrap;\n",
       "      gap: 12px;\n",
       "    }\n",
       "\n",
       "    .colab-df-convert {\n",
       "      background-color: #E8F0FE;\n",
       "      border: none;\n",
       "      border-radius: 50%;\n",
       "      cursor: pointer;\n",
       "      display: none;\n",
       "      fill: #1967D2;\n",
       "      height: 32px;\n",
       "      padding: 0 0 0 0;\n",
       "      width: 32px;\n",
       "    }\n",
       "\n",
       "    .colab-df-convert:hover {\n",
       "      background-color: #E2EBFA;\n",
       "      box-shadow: 0px 1px 2px rgba(60, 64, 67, 0.3), 0px 1px 3px 1px rgba(60, 64, 67, 0.15);\n",
       "      fill: #174EA6;\n",
       "    }\n",
       "\n",
       "    [theme=dark] .colab-df-convert {\n",
       "      background-color: #3B4455;\n",
       "      fill: #D2E3FC;\n",
       "    }\n",
       "\n",
       "    [theme=dark] .colab-df-convert:hover {\n",
       "      background-color: #434B5C;\n",
       "      box-shadow: 0px 1px 3px 1px rgba(0, 0, 0, 0.15);\n",
       "      filter: drop-shadow(0px 1px 2px rgba(0, 0, 0, 0.3));\n",
       "      fill: #FFFFFF;\n",
       "    }\n",
       "  </style>\n",
       "\n",
       "      <script>\n",
       "        const buttonEl =\n",
       "          document.querySelector('#df-05ec0312-0dac-454f-9a07-2c9b1a4eddd9 button.colab-df-convert');\n",
       "        buttonEl.style.display =\n",
       "          google.colab.kernel.accessAllowed ? 'block' : 'none';\n",
       "\n",
       "        async function convertToInteractive(key) {\n",
       "          const element = document.querySelector('#df-05ec0312-0dac-454f-9a07-2c9b1a4eddd9');\n",
       "          const dataTable =\n",
       "            await google.colab.kernel.invokeFunction('convertToInteractive',\n",
       "                                                     [key], {});\n",
       "          if (!dataTable) return;\n",
       "\n",
       "          const docLinkHtml = 'Like what you see? Visit the ' +\n",
       "            '<a target=\"_blank\" href=https://colab.research.google.com/notebooks/data_table.ipynb>data table notebook</a>'\n",
       "            + ' to learn more about interactive tables.';\n",
       "          element.innerHTML = '';\n",
       "          dataTable['output_type'] = 'display_data';\n",
       "          await google.colab.output.renderOutput(dataTable, element);\n",
       "          const docLink = document.createElement('div');\n",
       "          docLink.innerHTML = docLinkHtml;\n",
       "          element.appendChild(docLink);\n",
       "        }\n",
       "      </script>\n",
       "    </div>\n",
       "  </div>\n",
       "  "
      ],
      "text/plain": [
       "                 id  work_id\n",
       "164058  22024994818  1344299\n",
       "200109  29013311493  1770832\n",
       "354834  48644833280  2969045\n",
       "188228  25775243267  1573196\n",
       "422439  53767078035  3281682"
      ]
     },
     "execution_count": 14,
     "metadata": {},
     "output_type": "execute_result"
    }
   ],
   "source": [
    "work_authors = pd.read_sql(\"SELECT id, work_id FROM work_authors\", conn)\n",
    "print('Number of work_authors records:', format(len(work_authors), \",d\").replace(\",\", \".\"), end='\\n\\n')\n",
    "work_authors.sample(5)"
   ]
  },
  {
   "cell_type": "markdown",
   "metadata": {
    "id": "93aNPgHiIw9g"
   },
   "source": [
    "- We will check for missing values."
   ]
  },
  {
   "cell_type": "code",
   "execution_count": 15,
   "metadata": {
    "colab": {
     "base_uri": "https://localhost:8080/",
     "height": 112
    },
    "id": "W3F_WsNf1XvV",
    "outputId": "38fda945-c106-4651-942f-1655b3aea0d0"
   },
   "outputs": [
    {
     "data": {
      "text/html": [
       "\n",
       "  <div id=\"df-791ccbec-d8c3-412a-8d22-1bde9cb9eae2\">\n",
       "    <div class=\"colab-df-container\">\n",
       "      <div>\n",
       "<style scoped>\n",
       "    .dataframe tbody tr th:only-of-type {\n",
       "        vertical-align: middle;\n",
       "    }\n",
       "\n",
       "    .dataframe tbody tr th {\n",
       "        vertical-align: top;\n",
       "    }\n",
       "\n",
       "    .dataframe thead th {\n",
       "        text-align: right;\n",
       "    }\n",
       "</style>\n",
       "<table border=\"1\" class=\"dataframe\">\n",
       "  <thead>\n",
       "    <tr style=\"text-align: right;\">\n",
       "      <th></th>\n",
       "      <th>missing_count</th>\n",
       "      <th>missing_ratio</th>\n",
       "    </tr>\n",
       "  </thead>\n",
       "  <tbody>\n",
       "    <tr>\n",
       "      <th>id</th>\n",
       "      <td>0</td>\n",
       "      <td>0.000</td>\n",
       "    </tr>\n",
       "    <tr>\n",
       "      <th>work_id</th>\n",
       "      <td>0</td>\n",
       "      <td>0.000</td>\n",
       "    </tr>\n",
       "  </tbody>\n",
       "</table>\n",
       "</div>\n",
       "      <button class=\"colab-df-convert\" onclick=\"convertToInteractive('df-791ccbec-d8c3-412a-8d22-1bde9cb9eae2')\"\n",
       "              title=\"Convert this dataframe to an interactive table.\"\n",
       "              style=\"display:none;\">\n",
       "        \n",
       "  <svg xmlns=\"http://www.w3.org/2000/svg\" height=\"24px\"viewBox=\"0 0 24 24\"\n",
       "       width=\"24px\">\n",
       "    <path d=\"M0 0h24v24H0V0z\" fill=\"none\"/>\n",
       "    <path d=\"M18.56 5.44l.94 2.06.94-2.06 2.06-.94-2.06-.94-.94-2.06-.94 2.06-2.06.94zm-11 1L8.5 8.5l.94-2.06 2.06-.94-2.06-.94L8.5 2.5l-.94 2.06-2.06.94zm10 10l.94 2.06.94-2.06 2.06-.94-2.06-.94-.94-2.06-.94 2.06-2.06.94z\"/><path d=\"M17.41 7.96l-1.37-1.37c-.4-.4-.92-.59-1.43-.59-.52 0-1.04.2-1.43.59L10.3 9.45l-7.72 7.72c-.78.78-.78 2.05 0 2.83L4 21.41c.39.39.9.59 1.41.59.51 0 1.02-.2 1.41-.59l7.78-7.78 2.81-2.81c.8-.78.8-2.07 0-2.86zM5.41 20L4 18.59l7.72-7.72 1.47 1.35L5.41 20z\"/>\n",
       "  </svg>\n",
       "      </button>\n",
       "      \n",
       "  <style>\n",
       "    .colab-df-container {\n",
       "      display:flex;\n",
       "      flex-wrap:wrap;\n",
       "      gap: 12px;\n",
       "    }\n",
       "\n",
       "    .colab-df-convert {\n",
       "      background-color: #E8F0FE;\n",
       "      border: none;\n",
       "      border-radius: 50%;\n",
       "      cursor: pointer;\n",
       "      display: none;\n",
       "      fill: #1967D2;\n",
       "      height: 32px;\n",
       "      padding: 0 0 0 0;\n",
       "      width: 32px;\n",
       "    }\n",
       "\n",
       "    .colab-df-convert:hover {\n",
       "      background-color: #E2EBFA;\n",
       "      box-shadow: 0px 1px 2px rgba(60, 64, 67, 0.3), 0px 1px 3px 1px rgba(60, 64, 67, 0.15);\n",
       "      fill: #174EA6;\n",
       "    }\n",
       "\n",
       "    [theme=dark] .colab-df-convert {\n",
       "      background-color: #3B4455;\n",
       "      fill: #D2E3FC;\n",
       "    }\n",
       "\n",
       "    [theme=dark] .colab-df-convert:hover {\n",
       "      background-color: #434B5C;\n",
       "      box-shadow: 0px 1px 3px 1px rgba(0, 0, 0, 0.15);\n",
       "      filter: drop-shadow(0px 1px 2px rgba(0, 0, 0, 0.3));\n",
       "      fill: #FFFFFF;\n",
       "    }\n",
       "  </style>\n",
       "\n",
       "      <script>\n",
       "        const buttonEl =\n",
       "          document.querySelector('#df-791ccbec-d8c3-412a-8d22-1bde9cb9eae2 button.colab-df-convert');\n",
       "        buttonEl.style.display =\n",
       "          google.colab.kernel.accessAllowed ? 'block' : 'none';\n",
       "\n",
       "        async function convertToInteractive(key) {\n",
       "          const element = document.querySelector('#df-791ccbec-d8c3-412a-8d22-1bde9cb9eae2');\n",
       "          const dataTable =\n",
       "            await google.colab.kernel.invokeFunction('convertToInteractive',\n",
       "                                                     [key], {});\n",
       "          if (!dataTable) return;\n",
       "\n",
       "          const docLinkHtml = 'Like what you see? Visit the ' +\n",
       "            '<a target=\"_blank\" href=https://colab.research.google.com/notebooks/data_table.ipynb>data table notebook</a>'\n",
       "            + ' to learn more about interactive tables.';\n",
       "          element.innerHTML = '';\n",
       "          dataTable['output_type'] = 'display_data';\n",
       "          await google.colab.output.renderOutput(dataTable, element);\n",
       "          const docLink = document.createElement('div');\n",
       "          docLink.innerHTML = docLinkHtml;\n",
       "          element.appendChild(docLink);\n",
       "        }\n",
       "      </script>\n",
       "    </div>\n",
       "  </div>\n",
       "  "
      ],
      "text/plain": [
       "         missing_count  missing_ratio\n",
       "id                   0          0.000\n",
       "work_id              0          0.000"
      ]
     },
     "execution_count": 15,
     "metadata": {},
     "output_type": "execute_result"
    }
   ],
   "source": [
    "pd.concat([work_authors.isna().sum(), work_authors.isna().mean()],\n",
    "          axis=1, keys=['missing_count', 'missing_ratio'])"
   ]
  },
  {
   "cell_type": "markdown",
   "metadata": {
    "id": "PVGWLJJghZq6"
   },
   "source": [
    "- We will use the `read_sql()` method to read the columns from the `author_affiliations` table into a DataFrame, which is stored in the `author_affiliations` variable."
   ]
  },
  {
   "cell_type": "code",
   "execution_count": 16,
   "metadata": {
    "colab": {
     "base_uri": "https://localhost:8080/",
     "height": 241
    },
    "id": "bQATdvwDgxKy",
    "outputId": "0e8e6953-1c8b-445e-8d30-8221878b1af8"
   },
   "outputs": [
    {
     "name": "stdout",
     "output_type": "stream",
     "text": [
      "Number of author_affiliations records: 327.646\n",
      "\n"
     ]
    },
    {
     "data": {
      "text/html": [
       "\n",
       "  <div id=\"df-2c42cb73-611d-49e6-95ec-37d56967089a\">\n",
       "    <div class=\"colab-df-container\">\n",
       "      <div>\n",
       "<style scoped>\n",
       "    .dataframe tbody tr th:only-of-type {\n",
       "        vertical-align: middle;\n",
       "    }\n",
       "\n",
       "    .dataframe tbody tr th {\n",
       "        vertical-align: top;\n",
       "    }\n",
       "\n",
       "    .dataframe thead th {\n",
       "        text-align: right;\n",
       "    }\n",
       "</style>\n",
       "<table border=\"1\" class=\"dataframe\">\n",
       "  <thead>\n",
       "    <tr style=\"text-align: right;\">\n",
       "      <th></th>\n",
       "      <th>author_id</th>\n",
       "      <th>name</th>\n",
       "    </tr>\n",
       "  </thead>\n",
       "  <tbody>\n",
       "    <tr>\n",
       "      <th>101148</th>\n",
       "      <td>17994694661</td>\n",
       "      <td>Department of Surgical and Biomedical Sciences...</td>\n",
       "    </tr>\n",
       "    <tr>\n",
       "      <th>75286</th>\n",
       "      <td>12399017984</td>\n",
       "      <td>Department of Computer Science, Hong Kong Bapt...</td>\n",
       "    </tr>\n",
       "    <tr>\n",
       "      <th>11165</th>\n",
       "      <td>2689646597</td>\n",
       "      <td>Department of Nuclear Science and Engineering ...</td>\n",
       "    </tr>\n",
       "    <tr>\n",
       "      <th>191791</th>\n",
       "      <td>41661251591</td>\n",
       "      <td>College of Environment and Safety Engineering</td>\n",
       "    </tr>\n",
       "    <tr>\n",
       "      <th>77987</th>\n",
       "      <td>12676939785</td>\n",
       "      <td>Boston University Medical Center, Boston, Mass...</td>\n",
       "    </tr>\n",
       "  </tbody>\n",
       "</table>\n",
       "</div>\n",
       "      <button class=\"colab-df-convert\" onclick=\"convertToInteractive('df-2c42cb73-611d-49e6-95ec-37d56967089a')\"\n",
       "              title=\"Convert this dataframe to an interactive table.\"\n",
       "              style=\"display:none;\">\n",
       "        \n",
       "  <svg xmlns=\"http://www.w3.org/2000/svg\" height=\"24px\"viewBox=\"0 0 24 24\"\n",
       "       width=\"24px\">\n",
       "    <path d=\"M0 0h24v24H0V0z\" fill=\"none\"/>\n",
       "    <path d=\"M18.56 5.44l.94 2.06.94-2.06 2.06-.94-2.06-.94-.94-2.06-.94 2.06-2.06.94zm-11 1L8.5 8.5l.94-2.06 2.06-.94-2.06-.94L8.5 2.5l-.94 2.06-2.06.94zm10 10l.94 2.06.94-2.06 2.06-.94-2.06-.94-.94-2.06-.94 2.06-2.06.94z\"/><path d=\"M17.41 7.96l-1.37-1.37c-.4-.4-.92-.59-1.43-.59-.52 0-1.04.2-1.43.59L10.3 9.45l-7.72 7.72c-.78.78-.78 2.05 0 2.83L4 21.41c.39.39.9.59 1.41.59.51 0 1.02-.2 1.41-.59l7.78-7.78 2.81-2.81c.8-.78.8-2.07 0-2.86zM5.41 20L4 18.59l7.72-7.72 1.47 1.35L5.41 20z\"/>\n",
       "  </svg>\n",
       "      </button>\n",
       "      \n",
       "  <style>\n",
       "    .colab-df-container {\n",
       "      display:flex;\n",
       "      flex-wrap:wrap;\n",
       "      gap: 12px;\n",
       "    }\n",
       "\n",
       "    .colab-df-convert {\n",
       "      background-color: #E8F0FE;\n",
       "      border: none;\n",
       "      border-radius: 50%;\n",
       "      cursor: pointer;\n",
       "      display: none;\n",
       "      fill: #1967D2;\n",
       "      height: 32px;\n",
       "      padding: 0 0 0 0;\n",
       "      width: 32px;\n",
       "    }\n",
       "\n",
       "    .colab-df-convert:hover {\n",
       "      background-color: #E2EBFA;\n",
       "      box-shadow: 0px 1px 2px rgba(60, 64, 67, 0.3), 0px 1px 3px 1px rgba(60, 64, 67, 0.15);\n",
       "      fill: #174EA6;\n",
       "    }\n",
       "\n",
       "    [theme=dark] .colab-df-convert {\n",
       "      background-color: #3B4455;\n",
       "      fill: #D2E3FC;\n",
       "    }\n",
       "\n",
       "    [theme=dark] .colab-df-convert:hover {\n",
       "      background-color: #434B5C;\n",
       "      box-shadow: 0px 1px 3px 1px rgba(0, 0, 0, 0.15);\n",
       "      filter: drop-shadow(0px 1px 2px rgba(0, 0, 0, 0.3));\n",
       "      fill: #FFFFFF;\n",
       "    }\n",
       "  </style>\n",
       "\n",
       "      <script>\n",
       "        const buttonEl =\n",
       "          document.querySelector('#df-2c42cb73-611d-49e6-95ec-37d56967089a button.colab-df-convert');\n",
       "        buttonEl.style.display =\n",
       "          google.colab.kernel.accessAllowed ? 'block' : 'none';\n",
       "\n",
       "        async function convertToInteractive(key) {\n",
       "          const element = document.querySelector('#df-2c42cb73-611d-49e6-95ec-37d56967089a');\n",
       "          const dataTable =\n",
       "            await google.colab.kernel.invokeFunction('convertToInteractive',\n",
       "                                                     [key], {});\n",
       "          if (!dataTable) return;\n",
       "\n",
       "          const docLinkHtml = 'Like what you see? Visit the ' +\n",
       "            '<a target=\"_blank\" href=https://colab.research.google.com/notebooks/data_table.ipynb>data table notebook</a>'\n",
       "            + ' to learn more about interactive tables.';\n",
       "          element.innerHTML = '';\n",
       "          dataTable['output_type'] = 'display_data';\n",
       "          await google.colab.output.renderOutput(dataTable, element);\n",
       "          const docLink = document.createElement('div');\n",
       "          docLink.innerHTML = docLinkHtml;\n",
       "          element.appendChild(docLink);\n",
       "        }\n",
       "      </script>\n",
       "    </div>\n",
       "  </div>\n",
       "  "
      ],
      "text/plain": [
       "          author_id                                               name\n",
       "101148  17994694661  Department of Surgical and Biomedical Sciences...\n",
       "75286   12399017984  Department of Computer Science, Hong Kong Bapt...\n",
       "11165    2689646597  Department of Nuclear Science and Engineering ...\n",
       "191791  41661251591      College of Environment and Safety Engineering\n",
       "77987   12676939785  Boston University Medical Center, Boston, Mass..."
      ]
     },
     "execution_count": 16,
     "metadata": {},
     "output_type": "execute_result"
    }
   ],
   "source": [
    "author_affiliations = pd.read_sql(\"SELECT author_id, name FROM author_affiliations\", conn)\n",
    "print('Number of author_affiliations records:', format(len(author_affiliations), \",d\").replace(\",\", \".\"), end='\\n\\n')\n",
    "author_affiliations.sample(5)"
   ]
  },
  {
   "cell_type": "markdown",
   "metadata": {
    "id": "QlFMML7Lh_C4"
   },
   "source": [
    "- We will check for missing values."
   ]
  },
  {
   "cell_type": "code",
   "execution_count": 17,
   "metadata": {
    "colab": {
     "base_uri": "https://localhost:8080/",
     "height": 112
    },
    "id": "jBFxf1VxhIGH",
    "outputId": "8c62ba36-b662-43e8-9de2-b810da564a3b"
   },
   "outputs": [
    {
     "data": {
      "text/html": [
       "\n",
       "  <div id=\"df-a8909efc-5088-4c06-bafd-6232ecf4d999\">\n",
       "    <div class=\"colab-df-container\">\n",
       "      <div>\n",
       "<style scoped>\n",
       "    .dataframe tbody tr th:only-of-type {\n",
       "        vertical-align: middle;\n",
       "    }\n",
       "\n",
       "    .dataframe tbody tr th {\n",
       "        vertical-align: top;\n",
       "    }\n",
       "\n",
       "    .dataframe thead th {\n",
       "        text-align: right;\n",
       "    }\n",
       "</style>\n",
       "<table border=\"1\" class=\"dataframe\">\n",
       "  <thead>\n",
       "    <tr style=\"text-align: right;\">\n",
       "      <th></th>\n",
       "      <th>missing_count</th>\n",
       "      <th>missing_ratio</th>\n",
       "    </tr>\n",
       "  </thead>\n",
       "  <tbody>\n",
       "    <tr>\n",
       "      <th>author_id</th>\n",
       "      <td>0</td>\n",
       "      <td>0.000</td>\n",
       "    </tr>\n",
       "    <tr>\n",
       "      <th>name</th>\n",
       "      <td>8</td>\n",
       "      <td>0.000</td>\n",
       "    </tr>\n",
       "  </tbody>\n",
       "</table>\n",
       "</div>\n",
       "      <button class=\"colab-df-convert\" onclick=\"convertToInteractive('df-a8909efc-5088-4c06-bafd-6232ecf4d999')\"\n",
       "              title=\"Convert this dataframe to an interactive table.\"\n",
       "              style=\"display:none;\">\n",
       "        \n",
       "  <svg xmlns=\"http://www.w3.org/2000/svg\" height=\"24px\"viewBox=\"0 0 24 24\"\n",
       "       width=\"24px\">\n",
       "    <path d=\"M0 0h24v24H0V0z\" fill=\"none\"/>\n",
       "    <path d=\"M18.56 5.44l.94 2.06.94-2.06 2.06-.94-2.06-.94-.94-2.06-.94 2.06-2.06.94zm-11 1L8.5 8.5l.94-2.06 2.06-.94-2.06-.94L8.5 2.5l-.94 2.06-2.06.94zm10 10l.94 2.06.94-2.06 2.06-.94-2.06-.94-.94-2.06-.94 2.06-2.06.94z\"/><path d=\"M17.41 7.96l-1.37-1.37c-.4-.4-.92-.59-1.43-.59-.52 0-1.04.2-1.43.59L10.3 9.45l-7.72 7.72c-.78.78-.78 2.05 0 2.83L4 21.41c.39.39.9.59 1.41.59.51 0 1.02-.2 1.41-.59l7.78-7.78 2.81-2.81c.8-.78.8-2.07 0-2.86zM5.41 20L4 18.59l7.72-7.72 1.47 1.35L5.41 20z\"/>\n",
       "  </svg>\n",
       "      </button>\n",
       "      \n",
       "  <style>\n",
       "    .colab-df-container {\n",
       "      display:flex;\n",
       "      flex-wrap:wrap;\n",
       "      gap: 12px;\n",
       "    }\n",
       "\n",
       "    .colab-df-convert {\n",
       "      background-color: #E8F0FE;\n",
       "      border: none;\n",
       "      border-radius: 50%;\n",
       "      cursor: pointer;\n",
       "      display: none;\n",
       "      fill: #1967D2;\n",
       "      height: 32px;\n",
       "      padding: 0 0 0 0;\n",
       "      width: 32px;\n",
       "    }\n",
       "\n",
       "    .colab-df-convert:hover {\n",
       "      background-color: #E2EBFA;\n",
       "      box-shadow: 0px 1px 2px rgba(60, 64, 67, 0.3), 0px 1px 3px 1px rgba(60, 64, 67, 0.15);\n",
       "      fill: #174EA6;\n",
       "    }\n",
       "\n",
       "    [theme=dark] .colab-df-convert {\n",
       "      background-color: #3B4455;\n",
       "      fill: #D2E3FC;\n",
       "    }\n",
       "\n",
       "    [theme=dark] .colab-df-convert:hover {\n",
       "      background-color: #434B5C;\n",
       "      box-shadow: 0px 1px 3px 1px rgba(0, 0, 0, 0.15);\n",
       "      filter: drop-shadow(0px 1px 2px rgba(0, 0, 0, 0.3));\n",
       "      fill: #FFFFFF;\n",
       "    }\n",
       "  </style>\n",
       "\n",
       "      <script>\n",
       "        const buttonEl =\n",
       "          document.querySelector('#df-a8909efc-5088-4c06-bafd-6232ecf4d999 button.colab-df-convert');\n",
       "        buttonEl.style.display =\n",
       "          google.colab.kernel.accessAllowed ? 'block' : 'none';\n",
       "\n",
       "        async function convertToInteractive(key) {\n",
       "          const element = document.querySelector('#df-a8909efc-5088-4c06-bafd-6232ecf4d999');\n",
       "          const dataTable =\n",
       "            await google.colab.kernel.invokeFunction('convertToInteractive',\n",
       "                                                     [key], {});\n",
       "          if (!dataTable) return;\n",
       "\n",
       "          const docLinkHtml = 'Like what you see? Visit the ' +\n",
       "            '<a target=\"_blank\" href=https://colab.research.google.com/notebooks/data_table.ipynb>data table notebook</a>'\n",
       "            + ' to learn more about interactive tables.';\n",
       "          element.innerHTML = '';\n",
       "          dataTable['output_type'] = 'display_data';\n",
       "          await google.colab.output.renderOutput(dataTable, element);\n",
       "          const docLink = document.createElement('div');\n",
       "          docLink.innerHTML = docLinkHtml;\n",
       "          element.appendChild(docLink);\n",
       "        }\n",
       "      </script>\n",
       "    </div>\n",
       "  </div>\n",
       "  "
      ],
      "text/plain": [
       "           missing_count  missing_ratio\n",
       "author_id              0          0.000\n",
       "name                   8          0.000"
      ]
     },
     "execution_count": 17,
     "metadata": {},
     "output_type": "execute_result"
    }
   ],
   "source": [
    "pd.concat([author_affiliations.isna().sum(), author_affiliations.isna().mean()],\n",
    "          axis=1, keys=['missing_count', 'missing_ratio'])"
   ]
  },
  {
   "cell_type": "markdown",
   "metadata": {
    "id": "F9D-Xj2e1l-1"
   },
   "source": [
    "- It looks like there are not any missing values, however, as you can see below there are actually a lot of affiliations missing."
   ]
  },
  {
   "cell_type": "code",
   "execution_count": 18,
   "metadata": {
    "colab": {
     "base_uri": "https://localhost:8080/",
     "height": 112
    },
    "id": "w2hcDuE127Hf",
    "outputId": "71505b06-2b1f-4183-9377-518402fe6b2d"
   },
   "outputs": [
    {
     "data": {
      "text/html": [
       "\n",
       "  <div id=\"df-311bc5af-a566-4ccd-94b2-ea13c7c6cf98\">\n",
       "    <div class=\"colab-df-container\">\n",
       "      <div>\n",
       "<style scoped>\n",
       "    .dataframe tbody tr th:only-of-type {\n",
       "        vertical-align: middle;\n",
       "    }\n",
       "\n",
       "    .dataframe tbody tr th {\n",
       "        vertical-align: top;\n",
       "    }\n",
       "\n",
       "    .dataframe thead th {\n",
       "        text-align: right;\n",
       "    }\n",
       "</style>\n",
       "<table border=\"1\" class=\"dataframe\">\n",
       "  <thead>\n",
       "    <tr style=\"text-align: right;\">\n",
       "      <th></th>\n",
       "      <th>missing_count</th>\n",
       "      <th>missing_ratio</th>\n",
       "    </tr>\n",
       "  </thead>\n",
       "  <tbody>\n",
       "    <tr>\n",
       "      <th>author_id</th>\n",
       "      <td>321452</td>\n",
       "      <td>0.495</td>\n",
       "    </tr>\n",
       "    <tr>\n",
       "      <th>name</th>\n",
       "      <td>321460</td>\n",
       "      <td>0.495</td>\n",
       "    </tr>\n",
       "  </tbody>\n",
       "</table>\n",
       "</div>\n",
       "      <button class=\"colab-df-convert\" onclick=\"convertToInteractive('df-311bc5af-a566-4ccd-94b2-ea13c7c6cf98')\"\n",
       "              title=\"Convert this dataframe to an interactive table.\"\n",
       "              style=\"display:none;\">\n",
       "        \n",
       "  <svg xmlns=\"http://www.w3.org/2000/svg\" height=\"24px\"viewBox=\"0 0 24 24\"\n",
       "       width=\"24px\">\n",
       "    <path d=\"M0 0h24v24H0V0z\" fill=\"none\"/>\n",
       "    <path d=\"M18.56 5.44l.94 2.06.94-2.06 2.06-.94-2.06-.94-.94-2.06-.94 2.06-2.06.94zm-11 1L8.5 8.5l.94-2.06 2.06-.94-2.06-.94L8.5 2.5l-.94 2.06-2.06.94zm10 10l.94 2.06.94-2.06 2.06-.94-2.06-.94-.94-2.06-.94 2.06-2.06.94z\"/><path d=\"M17.41 7.96l-1.37-1.37c-.4-.4-.92-.59-1.43-.59-.52 0-1.04.2-1.43.59L10.3 9.45l-7.72 7.72c-.78.78-.78 2.05 0 2.83L4 21.41c.39.39.9.59 1.41.59.51 0 1.02-.2 1.41-.59l7.78-7.78 2.81-2.81c.8-.78.8-2.07 0-2.86zM5.41 20L4 18.59l7.72-7.72 1.47 1.35L5.41 20z\"/>\n",
       "  </svg>\n",
       "      </button>\n",
       "      \n",
       "  <style>\n",
       "    .colab-df-container {\n",
       "      display:flex;\n",
       "      flex-wrap:wrap;\n",
       "      gap: 12px;\n",
       "    }\n",
       "\n",
       "    .colab-df-convert {\n",
       "      background-color: #E8F0FE;\n",
       "      border: none;\n",
       "      border-radius: 50%;\n",
       "      cursor: pointer;\n",
       "      display: none;\n",
       "      fill: #1967D2;\n",
       "      height: 32px;\n",
       "      padding: 0 0 0 0;\n",
       "      width: 32px;\n",
       "    }\n",
       "\n",
       "    .colab-df-convert:hover {\n",
       "      background-color: #E2EBFA;\n",
       "      box-shadow: 0px 1px 2px rgba(60, 64, 67, 0.3), 0px 1px 3px 1px rgba(60, 64, 67, 0.15);\n",
       "      fill: #174EA6;\n",
       "    }\n",
       "\n",
       "    [theme=dark] .colab-df-convert {\n",
       "      background-color: #3B4455;\n",
       "      fill: #D2E3FC;\n",
       "    }\n",
       "\n",
       "    [theme=dark] .colab-df-convert:hover {\n",
       "      background-color: #434B5C;\n",
       "      box-shadow: 0px 1px 3px 1px rgba(0, 0, 0, 0.15);\n",
       "      filter: drop-shadow(0px 1px 2px rgba(0, 0, 0, 0.3));\n",
       "      fill: #FFFFFF;\n",
       "    }\n",
       "  </style>\n",
       "\n",
       "      <script>\n",
       "        const buttonEl =\n",
       "          document.querySelector('#df-311bc5af-a566-4ccd-94b2-ea13c7c6cf98 button.colab-df-convert');\n",
       "        buttonEl.style.display =\n",
       "          google.colab.kernel.accessAllowed ? 'block' : 'none';\n",
       "\n",
       "        async function convertToInteractive(key) {\n",
       "          const element = document.querySelector('#df-311bc5af-a566-4ccd-94b2-ea13c7c6cf98');\n",
       "          const dataTable =\n",
       "            await google.colab.kernel.invokeFunction('convertToInteractive',\n",
       "                                                     [key], {});\n",
       "          if (!dataTable) return;\n",
       "\n",
       "          const docLinkHtml = 'Like what you see? Visit the ' +\n",
       "            '<a target=\"_blank\" href=https://colab.research.google.com/notebooks/data_table.ipynb>data table notebook</a>'\n",
       "            + ' to learn more about interactive tables.';\n",
       "          element.innerHTML = '';\n",
       "          dataTable['output_type'] = 'display_data';\n",
       "          await google.colab.output.renderOutput(dataTable, element);\n",
       "          const docLink = document.createElement('div');\n",
       "          docLink.innerHTML = docLinkHtml;\n",
       "          element.appendChild(docLink);\n",
       "        }\n",
       "      </script>\n",
       "    </div>\n",
       "  </div>\n",
       "  "
      ],
      "text/plain": [
       "           missing_count  missing_ratio\n",
       "author_id         321452          0.495\n",
       "name              321460          0.495"
      ]
     },
     "execution_count": 18,
     "metadata": {},
     "output_type": "execute_result"
    }
   ],
   "source": [
    "join = pd.merge(work_authors, author_affiliations, left_on='id', right_on='author_id', how='left')\n",
    "pd.concat([join[['author_id', 'name']].isna().sum(), join[['author_id', 'name']].isna().mean()],\n",
    "          axis=1, keys=['missing_count', 'missing_ratio'])"
   ]
  },
  {
   "cell_type": "markdown",
   "metadata": {
    "id": "DJaPTbiQ-lfs"
   },
   "source": [
    "- We will use the `read_sql()` method to read the columns from the `work_subjects` table into a DataFrame, which is stored in the `work_subjects` variable."
   ]
  },
  {
   "cell_type": "code",
   "execution_count": 19,
   "metadata": {
    "colab": {
     "base_uri": "https://localhost:8080/",
     "height": 241
    },
    "id": "impVI1MnnO1B",
    "outputId": "eaaf9f0d-f9e5-4d62-f7ab-161cdb29e642"
   },
   "outputs": [
    {
     "name": "stdout",
     "output_type": "stream",
     "text": [
      "Number of work_subjects records: 234.357\n",
      "\n"
     ]
    },
    {
     "data": {
      "text/html": [
       "\n",
       "  <div id=\"df-9c5788dc-e2ba-401b-b6c0-db7a353ba26c\">\n",
       "    <div class=\"colab-df-container\">\n",
       "      <div>\n",
       "<style scoped>\n",
       "    .dataframe tbody tr th:only-of-type {\n",
       "        vertical-align: middle;\n",
       "    }\n",
       "\n",
       "    .dataframe tbody tr th {\n",
       "        vertical-align: top;\n",
       "    }\n",
       "\n",
       "    .dataframe thead th {\n",
       "        text-align: right;\n",
       "    }\n",
       "</style>\n",
       "<table border=\"1\" class=\"dataframe\">\n",
       "  <thead>\n",
       "    <tr style=\"text-align: right;\">\n",
       "      <th></th>\n",
       "      <th>work_id</th>\n",
       "      <th>name</th>\n",
       "    </tr>\n",
       "  </thead>\n",
       "  <tbody>\n",
       "    <tr>\n",
       "      <th>217371</th>\n",
       "      <td>4064161</td>\n",
       "      <td>Health Professions (miscellaneous)</td>\n",
       "    </tr>\n",
       "    <tr>\n",
       "      <th>71841</th>\n",
       "      <td>1117296</td>\n",
       "      <td>Ecology</td>\n",
       "    </tr>\n",
       "    <tr>\n",
       "      <th>224198</th>\n",
       "      <td>4165351</td>\n",
       "      <td>Clinical Psychology</td>\n",
       "    </tr>\n",
       "    <tr>\n",
       "      <th>156395</th>\n",
       "      <td>2983302</td>\n",
       "      <td>Organic Chemistry</td>\n",
       "    </tr>\n",
       "    <tr>\n",
       "      <th>192610</th>\n",
       "      <td>3622108</td>\n",
       "      <td>General Materials Science</td>\n",
       "    </tr>\n",
       "  </tbody>\n",
       "</table>\n",
       "</div>\n",
       "      <button class=\"colab-df-convert\" onclick=\"convertToInteractive('df-9c5788dc-e2ba-401b-b6c0-db7a353ba26c')\"\n",
       "              title=\"Convert this dataframe to an interactive table.\"\n",
       "              style=\"display:none;\">\n",
       "        \n",
       "  <svg xmlns=\"http://www.w3.org/2000/svg\" height=\"24px\"viewBox=\"0 0 24 24\"\n",
       "       width=\"24px\">\n",
       "    <path d=\"M0 0h24v24H0V0z\" fill=\"none\"/>\n",
       "    <path d=\"M18.56 5.44l.94 2.06.94-2.06 2.06-.94-2.06-.94-.94-2.06-.94 2.06-2.06.94zm-11 1L8.5 8.5l.94-2.06 2.06-.94-2.06-.94L8.5 2.5l-.94 2.06-2.06.94zm10 10l.94 2.06.94-2.06 2.06-.94-2.06-.94-.94-2.06-.94 2.06-2.06.94z\"/><path d=\"M17.41 7.96l-1.37-1.37c-.4-.4-.92-.59-1.43-.59-.52 0-1.04.2-1.43.59L10.3 9.45l-7.72 7.72c-.78.78-.78 2.05 0 2.83L4 21.41c.39.39.9.59 1.41.59.51 0 1.02-.2 1.41-.59l7.78-7.78 2.81-2.81c.8-.78.8-2.07 0-2.86zM5.41 20L4 18.59l7.72-7.72 1.47 1.35L5.41 20z\"/>\n",
       "  </svg>\n",
       "      </button>\n",
       "      \n",
       "  <style>\n",
       "    .colab-df-container {\n",
       "      display:flex;\n",
       "      flex-wrap:wrap;\n",
       "      gap: 12px;\n",
       "    }\n",
       "\n",
       "    .colab-df-convert {\n",
       "      background-color: #E8F0FE;\n",
       "      border: none;\n",
       "      border-radius: 50%;\n",
       "      cursor: pointer;\n",
       "      display: none;\n",
       "      fill: #1967D2;\n",
       "      height: 32px;\n",
       "      padding: 0 0 0 0;\n",
       "      width: 32px;\n",
       "    }\n",
       "\n",
       "    .colab-df-convert:hover {\n",
       "      background-color: #E2EBFA;\n",
       "      box-shadow: 0px 1px 2px rgba(60, 64, 67, 0.3), 0px 1px 3px 1px rgba(60, 64, 67, 0.15);\n",
       "      fill: #174EA6;\n",
       "    }\n",
       "\n",
       "    [theme=dark] .colab-df-convert {\n",
       "      background-color: #3B4455;\n",
       "      fill: #D2E3FC;\n",
       "    }\n",
       "\n",
       "    [theme=dark] .colab-df-convert:hover {\n",
       "      background-color: #434B5C;\n",
       "      box-shadow: 0px 1px 3px 1px rgba(0, 0, 0, 0.15);\n",
       "      filter: drop-shadow(0px 1px 2px rgba(0, 0, 0, 0.3));\n",
       "      fill: #FFFFFF;\n",
       "    }\n",
       "  </style>\n",
       "\n",
       "      <script>\n",
       "        const buttonEl =\n",
       "          document.querySelector('#df-9c5788dc-e2ba-401b-b6c0-db7a353ba26c button.colab-df-convert');\n",
       "        buttonEl.style.display =\n",
       "          google.colab.kernel.accessAllowed ? 'block' : 'none';\n",
       "\n",
       "        async function convertToInteractive(key) {\n",
       "          const element = document.querySelector('#df-9c5788dc-e2ba-401b-b6c0-db7a353ba26c');\n",
       "          const dataTable =\n",
       "            await google.colab.kernel.invokeFunction('convertToInteractive',\n",
       "                                                     [key], {});\n",
       "          if (!dataTable) return;\n",
       "\n",
       "          const docLinkHtml = 'Like what you see? Visit the ' +\n",
       "            '<a target=\"_blank\" href=https://colab.research.google.com/notebooks/data_table.ipynb>data table notebook</a>'\n",
       "            + ' to learn more about interactive tables.';\n",
       "          element.innerHTML = '';\n",
       "          dataTable['output_type'] = 'display_data';\n",
       "          await google.colab.output.renderOutput(dataTable, element);\n",
       "          const docLink = document.createElement('div');\n",
       "          docLink.innerHTML = docLinkHtml;\n",
       "          element.appendChild(docLink);\n",
       "        }\n",
       "      </script>\n",
       "    </div>\n",
       "  </div>\n",
       "  "
      ],
      "text/plain": [
       "        work_id                                name\n",
       "217371  4064161  Health Professions (miscellaneous)\n",
       "71841   1117296                             Ecology\n",
       "224198  4165351                 Clinical Psychology\n",
       "156395  2983302                   Organic Chemistry\n",
       "192610  3622108           General Materials Science"
      ]
     },
     "execution_count": 19,
     "metadata": {},
     "output_type": "execute_result"
    }
   ],
   "source": [
    "work_subjects = pd.read_sql(\"SELECT work_id, name FROM work_subjects\", conn)\n",
    "print('Number of work_subjects records:', format(len(work_subjects), \",d\").replace(\",\", \".\"), end='\\n\\n')\n",
    "work_subjects.sample(5)"
   ]
  },
  {
   "cell_type": "markdown",
   "metadata": {
    "id": "pIKpz8OiI2SH"
   },
   "source": [
    "- We will check whether sufficient amount of data are present for each feature, to be able to use it in our model."
   ]
  },
  {
   "cell_type": "code",
   "execution_count": 20,
   "metadata": {
    "colab": {
     "base_uri": "https://localhost:8080/",
     "height": 112
    },
    "id": "ffKBeqL-6zSG",
    "outputId": "ed68e458-3005-470e-8b21-9129a30e355f"
   },
   "outputs": [
    {
     "data": {
      "text/html": [
       "\n",
       "  <div id=\"df-3fc9adf3-d2e2-4fbf-a658-5d9846d129c3\">\n",
       "    <div class=\"colab-df-container\">\n",
       "      <div>\n",
       "<style scoped>\n",
       "    .dataframe tbody tr th:only-of-type {\n",
       "        vertical-align: middle;\n",
       "    }\n",
       "\n",
       "    .dataframe tbody tr th {\n",
       "        vertical-align: top;\n",
       "    }\n",
       "\n",
       "    .dataframe thead th {\n",
       "        text-align: right;\n",
       "    }\n",
       "</style>\n",
       "<table border=\"1\" class=\"dataframe\">\n",
       "  <thead>\n",
       "    <tr style=\"text-align: right;\">\n",
       "      <th></th>\n",
       "      <th>missing_count</th>\n",
       "      <th>missing_ratio</th>\n",
       "    </tr>\n",
       "  </thead>\n",
       "  <tbody>\n",
       "    <tr>\n",
       "      <th>work_id</th>\n",
       "      <td>0</td>\n",
       "      <td>0.000</td>\n",
       "    </tr>\n",
       "    <tr>\n",
       "      <th>name</th>\n",
       "      <td>0</td>\n",
       "      <td>0.000</td>\n",
       "    </tr>\n",
       "  </tbody>\n",
       "</table>\n",
       "</div>\n",
       "      <button class=\"colab-df-convert\" onclick=\"convertToInteractive('df-3fc9adf3-d2e2-4fbf-a658-5d9846d129c3')\"\n",
       "              title=\"Convert this dataframe to an interactive table.\"\n",
       "              style=\"display:none;\">\n",
       "        \n",
       "  <svg xmlns=\"http://www.w3.org/2000/svg\" height=\"24px\"viewBox=\"0 0 24 24\"\n",
       "       width=\"24px\">\n",
       "    <path d=\"M0 0h24v24H0V0z\" fill=\"none\"/>\n",
       "    <path d=\"M18.56 5.44l.94 2.06.94-2.06 2.06-.94-2.06-.94-.94-2.06-.94 2.06-2.06.94zm-11 1L8.5 8.5l.94-2.06 2.06-.94-2.06-.94L8.5 2.5l-.94 2.06-2.06.94zm10 10l.94 2.06.94-2.06 2.06-.94-2.06-.94-.94-2.06-.94 2.06-2.06.94z\"/><path d=\"M17.41 7.96l-1.37-1.37c-.4-.4-.92-.59-1.43-.59-.52 0-1.04.2-1.43.59L10.3 9.45l-7.72 7.72c-.78.78-.78 2.05 0 2.83L4 21.41c.39.39.9.59 1.41.59.51 0 1.02-.2 1.41-.59l7.78-7.78 2.81-2.81c.8-.78.8-2.07 0-2.86zM5.41 20L4 18.59l7.72-7.72 1.47 1.35L5.41 20z\"/>\n",
       "  </svg>\n",
       "      </button>\n",
       "      \n",
       "  <style>\n",
       "    .colab-df-container {\n",
       "      display:flex;\n",
       "      flex-wrap:wrap;\n",
       "      gap: 12px;\n",
       "    }\n",
       "\n",
       "    .colab-df-convert {\n",
       "      background-color: #E8F0FE;\n",
       "      border: none;\n",
       "      border-radius: 50%;\n",
       "      cursor: pointer;\n",
       "      display: none;\n",
       "      fill: #1967D2;\n",
       "      height: 32px;\n",
       "      padding: 0 0 0 0;\n",
       "      width: 32px;\n",
       "    }\n",
       "\n",
       "    .colab-df-convert:hover {\n",
       "      background-color: #E2EBFA;\n",
       "      box-shadow: 0px 1px 2px rgba(60, 64, 67, 0.3), 0px 1px 3px 1px rgba(60, 64, 67, 0.15);\n",
       "      fill: #174EA6;\n",
       "    }\n",
       "\n",
       "    [theme=dark] .colab-df-convert {\n",
       "      background-color: #3B4455;\n",
       "      fill: #D2E3FC;\n",
       "    }\n",
       "\n",
       "    [theme=dark] .colab-df-convert:hover {\n",
       "      background-color: #434B5C;\n",
       "      box-shadow: 0px 1px 3px 1px rgba(0, 0, 0, 0.15);\n",
       "      filter: drop-shadow(0px 1px 2px rgba(0, 0, 0, 0.3));\n",
       "      fill: #FFFFFF;\n",
       "    }\n",
       "  </style>\n",
       "\n",
       "      <script>\n",
       "        const buttonEl =\n",
       "          document.querySelector('#df-3fc9adf3-d2e2-4fbf-a658-5d9846d129c3 button.colab-df-convert');\n",
       "        buttonEl.style.display =\n",
       "          google.colab.kernel.accessAllowed ? 'block' : 'none';\n",
       "\n",
       "        async function convertToInteractive(key) {\n",
       "          const element = document.querySelector('#df-3fc9adf3-d2e2-4fbf-a658-5d9846d129c3');\n",
       "          const dataTable =\n",
       "            await google.colab.kernel.invokeFunction('convertToInteractive',\n",
       "                                                     [key], {});\n",
       "          if (!dataTable) return;\n",
       "\n",
       "          const docLinkHtml = 'Like what you see? Visit the ' +\n",
       "            '<a target=\"_blank\" href=https://colab.research.google.com/notebooks/data_table.ipynb>data table notebook</a>'\n",
       "            + ' to learn more about interactive tables.';\n",
       "          element.innerHTML = '';\n",
       "          dataTable['output_type'] = 'display_data';\n",
       "          await google.colab.output.renderOutput(dataTable, element);\n",
       "          const docLink = document.createElement('div');\n",
       "          docLink.innerHTML = docLinkHtml;\n",
       "          element.appendChild(docLink);\n",
       "        }\n",
       "      </script>\n",
       "    </div>\n",
       "  </div>\n",
       "  "
      ],
      "text/plain": [
       "         missing_count  missing_ratio\n",
       "work_id              0          0.000\n",
       "name                 0          0.000"
      ]
     },
     "execution_count": 20,
     "metadata": {},
     "output_type": "execute_result"
    }
   ],
   "source": [
    "pd.concat([work_subjects.isna().sum(), work_subjects.isna().mean()],\n",
    "          axis=1, keys=['missing_count', 'missing_ratio'])"
   ]
  },
  {
   "cell_type": "markdown",
   "metadata": {
    "id": "1Tv--EhgJI7P"
   },
   "source": [
    "- As you can see below there are ~116 million rows in the `cdindex` table, while there are only ~3 million rows in `works` and `work_references` tables combined."
   ]
  },
  {
   "cell_type": "code",
   "execution_count": 21,
   "metadata": {
    "colab": {
     "base_uri": "https://localhost:8080/"
    },
    "id": "XMYbznrUKbE_",
    "outputId": "aba027cd-4e15-4a54-9b6c-e0b0e203e829"
   },
   "outputs": [
    {
     "name": "stdout",
     "output_type": "stream",
     "text": [
      "Number of cdindex records: 116.568.934\n"
     ]
    }
   ],
   "source": [
    "count = pd.read_sql(\"SELECT COUNT(*) FROM cdindex\", conn)\n",
    "print('Number of cdindex records:', format(count.values[0, 0], \",d\").replace(\",\", \".\"))"
   ]
  },
  {
   "cell_type": "markdown",
   "metadata": {
    "id": "ZdM8A6XJPooU"
   },
   "source": [
    "- There is no reason to read all those data in memory.\n",
    "- We will create a table named `cd5` that will contain the CD5 indexes for the papers contained in either `works` or `work_references`."
   ]
  },
  {
   "cell_type": "code",
   "execution_count": 22,
   "metadata": {
    "id": "a6oGIBps6wt3"
   },
   "outputs": [],
   "source": [
    "cursor = conn.cursor()\n",
    "cursor.execute(\"\"\"\n",
    "CREATE TABLE IF NOT EXISTS cd5 AS\n",
    "SELECT doi, cdindex\n",
    "FROM cdindex\n",
    "WHERE doi IN (SELECT doi FROM works) OR doi IN (SELECT doi FROM work_references)\n",
    "\"\"\")\n",
    "conn.commit()"
   ]
  },
  {
   "cell_type": "markdown",
   "metadata": {
    "id": "7o3u0pKp-ozD"
   },
   "source": [
    "- We will use the `read_sql()` method to read the columns from the `cd5` table into a DataFrame, which is stored in the `cd5` variable."
   ]
  },
  {
   "cell_type": "code",
   "execution_count": 23,
   "metadata": {
    "colab": {
     "base_uri": "https://localhost:8080/",
     "height": 241
    },
    "id": "tWiGZFEQnw3h",
    "outputId": "521fe55d-ccd4-4c03-e49c-39e4df41174f"
   },
   "outputs": [
    {
     "name": "stdout",
     "output_type": "stream",
     "text": [
      "Number of cd5 records: 1.876.551\n",
      "\n"
     ]
    },
    {
     "data": {
      "text/html": [
       "\n",
       "  <div id=\"df-ad946fa0-79ff-4a5d-8c53-683529df1417\">\n",
       "    <div class=\"colab-df-container\">\n",
       "      <div>\n",
       "<style scoped>\n",
       "    .dataframe tbody tr th:only-of-type {\n",
       "        vertical-align: middle;\n",
       "    }\n",
       "\n",
       "    .dataframe tbody tr th {\n",
       "        vertical-align: top;\n",
       "    }\n",
       "\n",
       "    .dataframe thead th {\n",
       "        text-align: right;\n",
       "    }\n",
       "</style>\n",
       "<table border=\"1\" class=\"dataframe\">\n",
       "  <thead>\n",
       "    <tr style=\"text-align: right;\">\n",
       "      <th></th>\n",
       "      <th>doi</th>\n",
       "      <th>cdindex</th>\n",
       "    </tr>\n",
       "  </thead>\n",
       "  <tbody>\n",
       "    <tr>\n",
       "      <th>258762</th>\n",
       "      <td>10.1002/(sici)1099-0771(199912)12:4&lt;275::aid-b...</td>\n",
       "      <td>-0.056</td>\n",
       "    </tr>\n",
       "    <tr>\n",
       "      <th>76005</th>\n",
       "      <td>10.3390/educsci5010010</td>\n",
       "      <td>0.041</td>\n",
       "    </tr>\n",
       "    <tr>\n",
       "      <th>1670505</th>\n",
       "      <td>10.3923/jest.2012.460.474</td>\n",
       "      <td>1.000</td>\n",
       "    </tr>\n",
       "    <tr>\n",
       "      <th>1226869</th>\n",
       "      <td>10.1016/s1470-2045(06)70938-x</td>\n",
       "      <td>-0.008</td>\n",
       "    </tr>\n",
       "    <tr>\n",
       "      <th>1856540</th>\n",
       "      <td>10.1128/iai.00678-15</td>\n",
       "      <td>-0.004</td>\n",
       "    </tr>\n",
       "  </tbody>\n",
       "</table>\n",
       "</div>\n",
       "      <button class=\"colab-df-convert\" onclick=\"convertToInteractive('df-ad946fa0-79ff-4a5d-8c53-683529df1417')\"\n",
       "              title=\"Convert this dataframe to an interactive table.\"\n",
       "              style=\"display:none;\">\n",
       "        \n",
       "  <svg xmlns=\"http://www.w3.org/2000/svg\" height=\"24px\"viewBox=\"0 0 24 24\"\n",
       "       width=\"24px\">\n",
       "    <path d=\"M0 0h24v24H0V0z\" fill=\"none\"/>\n",
       "    <path d=\"M18.56 5.44l.94 2.06.94-2.06 2.06-.94-2.06-.94-.94-2.06-.94 2.06-2.06.94zm-11 1L8.5 8.5l.94-2.06 2.06-.94-2.06-.94L8.5 2.5l-.94 2.06-2.06.94zm10 10l.94 2.06.94-2.06 2.06-.94-2.06-.94-.94-2.06-.94 2.06-2.06.94z\"/><path d=\"M17.41 7.96l-1.37-1.37c-.4-.4-.92-.59-1.43-.59-.52 0-1.04.2-1.43.59L10.3 9.45l-7.72 7.72c-.78.78-.78 2.05 0 2.83L4 21.41c.39.39.9.59 1.41.59.51 0 1.02-.2 1.41-.59l7.78-7.78 2.81-2.81c.8-.78.8-2.07 0-2.86zM5.41 20L4 18.59l7.72-7.72 1.47 1.35L5.41 20z\"/>\n",
       "  </svg>\n",
       "      </button>\n",
       "      \n",
       "  <style>\n",
       "    .colab-df-container {\n",
       "      display:flex;\n",
       "      flex-wrap:wrap;\n",
       "      gap: 12px;\n",
       "    }\n",
       "\n",
       "    .colab-df-convert {\n",
       "      background-color: #E8F0FE;\n",
       "      border: none;\n",
       "      border-radius: 50%;\n",
       "      cursor: pointer;\n",
       "      display: none;\n",
       "      fill: #1967D2;\n",
       "      height: 32px;\n",
       "      padding: 0 0 0 0;\n",
       "      width: 32px;\n",
       "    }\n",
       "\n",
       "    .colab-df-convert:hover {\n",
       "      background-color: #E2EBFA;\n",
       "      box-shadow: 0px 1px 2px rgba(60, 64, 67, 0.3), 0px 1px 3px 1px rgba(60, 64, 67, 0.15);\n",
       "      fill: #174EA6;\n",
       "    }\n",
       "\n",
       "    [theme=dark] .colab-df-convert {\n",
       "      background-color: #3B4455;\n",
       "      fill: #D2E3FC;\n",
       "    }\n",
       "\n",
       "    [theme=dark] .colab-df-convert:hover {\n",
       "      background-color: #434B5C;\n",
       "      box-shadow: 0px 1px 3px 1px rgba(0, 0, 0, 0.15);\n",
       "      filter: drop-shadow(0px 1px 2px rgba(0, 0, 0, 0.3));\n",
       "      fill: #FFFFFF;\n",
       "    }\n",
       "  </style>\n",
       "\n",
       "      <script>\n",
       "        const buttonEl =\n",
       "          document.querySelector('#df-ad946fa0-79ff-4a5d-8c53-683529df1417 button.colab-df-convert');\n",
       "        buttonEl.style.display =\n",
       "          google.colab.kernel.accessAllowed ? 'block' : 'none';\n",
       "\n",
       "        async function convertToInteractive(key) {\n",
       "          const element = document.querySelector('#df-ad946fa0-79ff-4a5d-8c53-683529df1417');\n",
       "          const dataTable =\n",
       "            await google.colab.kernel.invokeFunction('convertToInteractive',\n",
       "                                                     [key], {});\n",
       "          if (!dataTable) return;\n",
       "\n",
       "          const docLinkHtml = 'Like what you see? Visit the ' +\n",
       "            '<a target=\"_blank\" href=https://colab.research.google.com/notebooks/data_table.ipynb>data table notebook</a>'\n",
       "            + ' to learn more about interactive tables.';\n",
       "          element.innerHTML = '';\n",
       "          dataTable['output_type'] = 'display_data';\n",
       "          await google.colab.output.renderOutput(dataTable, element);\n",
       "          const docLink = document.createElement('div');\n",
       "          docLink.innerHTML = docLinkHtml;\n",
       "          element.appendChild(docLink);\n",
       "        }\n",
       "      </script>\n",
       "    </div>\n",
       "  </div>\n",
       "  "
      ],
      "text/plain": [
       "                                                       doi  cdindex\n",
       "258762   10.1002/(sici)1099-0771(199912)12:4<275::aid-b...   -0.056\n",
       "76005                               10.3390/educsci5010010    0.041\n",
       "1670505                          10.3923/jest.2012.460.474    1.000\n",
       "1226869                      10.1016/s1470-2045(06)70938-x   -0.008\n",
       "1856540                               10.1128/iai.00678-15   -0.004"
      ]
     },
     "execution_count": 23,
     "metadata": {},
     "output_type": "execute_result"
    }
   ],
   "source": [
    "cd5 = pd.read_sql(\"SELECT doi, cdindex FROM cd5\", conn)\n",
    "print('Number of cd5 records:', format(len(cd5), \",d\").replace(\",\", \".\"), end='\\n\\n')\n",
    "cd5.sample(5)"
   ]
  },
  {
   "cell_type": "markdown",
   "metadata": {
    "id": "XZ-ZT3NOrh3b"
   },
   "source": [
    "- We will use the `info()` method to get an overview of the DataFrame and ensure that the datatypes are correct."
   ]
  },
  {
   "cell_type": "code",
   "execution_count": 24,
   "metadata": {
    "colab": {
     "base_uri": "https://localhost:8080/"
    },
    "id": "kRHxp-8ROnZa",
    "outputId": "f167dc35-ba06-458d-e0d3-a395146de508"
   },
   "outputs": [
    {
     "name": "stdout",
     "output_type": "stream",
     "text": [
      "<class 'pandas.core.frame.DataFrame'>\n",
      "RangeIndex: 1876551 entries, 0 to 1876550\n",
      "Data columns (total 2 columns):\n",
      " #   Column   Dtype  \n",
      "---  ------   -----  \n",
      " 0   doi      object \n",
      " 1   cdindex  float64\n",
      "dtypes: float64(1), object(1)\n",
      "memory usage: 28.6+ MB\n"
     ]
    }
   ],
   "source": [
    "cd5.info()"
   ]
  },
  {
   "cell_type": "markdown",
   "metadata": {
    "id": "SHkih7AJRaDT"
   },
   "source": [
    "- We will check for missing values."
   ]
  },
  {
   "cell_type": "code",
   "execution_count": 25,
   "metadata": {
    "colab": {
     "base_uri": "https://localhost:8080/",
     "height": 112
    },
    "id": "CPAsrViR1ndS",
    "outputId": "80515910-087d-4f3b-eb5c-961fecba87d4"
   },
   "outputs": [
    {
     "data": {
      "text/html": [
       "\n",
       "  <div id=\"df-d931b1b9-0d6d-4411-abbf-ed580633d8eb\">\n",
       "    <div class=\"colab-df-container\">\n",
       "      <div>\n",
       "<style scoped>\n",
       "    .dataframe tbody tr th:only-of-type {\n",
       "        vertical-align: middle;\n",
       "    }\n",
       "\n",
       "    .dataframe tbody tr th {\n",
       "        vertical-align: top;\n",
       "    }\n",
       "\n",
       "    .dataframe thead th {\n",
       "        text-align: right;\n",
       "    }\n",
       "</style>\n",
       "<table border=\"1\" class=\"dataframe\">\n",
       "  <thead>\n",
       "    <tr style=\"text-align: right;\">\n",
       "      <th></th>\n",
       "      <th>missing_count</th>\n",
       "      <th>missing_ratio</th>\n",
       "    </tr>\n",
       "  </thead>\n",
       "  <tbody>\n",
       "    <tr>\n",
       "      <th>doi</th>\n",
       "      <td>0</td>\n",
       "      <td>0.000</td>\n",
       "    </tr>\n",
       "    <tr>\n",
       "      <th>cdindex</th>\n",
       "      <td>89891</td>\n",
       "      <td>0.048</td>\n",
       "    </tr>\n",
       "  </tbody>\n",
       "</table>\n",
       "</div>\n",
       "      <button class=\"colab-df-convert\" onclick=\"convertToInteractive('df-d931b1b9-0d6d-4411-abbf-ed580633d8eb')\"\n",
       "              title=\"Convert this dataframe to an interactive table.\"\n",
       "              style=\"display:none;\">\n",
       "        \n",
       "  <svg xmlns=\"http://www.w3.org/2000/svg\" height=\"24px\"viewBox=\"0 0 24 24\"\n",
       "       width=\"24px\">\n",
       "    <path d=\"M0 0h24v24H0V0z\" fill=\"none\"/>\n",
       "    <path d=\"M18.56 5.44l.94 2.06.94-2.06 2.06-.94-2.06-.94-.94-2.06-.94 2.06-2.06.94zm-11 1L8.5 8.5l.94-2.06 2.06-.94-2.06-.94L8.5 2.5l-.94 2.06-2.06.94zm10 10l.94 2.06.94-2.06 2.06-.94-2.06-.94-.94-2.06-.94 2.06-2.06.94z\"/><path d=\"M17.41 7.96l-1.37-1.37c-.4-.4-.92-.59-1.43-.59-.52 0-1.04.2-1.43.59L10.3 9.45l-7.72 7.72c-.78.78-.78 2.05 0 2.83L4 21.41c.39.39.9.59 1.41.59.51 0 1.02-.2 1.41-.59l7.78-7.78 2.81-2.81c.8-.78.8-2.07 0-2.86zM5.41 20L4 18.59l7.72-7.72 1.47 1.35L5.41 20z\"/>\n",
       "  </svg>\n",
       "      </button>\n",
       "      \n",
       "  <style>\n",
       "    .colab-df-container {\n",
       "      display:flex;\n",
       "      flex-wrap:wrap;\n",
       "      gap: 12px;\n",
       "    }\n",
       "\n",
       "    .colab-df-convert {\n",
       "      background-color: #E8F0FE;\n",
       "      border: none;\n",
       "      border-radius: 50%;\n",
       "      cursor: pointer;\n",
       "      display: none;\n",
       "      fill: #1967D2;\n",
       "      height: 32px;\n",
       "      padding: 0 0 0 0;\n",
       "      width: 32px;\n",
       "    }\n",
       "\n",
       "    .colab-df-convert:hover {\n",
       "      background-color: #E2EBFA;\n",
       "      box-shadow: 0px 1px 2px rgba(60, 64, 67, 0.3), 0px 1px 3px 1px rgba(60, 64, 67, 0.15);\n",
       "      fill: #174EA6;\n",
       "    }\n",
       "\n",
       "    [theme=dark] .colab-df-convert {\n",
       "      background-color: #3B4455;\n",
       "      fill: #D2E3FC;\n",
       "    }\n",
       "\n",
       "    [theme=dark] .colab-df-convert:hover {\n",
       "      background-color: #434B5C;\n",
       "      box-shadow: 0px 1px 3px 1px rgba(0, 0, 0, 0.15);\n",
       "      filter: drop-shadow(0px 1px 2px rgba(0, 0, 0, 0.3));\n",
       "      fill: #FFFFFF;\n",
       "    }\n",
       "  </style>\n",
       "\n",
       "      <script>\n",
       "        const buttonEl =\n",
       "          document.querySelector('#df-d931b1b9-0d6d-4411-abbf-ed580633d8eb button.colab-df-convert');\n",
       "        buttonEl.style.display =\n",
       "          google.colab.kernel.accessAllowed ? 'block' : 'none';\n",
       "\n",
       "        async function convertToInteractive(key) {\n",
       "          const element = document.querySelector('#df-d931b1b9-0d6d-4411-abbf-ed580633d8eb');\n",
       "          const dataTable =\n",
       "            await google.colab.kernel.invokeFunction('convertToInteractive',\n",
       "                                                     [key], {});\n",
       "          if (!dataTable) return;\n",
       "\n",
       "          const docLinkHtml = 'Like what you see? Visit the ' +\n",
       "            '<a target=\"_blank\" href=https://colab.research.google.com/notebooks/data_table.ipynb>data table notebook</a>'\n",
       "            + ' to learn more about interactive tables.';\n",
       "          element.innerHTML = '';\n",
       "          dataTable['output_type'] = 'display_data';\n",
       "          await google.colab.output.renderOutput(dataTable, element);\n",
       "          const docLink = document.createElement('div');\n",
       "          docLink.innerHTML = docLinkHtml;\n",
       "          element.appendChild(docLink);\n",
       "        }\n",
       "      </script>\n",
       "    </div>\n",
       "  </div>\n",
       "  "
      ],
      "text/plain": [
       "         missing_count  missing_ratio\n",
       "doi                  0          0.000\n",
       "cdindex          89891          0.048"
      ]
     },
     "execution_count": 25,
     "metadata": {},
     "output_type": "execute_result"
    }
   ],
   "source": [
    "pd.concat([cd5.isna().sum(), cd5.isna().mean()],\n",
    "          axis=1, keys=['missing_count', 'missing_ratio'])"
   ]
  },
  {
   "cell_type": "markdown",
   "metadata": {
    "id": "gFGG-ynz-Lpf"
   },
   "source": [
    "- Since this is the target variable we will have to drop the missing values, because imputation will introduce bias to the model."
   ]
  },
  {
   "cell_type": "code",
   "execution_count": 26,
   "metadata": {
    "id": "vRcdWuC-5mGF"
   },
   "outputs": [],
   "source": [
    "cd5 = cd5.dropna()"
   ]
  },
  {
   "cell_type": "markdown",
   "metadata": {
    "id": "rG0OZQ8B98_Q"
   },
   "source": [
    "- Our task is to predict the CD5. \n",
    "- The CD5 is the CD index calculated over a time window of 5 years.\n",
    "- Due to the lack of data, however, I decided to also allow CD4 in the dataset assuming that it must be a pretty good proxy to the CD5 values, which indeed is supported by the data as we will see afterwards.\n",
    "- Furthermore, the `doi` column is included to remove duplicates, since some papers are present in both `works` and `work_references` and also the same paper can be referenced by more than one other paper."
   ]
  },
  {
   "cell_type": "code",
   "execution_count": 27,
   "metadata": {
    "colab": {
     "base_uri": "https://localhost:8080/",
     "height": 424
    },
    "id": "pTUnWlgVBjTG",
    "outputId": "435311a3-c9f8-4ccc-ffd4-0d14f7b248b0"
   },
   "outputs": [
    {
     "data": {
      "text/html": [
       "\n",
       "  <div id=\"df-1059b745-c851-4b20-9d7f-e3ce891902e9\">\n",
       "    <div class=\"colab-df-container\">\n",
       "      <div>\n",
       "<style scoped>\n",
       "    .dataframe tbody tr th:only-of-type {\n",
       "        vertical-align: middle;\n",
       "    }\n",
       "\n",
       "    .dataframe tbody tr th {\n",
       "        vertical-align: top;\n",
       "    }\n",
       "\n",
       "    .dataframe thead th {\n",
       "        text-align: right;\n",
       "    }\n",
       "</style>\n",
       "<table border=\"1\" class=\"dataframe\">\n",
       "  <thead>\n",
       "    <tr style=\"text-align: right;\">\n",
       "      <th></th>\n",
       "      <th>doi</th>\n",
       "      <th>year</th>\n",
       "      <th>cdindex</th>\n",
       "    </tr>\n",
       "  </thead>\n",
       "  <tbody>\n",
       "    <tr>\n",
       "      <th>0</th>\n",
       "      <td>10.1017/s1473550406002904</td>\n",
       "      <td>2007.000</td>\n",
       "      <td>0.000</td>\n",
       "    </tr>\n",
       "    <tr>\n",
       "      <th>1</th>\n",
       "      <td>10.1144/gsl.eng.1986.003.01.02</td>\n",
       "      <td>1986.000</td>\n",
       "      <td>0.000</td>\n",
       "    </tr>\n",
       "    <tr>\n",
       "      <th>2</th>\n",
       "      <td>10.1152/ajplung.00203.2007</td>\n",
       "      <td>2007.000</td>\n",
       "      <td>-0.003</td>\n",
       "    </tr>\n",
       "    <tr>\n",
       "      <th>3</th>\n",
       "      <td>10.1634/stemcells.2007-0216</td>\n",
       "      <td>2007.000</td>\n",
       "      <td>-0.004</td>\n",
       "    </tr>\n",
       "    <tr>\n",
       "      <th>4</th>\n",
       "      <td>10.3139/146.101520</td>\n",
       "      <td>2007.000</td>\n",
       "      <td>-0.004</td>\n",
       "    </tr>\n",
       "    <tr>\n",
       "      <th>...</th>\n",
       "      <td>...</td>\n",
       "      <td>...</td>\n",
       "      <td>...</td>\n",
       "    </tr>\n",
       "    <tr>\n",
       "      <th>2051377</th>\n",
       "      <td>10.1080/09668139108411954</td>\n",
       "      <td>1991.000</td>\n",
       "      <td>0.188</td>\n",
       "    </tr>\n",
       "    <tr>\n",
       "      <th>2051378</th>\n",
       "      <td>10.1007/bf02707703</td>\n",
       "      <td>1993.000</td>\n",
       "      <td>-0.003</td>\n",
       "    </tr>\n",
       "    <tr>\n",
       "      <th>2051379</th>\n",
       "      <td>10.1006/jcec.1995.1015</td>\n",
       "      <td>1995.000</td>\n",
       "      <td>1.000</td>\n",
       "    </tr>\n",
       "    <tr>\n",
       "      <th>2051380</th>\n",
       "      <td>10.1017/s0143814x00008540</td>\n",
       "      <td>1997.000</td>\n",
       "      <td>0.000</td>\n",
       "    </tr>\n",
       "    <tr>\n",
       "      <th>2051381</th>\n",
       "      <td>10.1017/s0033291700012344</td>\n",
       "      <td>1989.000</td>\n",
       "      <td>-0.006</td>\n",
       "    </tr>\n",
       "  </tbody>\n",
       "</table>\n",
       "<p>727976 rows × 3 columns</p>\n",
       "</div>\n",
       "      <button class=\"colab-df-convert\" onclick=\"convertToInteractive('df-1059b745-c851-4b20-9d7f-e3ce891902e9')\"\n",
       "              title=\"Convert this dataframe to an interactive table.\"\n",
       "              style=\"display:none;\">\n",
       "        \n",
       "  <svg xmlns=\"http://www.w3.org/2000/svg\" height=\"24px\"viewBox=\"0 0 24 24\"\n",
       "       width=\"24px\">\n",
       "    <path d=\"M0 0h24v24H0V0z\" fill=\"none\"/>\n",
       "    <path d=\"M18.56 5.44l.94 2.06.94-2.06 2.06-.94-2.06-.94-.94-2.06-.94 2.06-2.06.94zm-11 1L8.5 8.5l.94-2.06 2.06-.94-2.06-.94L8.5 2.5l-.94 2.06-2.06.94zm10 10l.94 2.06.94-2.06 2.06-.94-2.06-.94-.94-2.06-.94 2.06-2.06.94z\"/><path d=\"M17.41 7.96l-1.37-1.37c-.4-.4-.92-.59-1.43-.59-.52 0-1.04.2-1.43.59L10.3 9.45l-7.72 7.72c-.78.78-.78 2.05 0 2.83L4 21.41c.39.39.9.59 1.41.59.51 0 1.02-.2 1.41-.59l7.78-7.78 2.81-2.81c.8-.78.8-2.07 0-2.86zM5.41 20L4 18.59l7.72-7.72 1.47 1.35L5.41 20z\"/>\n",
       "  </svg>\n",
       "      </button>\n",
       "      \n",
       "  <style>\n",
       "    .colab-df-container {\n",
       "      display:flex;\n",
       "      flex-wrap:wrap;\n",
       "      gap: 12px;\n",
       "    }\n",
       "\n",
       "    .colab-df-convert {\n",
       "      background-color: #E8F0FE;\n",
       "      border: none;\n",
       "      border-radius: 50%;\n",
       "      cursor: pointer;\n",
       "      display: none;\n",
       "      fill: #1967D2;\n",
       "      height: 32px;\n",
       "      padding: 0 0 0 0;\n",
       "      width: 32px;\n",
       "    }\n",
       "\n",
       "    .colab-df-convert:hover {\n",
       "      background-color: #E2EBFA;\n",
       "      box-shadow: 0px 1px 2px rgba(60, 64, 67, 0.3), 0px 1px 3px 1px rgba(60, 64, 67, 0.15);\n",
       "      fill: #174EA6;\n",
       "    }\n",
       "\n",
       "    [theme=dark] .colab-df-convert {\n",
       "      background-color: #3B4455;\n",
       "      fill: #D2E3FC;\n",
       "    }\n",
       "\n",
       "    [theme=dark] .colab-df-convert:hover {\n",
       "      background-color: #434B5C;\n",
       "      box-shadow: 0px 1px 3px 1px rgba(0, 0, 0, 0.15);\n",
       "      filter: drop-shadow(0px 1px 2px rgba(0, 0, 0, 0.3));\n",
       "      fill: #FFFFFF;\n",
       "    }\n",
       "  </style>\n",
       "\n",
       "      <script>\n",
       "        const buttonEl =\n",
       "          document.querySelector('#df-1059b745-c851-4b20-9d7f-e3ce891902e9 button.colab-df-convert');\n",
       "        buttonEl.style.display =\n",
       "          google.colab.kernel.accessAllowed ? 'block' : 'none';\n",
       "\n",
       "        async function convertToInteractive(key) {\n",
       "          const element = document.querySelector('#df-1059b745-c851-4b20-9d7f-e3ce891902e9');\n",
       "          const dataTable =\n",
       "            await google.colab.kernel.invokeFunction('convertToInteractive',\n",
       "                                                     [key], {});\n",
       "          if (!dataTable) return;\n",
       "\n",
       "          const docLinkHtml = 'Like what you see? Visit the ' +\n",
       "            '<a target=\"_blank\" href=https://colab.research.google.com/notebooks/data_table.ipynb>data table notebook</a>'\n",
       "            + ' to learn more about interactive tables.';\n",
       "          element.innerHTML = '';\n",
       "          dataTable['output_type'] = 'display_data';\n",
       "          await google.colab.output.renderOutput(dataTable, element);\n",
       "          const docLink = document.createElement('div');\n",
       "          docLink.innerHTML = docLinkHtml;\n",
       "          element.appendChild(docLink);\n",
       "        }\n",
       "      </script>\n",
       "    </div>\n",
       "  </div>\n",
       "  "
      ],
      "text/plain": [
       "                                    doi     year  cdindex\n",
       "0             10.1017/s1473550406002904 2007.000    0.000\n",
       "1        10.1144/gsl.eng.1986.003.01.02 1986.000    0.000\n",
       "2            10.1152/ajplung.00203.2007 2007.000   -0.003\n",
       "3           10.1634/stemcells.2007-0216 2007.000   -0.004\n",
       "4                    10.3139/146.101520 2007.000   -0.004\n",
       "...                                 ...      ...      ...\n",
       "2051377       10.1080/09668139108411954 1991.000    0.188\n",
       "2051378              10.1007/bf02707703 1993.000   -0.003\n",
       "2051379          10.1006/jcec.1995.1015 1995.000    1.000\n",
       "2051380       10.1017/s0143814x00008540 1997.000    0.000\n",
       "2051381       10.1017/s0033291700012344 1989.000   -0.006\n",
       "\n",
       "[727976 rows x 3 columns]"
      ]
     },
     "execution_count": 27,
     "metadata": {},
     "output_type": "execute_result"
    }
   ],
   "source": [
    "works_cdindex = pd.merge(works, cd5, on='doi')\n",
    "work_references_cdindex = pd.merge(work_references, cd5, on='doi')\n",
    "cdindexes = pd.concat([works_cdindex[['doi', 'year', 'cdindex']],\n",
    "                       work_references_cdindex[['doi', 'year', 'cdindex']]], axis=0)\n",
    "cdindexes = cdindexes[~cdindexes.doi.duplicated()]\n",
    "cdindexes = cdindexes.dropna()\n",
    "cdindexes"
   ]
  },
  {
   "cell_type": "markdown",
   "metadata": {
    "id": "yX91TWHMhRvr"
   },
   "source": [
    "- We will compare the distributions of CD2, CD3 and CD4 with the distribution of CD5 for the 3 most recent years for which the CD5 can be computed."
   ]
  },
  {
   "cell_type": "code",
   "execution_count": 28,
   "metadata": {
    "id": "OO1We48FCTNU"
   },
   "outputs": [],
   "source": [
    "from datetime import datetime as dt\n",
    "\n",
    "cdindexes_cd5 = cdindexes[(cdindexes.year >= dt.now().year - 7) & (cdindexes.year <= dt.now().year - 5)]\n",
    "cdindexes_cd4 = cdindexes[cdindexes.year == dt.now().year - 4]\n",
    "cdindexes_cd3 = cdindexes[cdindexes.year == dt.now().year - 3]\n",
    "cdindexes_cd2 = cdindexes[cdindexes.year == dt.now().year - 2]"
   ]
  },
  {
   "cell_type": "code",
   "execution_count": 29,
   "metadata": {
    "colab": {
     "base_uri": "https://localhost:8080/",
     "height": 539
    },
    "id": "NFcnoPeFcmZO",
    "outputId": "b875c30b-1732-466a-bb7e-f726014f5529"
   },
   "outputs": [
    {
     "data": {
      "image/png": "[encoded data removed]",
      "text/plain": [
       "<Figure size 720x576 with 4 Axes>"
      ]
     },
     "metadata": {
      "needs_background": "light"
     },
     "output_type": "display_data"
    }
   ],
   "source": [
    "fig, axs = plt.subplots(nrows=2, ncols=2, figsize=(10, 8))\n",
    "fig.subplots_adjust(wspace=0.2, hspace=0.4, left=0.1, right=0.9, top=0.9, bottom=0.1)\n",
    "\n",
    "axs[0, 0].set_title('CD5')\n",
    "sns.histplot(cdindexes_cd5.cdindex, bins=10, stat='percent', ax=axs[0, 0])\n",
    "\n",
    "axs[0, 1].set_title('CD4')\n",
    "sns.histplot(cdindexes_cd4.cdindex, bins=10, stat='percent', ax=axs[0, 1])\n",
    "\n",
    "axs[1, 0].set_title('CD3')\n",
    "sns.histplot(cdindexes_cd3.cdindex, bins=10, stat='percent', ax=axs[1, 0])\n",
    "\n",
    "axs[1, 1].set_title('CD2')\n",
    "sns.histplot(cdindexes_cd2.cdindex, bins=10, stat='percent', ax=axs[1, 1])\n",
    "\n",
    "plt.show()"
   ]
  },
  {
   "cell_type": "markdown",
   "metadata": {
    "id": "UUCRysptzUWL"
   },
   "source": [
    "- As you can see the distribution of CD4 is pretty similar to the distribution of CD5, so we will keep CD4 as well."
   ]
  },
  {
   "cell_type": "code",
   "execution_count": 30,
   "metadata": {
    "id": "YJY4XaypvGX7"
   },
   "outputs": [],
   "source": [
    "cdindexes = cdindexes[(cdindexes.year >= 1950) & (cdindexes.year <= dt.now().year - 4)]"
   ]
  },
  {
   "cell_type": "markdown",
   "metadata": {
    "id": "rclEMXu1uN00"
   },
   "source": [
    "- From now on I will refer to both CD4 and CD5 as CD5.\n",
    "- Let's create a histogram of CD5 to check its overall distribution."
   ]
  },
  {
   "cell_type": "code",
   "execution_count": 31,
   "metadata": {
    "colab": {
     "base_uri": "https://localhost:8080/",
     "height": 296
    },
    "id": "CYqR6e4QsUYp",
    "outputId": "8044e11d-f916-450d-ac21-abaaa92fd1ea"
   },
   "outputs": [
    {
     "data": {
      "text/plain": [
       "<AxesSubplot:xlabel='cdindex', ylabel='Percent'>"
      ]
     },
     "execution_count": 31,
     "metadata": {},
     "output_type": "execute_result"
    },
    {
     "data": {
      "image/png": "[encoded data removed]",
      "text/plain": [
       "<Figure size 432x288 with 1 Axes>"
      ]
     },
     "metadata": {
      "needs_background": "light"
     },
     "output_type": "display_data"
    }
   ],
   "source": [
    "sns.histplot(cdindexes.cdindex, bins=10, stat='percent')"
   ]
  },
  {
   "cell_type": "markdown",
   "metadata": {
    "id": "7gN3iYR2PTR-"
   },
   "source": [
    "- The distribution of CD5 in our sample is significantly different than the distribution of CD5 presented in the [Extended Data Fig. 1](https://www.nature.com/articles/s41586-022-05543-x/figures/7) of the Nature paper (which is based on a larger dataset).\n",
    "\n",
    "- The distribution of CD5 in our sample more closely resembles with what we can see in [Fig. 5](https://www.nature.com/articles/s41586-022-05543-x/figures/5) of the Nature paper, where the majority of the points are between `[-0.2, 0.2]` and some points exactly at `1`.\n",
    "\n",
    "- The [Fig. 5](https://www.nature.com/articles/s41586-022-05543-x/figures/5) contains papers published in premier publication venues (indicating high-quality work), which is an indication that our sample may be biased.\n",
    "\n",
    "- The best solution to prevent overfitting is to use complete training data. The dataset should cover the full range of inputs that the model is expected to handle. A model trained on more complete data will naturally generalize better. \n",
    "\n",
    "- The models that we will train later using this dataset will make a poor job predicting the CD5 of papers in general, since they will learn to either predict values close to 0 or 1."
   ]
  },
  {
   "cell_type": "markdown",
   "metadata": {
    "id": "tmZRfg5h0xD2"
   },
   "source": [
    "- Let's also create a plot to display the average CD5 per year."
   ]
  },
  {
   "cell_type": "code",
   "execution_count": 32,
   "metadata": {
    "colab": {
     "base_uri": "https://localhost:8080/",
     "height": 388
    },
    "id": "3vfJOy0uu2Vm",
    "outputId": "1fe9e99c-60f8-40ad-c1bc-c175bd6f32f5"
   },
   "outputs": [
    {
     "data": {
      "image/png": "[encoded data removed]",
      "text/plain": [
       "<Figure size 432x432 with 1 Axes>"
      ]
     },
     "metadata": {
      "needs_background": "light"
     },
     "output_type": "display_data"
    }
   ],
   "source": [
    "cdindexes.groupby('year').agg({'cdindex': 'mean'}).plot(figsize=(6, 6))\n",
    "plt.ylabel('Average CD5')\n",
    "plt.xlabel('Year')\n",
    "plt.show()"
   ]
  },
  {
   "cell_type": "markdown",
   "metadata": {
    "id": "SQK1WFdG2XqS"
   },
   "source": [
    "- We can see that as an overall trend, the CD5 is decreasing, however, the average CD5 in our sample is consistently higher compared to [Fig. 2](https://www.nature.com/articles/s41586-022-05543-x/figures/2) of the Nature paper."
   ]
  },
  {
   "cell_type": "markdown",
   "metadata": {
    "id": "2heshn0L7wZs"
   },
   "source": [
    "- We will now use our findings to filter the `works` and `work_references`."
   ]
  },
  {
   "cell_type": "code",
   "execution_count": 33,
   "metadata": {
    "id": "qu_djIBxuM71"
   },
   "outputs": [],
   "source": [
    "works = works[(works.doi.isin(cd5.doi)) & (works.year >= 1950) & (works.year <= dt.now().year - 4)]\n",
    "work_references = work_references[((work_references.year >= 1950) & (work_references.year <= dt.now().year - 4))\n",
    "                                  | (work_references.year.isna())]"
   ]
  },
  {
   "cell_type": "markdown",
   "metadata": {
    "id": "ClX4T_tj8U0t"
   },
   "source": [
    "- We can finally now drop the `year` column from `work_references`."
   ]
  },
  {
   "cell_type": "code",
   "execution_count": 34,
   "metadata": {
    "id": "Pcc5AGH28WHN"
   },
   "outputs": [],
   "source": [
    "work_references = work_references.drop(columns=['year'])"
   ]
  },
  {
   "cell_type": "markdown",
   "metadata": {
    "id": "UxC2BnW5SC__"
   },
   "source": [
    "- Let's now proceed with the preprocessing of the text-based features, namely `title` and `abstract`.\n",
    "- First of all, we will have to check if there are any papers not written in English.\n",
    "- We can use the `get_language()` function from the `cld3` package to detect the language of a text.\n",
    "- The `get_language()` function is not designed to handle arrays directly, so we will use the `vectorize()` function from the `NumPy` package to create a new function that can be used to apply the `get_language()` function to each element of an array."
   ]
  },
  {
   "cell_type": "code",
   "execution_count": 35,
   "metadata": {
    "colab": {
     "base_uri": "https://localhost:8080/"
    },
    "id": "rtpLH_gojnTA",
    "outputId": "488ccaa5-f750-40d6-f0a9-8ecd4dd55e26"
   },
   "outputs": [
    {
     "name": "stdout",
     "output_type": "stream",
     "text": [
      "Percentage of papers written in English: 0.9476539900962592\n"
     ]
    }
   ],
   "source": [
    "%%capture --no-stdout\n",
    "\n",
    "get_lang_vect = np.vectorize(cld3.get_language)\n",
    "\n",
    "total_works = len(works)\n",
    "works = works[get_lang_vect(works.abstract)[0] == 'en']\n",
    "english_works = len(works)\n",
    "print('Percentage of papers written in English:', english_works / total_works)"
   ]
  },
  {
   "cell_type": "markdown",
   "metadata": {
    "id": "wGkhLng6k0UU"
   },
   "source": [
    "- Since the vast majority of the papers are written in English we can simply ignore the rest."
   ]
  },
  {
   "cell_type": "markdown",
   "metadata": {
    "id": "U5JCNckoqbhc"
   },
   "source": [
    "- The `text_preprocessor()` function receives a text as input and performs the following operations:\n",
    "  - Converts the text to lowercase\n",
    "  - Removes the XML tags\n",
    "  - Removes the stop words (based on the default spaCy list)\n",
    "  - Removes punctuation\n",
    "  - Removes numbers\n",
    "  - Removes tokens with less than 3 characters\n",
    "  - Lemmatizes the words"
   ]
  },
  {
   "cell_type": "code",
   "execution_count": 36,
   "metadata": {
    "id": "9CwzNeqDXYqH"
   },
   "outputs": [],
   "source": [
    "import re\n",
    "\n",
    "def text_preprocessor(text):\n",
    "    text = text.lower()\n",
    "    text = re.sub(\"<[a-zA-Z:/]+>\", \" \", text)\n",
    "\n",
    "    doc = nlp(text)\n",
    "    no_stop_words = [token.lemma_ for token in doc\n",
    "                     if not token.is_stop and not token.is_punct\n",
    "                     and not token.like_num and len(token.text) >= 3]\n",
    "    return ' '.join(no_stop_words)"
   ]
  },
  {
   "cell_type": "markdown",
   "metadata": {
    "id": "Ef-jEC_1wVNm"
   },
   "source": [
    "- We will combine the `title` and `abstract` into a single `text` feature by concatenating them.\n",
    "- We will create a new `text` column in the `works` DataFrame that will contain the clean text (high information density words) for each paper."
   ]
  },
  {
   "cell_type": "code",
   "execution_count": 37,
   "metadata": {
    "colab": {
     "base_uri": "https://localhost:8080/",
     "height": 292
    },
    "id": "1JtbVXuVyiMq",
    "outputId": "50e24254-0962-487b-da4d-725613faaaf3"
   },
   "outputs": [
    {
     "data": {
      "text/html": [
       "\n",
       "  <div id=\"df-047fd2b1-4d4e-4eaf-ac61-f8495d6c382a\">\n",
       "    <div class=\"colab-df-container\">\n",
       "      <div>\n",
       "<style scoped>\n",
       "    .dataframe tbody tr th:only-of-type {\n",
       "        vertical-align: middle;\n",
       "    }\n",
       "\n",
       "    .dataframe tbody tr th {\n",
       "        vertical-align: top;\n",
       "    }\n",
       "\n",
       "    .dataframe thead th {\n",
       "        text-align: right;\n",
       "    }\n",
       "</style>\n",
       "<table border=\"1\" class=\"dataframe\">\n",
       "  <thead>\n",
       "    <tr style=\"text-align: right;\">\n",
       "      <th></th>\n",
       "      <th>id</th>\n",
       "      <th>title</th>\n",
       "      <th>abstract</th>\n",
       "      <th>year</th>\n",
       "      <th>doi</th>\n",
       "      <th>text</th>\n",
       "    </tr>\n",
       "  </thead>\n",
       "  <tbody>\n",
       "    <tr>\n",
       "      <th>116883</th>\n",
       "      <td>3478261</td>\n",
       "      <td>A Generalized MILP Formulation for the Period-...</td>\n",
       "      <td>&lt;jats:p&gt;We study a resource leveling problem w...</td>\n",
       "      <td>2019.000</td>\n",
       "      <td>10.3390/a13010006</td>\n",
       "      <td>generalize milp formulation period aggregated ...</td>\n",
       "    </tr>\n",
       "    <tr>\n",
       "      <th>143099</th>\n",
       "      <td>4180201</td>\n",
       "      <td>Waterbirds from wetlands of the southeast of t...</td>\n",
       "      <td>&lt;jats:p&gt;We present a waterbird inventory corre...</td>\n",
       "      <td>2011.000</td>\n",
       "      <td>10.15560/7.4.537</td>\n",
       "      <td>waterbird wetland southeast córdoba province a...</td>\n",
       "    </tr>\n",
       "    <tr>\n",
       "      <th>74612</th>\n",
       "      <td>2507507</td>\n",
       "      <td>Water Uptake in PEMFC Catalyst Layers</td>\n",
       "      <td>&lt;jats:p&gt;Water uptake profiles of proton-exchan...</td>\n",
       "      <td>2011.000</td>\n",
       "      <td>10.1149/1.3635598</td>\n",
       "      <td>water uptake pemfc catalyst layer water uptake...</td>\n",
       "    </tr>\n",
       "  </tbody>\n",
       "</table>\n",
       "</div>\n",
       "      <button class=\"colab-df-convert\" onclick=\"convertToInteractive('df-047fd2b1-4d4e-4eaf-ac61-f8495d6c382a')\"\n",
       "              title=\"Convert this dataframe to an interactive table.\"\n",
       "              style=\"display:none;\">\n",
       "        \n",
       "  <svg xmlns=\"http://www.w3.org/2000/svg\" height=\"24px\"viewBox=\"0 0 24 24\"\n",
       "       width=\"24px\">\n",
       "    <path d=\"M0 0h24v24H0V0z\" fill=\"none\"/>\n",
       "    <path d=\"M18.56 5.44l.94 2.06.94-2.06 2.06-.94-2.06-.94-.94-2.06-.94 2.06-2.06.94zm-11 1L8.5 8.5l.94-2.06 2.06-.94-2.06-.94L8.5 2.5l-.94 2.06-2.06.94zm10 10l.94 2.06.94-2.06 2.06-.94-2.06-.94-.94-2.06-.94 2.06-2.06.94z\"/><path d=\"M17.41 7.96l-1.37-1.37c-.4-.4-.92-.59-1.43-.59-.52 0-1.04.2-1.43.59L10.3 9.45l-7.72 7.72c-.78.78-.78 2.05 0 2.83L4 21.41c.39.39.9.59 1.41.59.51 0 1.02-.2 1.41-.59l7.78-7.78 2.81-2.81c.8-.78.8-2.07 0-2.86zM5.41 20L4 18.59l7.72-7.72 1.47 1.35L5.41 20z\"/>\n",
       "  </svg>\n",
       "      </button>\n",
       "      \n",
       "  <style>\n",
       "    .colab-df-container {\n",
       "      display:flex;\n",
       "      flex-wrap:wrap;\n",
       "      gap: 12px;\n",
       "    }\n",
       "\n",
       "    .colab-df-convert {\n",
       "      background-color: #E8F0FE;\n",
       "      border: none;\n",
       "      border-radius: 50%;\n",
       "      cursor: pointer;\n",
       "      display: none;\n",
       "      fill: #1967D2;\n",
       "      height: 32px;\n",
       "      padding: 0 0 0 0;\n",
       "      width: 32px;\n",
       "    }\n",
       "\n",
       "    .colab-df-convert:hover {\n",
       "      background-color: #E2EBFA;\n",
       "      box-shadow: 0px 1px 2px rgba(60, 64, 67, 0.3), 0px 1px 3px 1px rgba(60, 64, 67, 0.15);\n",
       "      fill: #174EA6;\n",
       "    }\n",
       "\n",
       "    [theme=dark] .colab-df-convert {\n",
       "      background-color: #3B4455;\n",
       "      fill: #D2E3FC;\n",
       "    }\n",
       "\n",
       "    [theme=dark] .colab-df-convert:hover {\n",
       "      background-color: #434B5C;\n",
       "      box-shadow: 0px 1px 3px 1px rgba(0, 0, 0, 0.15);\n",
       "      filter: drop-shadow(0px 1px 2px rgba(0, 0, 0, 0.3));\n",
       "      fill: #FFFFFF;\n",
       "    }\n",
       "  </style>\n",
       "\n",
       "      <script>\n",
       "        const buttonEl =\n",
       "          document.querySelector('#df-047fd2b1-4d4e-4eaf-ac61-f8495d6c382a button.colab-df-convert');\n",
       "        buttonEl.style.display =\n",
       "          google.colab.kernel.accessAllowed ? 'block' : 'none';\n",
       "\n",
       "        async function convertToInteractive(key) {\n",
       "          const element = document.querySelector('#df-047fd2b1-4d4e-4eaf-ac61-f8495d6c382a');\n",
       "          const dataTable =\n",
       "            await google.colab.kernel.invokeFunction('convertToInteractive',\n",
       "                                                     [key], {});\n",
       "          if (!dataTable) return;\n",
       "\n",
       "          const docLinkHtml = 'Like what you see? Visit the ' +\n",
       "            '<a target=\"_blank\" href=https://colab.research.google.com/notebooks/data_table.ipynb>data table notebook</a>'\n",
       "            + ' to learn more about interactive tables.';\n",
       "          element.innerHTML = '';\n",
       "          dataTable['output_type'] = 'display_data';\n",
       "          await google.colab.output.renderOutput(dataTable, element);\n",
       "          const docLink = document.createElement('div');\n",
       "          docLink.innerHTML = docLinkHtml;\n",
       "          element.appendChild(docLink);\n",
       "        }\n",
       "      </script>\n",
       "    </div>\n",
       "  </div>\n",
       "  "
      ],
      "text/plain": [
       "             id                                              title  \\\n",
       "116883  3478261  A Generalized MILP Formulation for the Period-...   \n",
       "143099  4180201  Waterbirds from wetlands of the southeast of t...   \n",
       "74612   2507507              Water Uptake in PEMFC Catalyst Layers   \n",
       "\n",
       "                                                 abstract     year  \\\n",
       "116883  <jats:p>We study a resource leveling problem w... 2019.000   \n",
       "143099  <jats:p>We present a waterbird inventory corre... 2011.000   \n",
       "74612   <jats:p>Water uptake profiles of proton-exchan... 2011.000   \n",
       "\n",
       "                      doi                                               text  \n",
       "116883  10.3390/a13010006  generalize milp formulation period aggregated ...  \n",
       "143099   10.15560/7.4.537  waterbird wetland southeast córdoba province a...  \n",
       "74612   10.1149/1.3635598  water uptake pemfc catalyst layer water uptake...  "
      ]
     },
     "execution_count": 37,
     "metadata": {},
     "output_type": "execute_result"
    }
   ],
   "source": [
    "text = works.title + ' ' + works.abstract\n",
    "works['text'] = text.apply(text_preprocessor)\n",
    "works.sample(3)"
   ]
  },
  {
   "cell_type": "markdown",
   "metadata": {
    "id": "E5Qnzm6gGzdo"
   },
   "source": [
    "- We can now drop the `title` and `abstract` columns from `works`."
   ]
  },
  {
   "cell_type": "code",
   "execution_count": 38,
   "metadata": {
    "id": "6DAzS7rDHXxY"
   },
   "outputs": [],
   "source": [
    "works = works.drop(columns=['title', 'abstract'])"
   ]
  },
  {
   "cell_type": "markdown",
   "metadata": {
    "id": "DtWZ3H4CDCJN"
   },
   "source": [
    "- Let's now proceed with the feature engineering.\n",
    "- Since we only have a small subset of the total published papers, we cannot compute metrics such as averages and standard deviations of the CD5 for authors, affiliations, and subjects. (If we could, we would compute those for each paper only based on previously published work to avoid overfitting)."
   ]
  },
  {
   "cell_type": "markdown",
   "metadata": {
    "id": "o4YDRcQNEim0"
   },
   "source": [
    "- The authors of the Nature paper mention that disruptive papers are more likely to introduce new words/pairs of words.\n",
    "- For that reason, I wanted to compute for each paper the number of new words introduced compared to its references and normalize it by the number of words in the paper's abstract and the total number of unique words in the abstracts of its referenced papers, to be comparable.\n",
    "- Unfortunately, while I downloaded the [alexandria3k package](https://github.com/dspinellis/alexandria3k) and the Crossref data as noted in the documentation, when I tried to populate an SQLite database with the abstracts of the papers included in `work_references` using the following code, I realized that it would require more time than I have available.\n",
    "\n",
    "```python\n",
    "from alexandria3k.crossref import Crossref\n",
    "\n",
    "crossref_instance = Crossref('April 2022 Public Data File from Crossref')\n",
    "\n",
    "crossref_instance.populate(\n",
    "    \"reference_abstracts.db\",\n",
    "    columns=[\n",
    "        \"works.doi\",\n",
    "        \"works.abstract\",\n",
    "    ],\n",
    "    condition=\"works.doi IN (SELECT DISTINCT doi FROM attached.work_references)\",\n",
    "    attach_databases=[\"attached:publications_graph.db\"]\n",
    ")\n",
    "```\n",
    "\n",
    "- For completeness, I want to mention that I also tried the EXISTS operator but it was even slower."
   ]
  },
  {
   "cell_type": "markdown",
   "metadata": {
    "id": "akAzn84BHYlI"
   },
   "source": [
    "- The authors of the Nature paper also mention that disruptive papers tend to contain more verbs evoking creation and discovery while consolidating papers tend to use more verbs evoking improvement and application.\n",
    "- For that reason, I will count for each paper the number of disruptive and consolidating words and then I will compute their ratio. The set of disruptive words consists of the most popular verbs evoking creation and discovery, while the set of consolidating words consists of the most popular verbs evoking improvement and application for more robust results."
   ]
  },
  {
   "cell_type": "code",
   "execution_count": 39,
   "metadata": {
    "id": "VPEBBfMyL0ve"
   },
   "outputs": [],
   "source": [
    "disruptive_words = {\n",
    "    'create', 'make', 'build', 'construct', 'form', 'develop', 'invent', 'craft',\n",
    "    'generate', 'discover', 'identify', 'spot', 'detect', 'find', 'determine'\n",
    "}\n",
    "\n",
    "consolidating_words = {\n",
    "    'improve', 'enhance', 'increase', 'boost', 'upgrade', 'refine', 'evolve',\n",
    "    'optimize', 'reform', 'apply', 'use', 'utilize', 'employ', 'harness'\n",
    "}\n",
    "\n",
    "def disruptive_to_consolidating_ratio(text):\n",
    "    words = text.split()\n",
    "\n",
    "    disruptive_count = 0\n",
    "    consolidating_count = 0\n",
    "    for word in words:\n",
    "        if word in disruptive_words:\n",
    "            disruptive_count += 1\n",
    "        elif word in consolidating_words:\n",
    "            consolidating_count += 1\n",
    "\n",
    "    return (disruptive_count + 1) / (consolidating_count + 1)"
   ]
  },
  {
   "cell_type": "code",
   "execution_count": 40,
   "metadata": {
    "id": "VoBPjFO_E5cW"
   },
   "outputs": [],
   "source": [
    "works['disruptive_to_consolidating_ratio'] = works.text.apply(disruptive_to_consolidating_ratio)"
   ]
  },
  {
   "cell_type": "markdown",
   "metadata": {
    "id": "psCKi8J_jvHR"
   },
   "source": [
    "- From the `work_references` DataFrame we can obtain:\n",
    "  - The number of references for each paper"
   ]
  },
  {
   "cell_type": "code",
   "execution_count": 41,
   "metadata": {
    "colab": {
     "base_uri": "https://localhost:8080/",
     "height": 455
    },
    "id": "b08Yb1cRRRBI",
    "outputId": "a65fc585-f804-477a-9973-2df78ebc7059"
   },
   "outputs": [
    {
     "data": {
      "text/html": [
       "\n",
       "  <div id=\"df-bb71c08d-6fdf-4cb4-907f-cd59c7bd07e7\">\n",
       "    <div class=\"colab-df-container\">\n",
       "      <div>\n",
       "<style scoped>\n",
       "    .dataframe tbody tr th:only-of-type {\n",
       "        vertical-align: middle;\n",
       "    }\n",
       "\n",
       "    .dataframe tbody tr th {\n",
       "        vertical-align: top;\n",
       "    }\n",
       "\n",
       "    .dataframe thead th {\n",
       "        text-align: right;\n",
       "    }\n",
       "</style>\n",
       "<table border=\"1\" class=\"dataframe\">\n",
       "  <thead>\n",
       "    <tr style=\"text-align: right;\">\n",
       "      <th></th>\n",
       "      <th>num_of_references</th>\n",
       "    </tr>\n",
       "    <tr>\n",
       "      <th>id</th>\n",
       "      <th></th>\n",
       "    </tr>\n",
       "  </thead>\n",
       "  <tbody>\n",
       "    <tr>\n",
       "      <th>171</th>\n",
       "      <td>23</td>\n",
       "    </tr>\n",
       "    <tr>\n",
       "      <th>239</th>\n",
       "      <td>5</td>\n",
       "    </tr>\n",
       "    <tr>\n",
       "      <th>284</th>\n",
       "      <td>59</td>\n",
       "    </tr>\n",
       "    <tr>\n",
       "      <th>299</th>\n",
       "      <td>66</td>\n",
       "    </tr>\n",
       "    <tr>\n",
       "      <th>373</th>\n",
       "      <td>25</td>\n",
       "    </tr>\n",
       "    <tr>\n",
       "      <th>...</th>\n",
       "      <td>...</td>\n",
       "    </tr>\n",
       "    <tr>\n",
       "      <th>4477724</th>\n",
       "      <td>23</td>\n",
       "    </tr>\n",
       "    <tr>\n",
       "      <th>4489260</th>\n",
       "      <td>40</td>\n",
       "    </tr>\n",
       "    <tr>\n",
       "      <th>4490759</th>\n",
       "      <td>23</td>\n",
       "    </tr>\n",
       "    <tr>\n",
       "      <th>4491211</th>\n",
       "      <td>26</td>\n",
       "    </tr>\n",
       "    <tr>\n",
       "      <th>4491329</th>\n",
       "      <td>26</td>\n",
       "    </tr>\n",
       "  </tbody>\n",
       "</table>\n",
       "<p>57986 rows × 1 columns</p>\n",
       "</div>\n",
       "      <button class=\"colab-df-convert\" onclick=\"convertToInteractive('df-bb71c08d-6fdf-4cb4-907f-cd59c7bd07e7')\"\n",
       "              title=\"Convert this dataframe to an interactive table.\"\n",
       "              style=\"display:none;\">\n",
       "        \n",
       "  <svg xmlns=\"http://www.w3.org/2000/svg\" height=\"24px\"viewBox=\"0 0 24 24\"\n",
       "       width=\"24px\">\n",
       "    <path d=\"M0 0h24v24H0V0z\" fill=\"none\"/>\n",
       "    <path d=\"M18.56 5.44l.94 2.06.94-2.06 2.06-.94-2.06-.94-.94-2.06-.94 2.06-2.06.94zm-11 1L8.5 8.5l.94-2.06 2.06-.94-2.06-.94L8.5 2.5l-.94 2.06-2.06.94zm10 10l.94 2.06.94-2.06 2.06-.94-2.06-.94-.94-2.06-.94 2.06-2.06.94z\"/><path d=\"M17.41 7.96l-1.37-1.37c-.4-.4-.92-.59-1.43-.59-.52 0-1.04.2-1.43.59L10.3 9.45l-7.72 7.72c-.78.78-.78 2.05 0 2.83L4 21.41c.39.39.9.59 1.41.59.51 0 1.02-.2 1.41-.59l7.78-7.78 2.81-2.81c.8-.78.8-2.07 0-2.86zM5.41 20L4 18.59l7.72-7.72 1.47 1.35L5.41 20z\"/>\n",
       "  </svg>\n",
       "      </button>\n",
       "      \n",
       "  <style>\n",
       "    .colab-df-container {\n",
       "      display:flex;\n",
       "      flex-wrap:wrap;\n",
       "      gap: 12px;\n",
       "    }\n",
       "\n",
       "    .colab-df-convert {\n",
       "      background-color: #E8F0FE;\n",
       "      border: none;\n",
       "      border-radius: 50%;\n",
       "      cursor: pointer;\n",
       "      display: none;\n",
       "      fill: #1967D2;\n",
       "      height: 32px;\n",
       "      padding: 0 0 0 0;\n",
       "      width: 32px;\n",
       "    }\n",
       "\n",
       "    .colab-df-convert:hover {\n",
       "      background-color: #E2EBFA;\n",
       "      box-shadow: 0px 1px 2px rgba(60, 64, 67, 0.3), 0px 1px 3px 1px rgba(60, 64, 67, 0.15);\n",
       "      fill: #174EA6;\n",
       "    }\n",
       "\n",
       "    [theme=dark] .colab-df-convert {\n",
       "      background-color: #3B4455;\n",
       "      fill: #D2E3FC;\n",
       "    }\n",
       "\n",
       "    [theme=dark] .colab-df-convert:hover {\n",
       "      background-color: #434B5C;\n",
       "      box-shadow: 0px 1px 3px 1px rgba(0, 0, 0, 0.15);\n",
       "      filter: drop-shadow(0px 1px 2px rgba(0, 0, 0, 0.3));\n",
       "      fill: #FFFFFF;\n",
       "    }\n",
       "  </style>\n",
       "\n",
       "      <script>\n",
       "        const buttonEl =\n",
       "          document.querySelector('#df-bb71c08d-6fdf-4cb4-907f-cd59c7bd07e7 button.colab-df-convert');\n",
       "        buttonEl.style.display =\n",
       "          google.colab.kernel.accessAllowed ? 'block' : 'none';\n",
       "\n",
       "        async function convertToInteractive(key) {\n",
       "          const element = document.querySelector('#df-bb71c08d-6fdf-4cb4-907f-cd59c7bd07e7');\n",
       "          const dataTable =\n",
       "            await google.colab.kernel.invokeFunction('convertToInteractive',\n",
       "                                                     [key], {});\n",
       "          if (!dataTable) return;\n",
       "\n",
       "          const docLinkHtml = 'Like what you see? Visit the ' +\n",
       "            '<a target=\"_blank\" href=https://colab.research.google.com/notebooks/data_table.ipynb>data table notebook</a>'\n",
       "            + ' to learn more about interactive tables.';\n",
       "          element.innerHTML = '';\n",
       "          dataTable['output_type'] = 'display_data';\n",
       "          await google.colab.output.renderOutput(dataTable, element);\n",
       "          const docLink = document.createElement('div');\n",
       "          docLink.innerHTML = docLinkHtml;\n",
       "          element.appendChild(docLink);\n",
       "        }\n",
       "      </script>\n",
       "    </div>\n",
       "  </div>\n",
       "  "
      ],
      "text/plain": [
       "         num_of_references\n",
       "id                        \n",
       "171                     23\n",
       "239                      5\n",
       "284                     59\n",
       "299                     66\n",
       "373                     25\n",
       "...                    ...\n",
       "4477724                 23\n",
       "4489260                 40\n",
       "4490759                 23\n",
       "4491211                 26\n",
       "4491329                 26\n",
       "\n",
       "[57986 rows x 1 columns]"
      ]
     },
     "execution_count": 41,
     "metadata": {},
     "output_type": "execute_result"
    }
   ],
   "source": [
    "join = pd.merge(works, work_references, left_on='id', right_on='work_id', suffixes=('_work', '_ref'), how='left')\n",
    "num_of_references = join.groupby('id').size().to_frame('num_of_references')\n",
    "num_of_references['num_of_references'] = num_of_references['num_of_references'].replace(1, 0)\n",
    "num_of_references"
   ]
  },
  {
   "cell_type": "markdown",
   "metadata": {
    "id": "wI5vsXz0lvHO"
   },
   "source": [
    "- From the `work_authors` DataFrame we can obtain:\n",
    "  - The number of authors for each paper "
   ]
  },
  {
   "cell_type": "code",
   "execution_count": 42,
   "metadata": {
    "colab": {
     "base_uri": "https://localhost:8080/"
    },
    "id": "Fxf9cyU9W_oL",
    "outputId": "62aa74d2-3b6e-4c13-e6b0-3367b0afa203"
   },
   "outputs": [
    {
     "data": {
      "text/plain": [
       "num_of_authors\n",
       "2                 11349\n",
       "1                 10375\n",
       "3                 10002\n",
       "4                  7503\n",
       "5                  5536\n",
       "                  ...  \n",
       "42                    1\n",
       "53                    1\n",
       "52                    1\n",
       "51                    1\n",
       "2934                  1\n",
       "Length: 73, dtype: int64"
      ]
     },
     "execution_count": 42,
     "metadata": {},
     "output_type": "execute_result"
    }
   ],
   "source": [
    "join = pd.merge(works, work_authors, left_on='id', right_on='work_id', suffixes=('_work', '_author'), how='left')\n",
    "num_of_authors = join.groupby('id_work').size().to_frame('num_of_authors')\n",
    "num_of_authors.value_counts()"
   ]
  },
  {
   "cell_type": "markdown",
   "metadata": {
    "id": "BAF5aiOFsoA_"
   },
   "source": [
    "- From the `work_subjects` DataFrame we can obtain:\n",
    "  - The number of subjects each paper is about"
   ]
  },
  {
   "cell_type": "code",
   "execution_count": 43,
   "metadata": {
    "colab": {
     "base_uri": "https://localhost:8080/",
     "height": 455
    },
    "id": "ERP9HGm8XlPd",
    "outputId": "8dbfc5a7-0a8f-423c-d4f5-3552f2d449a8"
   },
   "outputs": [
    {
     "data": {
      "text/html": [
       "\n",
       "  <div id=\"df-329e6fa8-ab8b-4368-8b1c-adf160fe6720\">\n",
       "    <div class=\"colab-df-container\">\n",
       "      <div>\n",
       "<style scoped>\n",
       "    .dataframe tbody tr th:only-of-type {\n",
       "        vertical-align: middle;\n",
       "    }\n",
       "\n",
       "    .dataframe tbody tr th {\n",
       "        vertical-align: top;\n",
       "    }\n",
       "\n",
       "    .dataframe thead th {\n",
       "        text-align: right;\n",
       "    }\n",
       "</style>\n",
       "<table border=\"1\" class=\"dataframe\">\n",
       "  <thead>\n",
       "    <tr style=\"text-align: right;\">\n",
       "      <th></th>\n",
       "      <th>num_of_subjects</th>\n",
       "    </tr>\n",
       "    <tr>\n",
       "      <th>id</th>\n",
       "      <th></th>\n",
       "    </tr>\n",
       "  </thead>\n",
       "  <tbody>\n",
       "    <tr>\n",
       "      <th>171</th>\n",
       "      <td>4</td>\n",
       "    </tr>\n",
       "    <tr>\n",
       "      <th>239</th>\n",
       "      <td>1</td>\n",
       "    </tr>\n",
       "    <tr>\n",
       "      <th>284</th>\n",
       "      <td>4</td>\n",
       "    </tr>\n",
       "    <tr>\n",
       "      <th>299</th>\n",
       "      <td>3</td>\n",
       "    </tr>\n",
       "    <tr>\n",
       "      <th>373</th>\n",
       "      <td>4</td>\n",
       "    </tr>\n",
       "    <tr>\n",
       "      <th>...</th>\n",
       "      <td>...</td>\n",
       "    </tr>\n",
       "    <tr>\n",
       "      <th>4477724</th>\n",
       "      <td>1</td>\n",
       "    </tr>\n",
       "    <tr>\n",
       "      <th>4489260</th>\n",
       "      <td>3</td>\n",
       "    </tr>\n",
       "    <tr>\n",
       "      <th>4490759</th>\n",
       "      <td>1</td>\n",
       "    </tr>\n",
       "    <tr>\n",
       "      <th>4491211</th>\n",
       "      <td>2</td>\n",
       "    </tr>\n",
       "    <tr>\n",
       "      <th>4491329</th>\n",
       "      <td>1</td>\n",
       "    </tr>\n",
       "  </tbody>\n",
       "</table>\n",
       "<p>57986 rows × 1 columns</p>\n",
       "</div>\n",
       "      <button class=\"colab-df-convert\" onclick=\"convertToInteractive('df-329e6fa8-ab8b-4368-8b1c-adf160fe6720')\"\n",
       "              title=\"Convert this dataframe to an interactive table.\"\n",
       "              style=\"display:none;\">\n",
       "        \n",
       "  <svg xmlns=\"http://www.w3.org/2000/svg\" height=\"24px\"viewBox=\"0 0 24 24\"\n",
       "       width=\"24px\">\n",
       "    <path d=\"M0 0h24v24H0V0z\" fill=\"none\"/>\n",
       "    <path d=\"M18.56 5.44l.94 2.06.94-2.06 2.06-.94-2.06-.94-.94-2.06-.94 2.06-2.06.94zm-11 1L8.5 8.5l.94-2.06 2.06-.94-2.06-.94L8.5 2.5l-.94 2.06-2.06.94zm10 10l.94 2.06.94-2.06 2.06-.94-2.06-.94-.94-2.06-.94 2.06-2.06.94z\"/><path d=\"M17.41 7.96l-1.37-1.37c-.4-.4-.92-.59-1.43-.59-.52 0-1.04.2-1.43.59L10.3 9.45l-7.72 7.72c-.78.78-.78 2.05 0 2.83L4 21.41c.39.39.9.59 1.41.59.51 0 1.02-.2 1.41-.59l7.78-7.78 2.81-2.81c.8-.78.8-2.07 0-2.86zM5.41 20L4 18.59l7.72-7.72 1.47 1.35L5.41 20z\"/>\n",
       "  </svg>\n",
       "      </button>\n",
       "      \n",
       "  <style>\n",
       "    .colab-df-container {\n",
       "      display:flex;\n",
       "      flex-wrap:wrap;\n",
       "      gap: 12px;\n",
       "    }\n",
       "\n",
       "    .colab-df-convert {\n",
       "      background-color: #E8F0FE;\n",
       "      border: none;\n",
       "      border-radius: 50%;\n",
       "      cursor: pointer;\n",
       "      display: none;\n",
       "      fill: #1967D2;\n",
       "      height: 32px;\n",
       "      padding: 0 0 0 0;\n",
       "      width: 32px;\n",
       "    }\n",
       "\n",
       "    .colab-df-convert:hover {\n",
       "      background-color: #E2EBFA;\n",
       "      box-shadow: 0px 1px 2px rgba(60, 64, 67, 0.3), 0px 1px 3px 1px rgba(60, 64, 67, 0.15);\n",
       "      fill: #174EA6;\n",
       "    }\n",
       "\n",
       "    [theme=dark] .colab-df-convert {\n",
       "      background-color: #3B4455;\n",
       "      fill: #D2E3FC;\n",
       "    }\n",
       "\n",
       "    [theme=dark] .colab-df-convert:hover {\n",
       "      background-color: #434B5C;\n",
       "      box-shadow: 0px 1px 3px 1px rgba(0, 0, 0, 0.15);\n",
       "      filter: drop-shadow(0px 1px 2px rgba(0, 0, 0, 0.3));\n",
       "      fill: #FFFFFF;\n",
       "    }\n",
       "  </style>\n",
       "\n",
       "      <script>\n",
       "        const buttonEl =\n",
       "          document.querySelector('#df-329e6fa8-ab8b-4368-8b1c-adf160fe6720 button.colab-df-convert');\n",
       "        buttonEl.style.display =\n",
       "          google.colab.kernel.accessAllowed ? 'block' : 'none';\n",
       "\n",
       "        async function convertToInteractive(key) {\n",
       "          const element = document.querySelector('#df-329e6fa8-ab8b-4368-8b1c-adf160fe6720');\n",
       "          const dataTable =\n",
       "            await google.colab.kernel.invokeFunction('convertToInteractive',\n",
       "                                                     [key], {});\n",
       "          if (!dataTable) return;\n",
       "\n",
       "          const docLinkHtml = 'Like what you see? Visit the ' +\n",
       "            '<a target=\"_blank\" href=https://colab.research.google.com/notebooks/data_table.ipynb>data table notebook</a>'\n",
       "            + ' to learn more about interactive tables.';\n",
       "          element.innerHTML = '';\n",
       "          dataTable['output_type'] = 'display_data';\n",
       "          await google.colab.output.renderOutput(dataTable, element);\n",
       "          const docLink = document.createElement('div');\n",
       "          docLink.innerHTML = docLinkHtml;\n",
       "          element.appendChild(docLink);\n",
       "        }\n",
       "      </script>\n",
       "    </div>\n",
       "  </div>\n",
       "  "
      ],
      "text/plain": [
       "         num_of_subjects\n",
       "id                      \n",
       "171                    4\n",
       "239                    1\n",
       "284                    4\n",
       "299                    3\n",
       "373                    4\n",
       "...                  ...\n",
       "4477724                1\n",
       "4489260                3\n",
       "4490759                1\n",
       "4491211                2\n",
       "4491329                1\n",
       "\n",
       "[57986 rows x 1 columns]"
      ]
     },
     "execution_count": 43,
     "metadata": {},
     "output_type": "execute_result"
    }
   ],
   "source": [
    "join = pd.merge(works, work_subjects, left_on='id', right_on='work_id', how='left')\n",
    "num_of_subjects = join.groupby('id').size().to_frame('num_of_subjects')\n",
    "num_of_subjects"
   ]
  },
  {
   "cell_type": "markdown",
   "metadata": {
    "id": "P4FB0HcI88fT"
   },
   "source": [
    "- We will combine the features created above into a single dataset."
   ]
  },
  {
   "cell_type": "code",
   "execution_count": 44,
   "metadata": {
    "colab": {
     "base_uri": "https://localhost:8080/",
     "height": 468
    },
    "id": "pyVtlW_ZqRfc",
    "outputId": "295404ff-d1cb-4eb8-8ebd-bc9a2427395a"
   },
   "outputs": [
    {
     "data": {
      "text/html": [
       "\n",
       "  <div id=\"df-f440f5f1-13d9-4ebc-bf58-096acd5f1e13\">\n",
       "    <div class=\"colab-df-container\">\n",
       "      <div>\n",
       "<style scoped>\n",
       "    .dataframe tbody tr th:only-of-type {\n",
       "        vertical-align: middle;\n",
       "    }\n",
       "\n",
       "    .dataframe tbody tr th {\n",
       "        vertical-align: top;\n",
       "    }\n",
       "\n",
       "    .dataframe thead th {\n",
       "        text-align: right;\n",
       "    }\n",
       "</style>\n",
       "<table border=\"1\" class=\"dataframe\">\n",
       "  <thead>\n",
       "    <tr style=\"text-align: right;\">\n",
       "      <th></th>\n",
       "      <th>year</th>\n",
       "      <th>disruptive_to_consolidating_ratio</th>\n",
       "      <th>num_of_references</th>\n",
       "      <th>num_of_authors</th>\n",
       "      <th>num_of_subjects</th>\n",
       "      <th>cdindex</th>\n",
       "    </tr>\n",
       "  </thead>\n",
       "  <tbody>\n",
       "    <tr>\n",
       "      <th>0</th>\n",
       "      <td>2007.000</td>\n",
       "      <td>3.000</td>\n",
       "      <td>23</td>\n",
       "      <td>1</td>\n",
       "      <td>4</td>\n",
       "      <td>0.000</td>\n",
       "    </tr>\n",
       "    <tr>\n",
       "      <th>1</th>\n",
       "      <td>1986.000</td>\n",
       "      <td>1.000</td>\n",
       "      <td>5</td>\n",
       "      <td>1</td>\n",
       "      <td>1</td>\n",
       "      <td>0.000</td>\n",
       "    </tr>\n",
       "    <tr>\n",
       "      <th>2</th>\n",
       "      <td>2007.000</td>\n",
       "      <td>0.400</td>\n",
       "      <td>59</td>\n",
       "      <td>4</td>\n",
       "      <td>4</td>\n",
       "      <td>-0.003</td>\n",
       "    </tr>\n",
       "    <tr>\n",
       "      <th>3</th>\n",
       "      <td>2007.000</td>\n",
       "      <td>7.000</td>\n",
       "      <td>66</td>\n",
       "      <td>8</td>\n",
       "      <td>3</td>\n",
       "      <td>-0.004</td>\n",
       "    </tr>\n",
       "    <tr>\n",
       "      <th>4</th>\n",
       "      <td>2007.000</td>\n",
       "      <td>1.000</td>\n",
       "      <td>25</td>\n",
       "      <td>3</td>\n",
       "      <td>4</td>\n",
       "      <td>-0.004</td>\n",
       "    </tr>\n",
       "    <tr>\n",
       "      <th>...</th>\n",
       "      <td>...</td>\n",
       "      <td>...</td>\n",
       "      <td>...</td>\n",
       "      <td>...</td>\n",
       "      <td>...</td>\n",
       "      <td>...</td>\n",
       "    </tr>\n",
       "    <tr>\n",
       "      <th>57981</th>\n",
       "      <td>2013.000</td>\n",
       "      <td>2.000</td>\n",
       "      <td>23</td>\n",
       "      <td>1</td>\n",
       "      <td>1</td>\n",
       "      <td>-0.100</td>\n",
       "    </tr>\n",
       "    <tr>\n",
       "      <th>57982</th>\n",
       "      <td>1998.000</td>\n",
       "      <td>0.167</td>\n",
       "      <td>40</td>\n",
       "      <td>3</td>\n",
       "      <td>3</td>\n",
       "      <td>-0.008</td>\n",
       "    </tr>\n",
       "    <tr>\n",
       "      <th>57983</th>\n",
       "      <td>2001.000</td>\n",
       "      <td>2.000</td>\n",
       "      <td>23</td>\n",
       "      <td>2</td>\n",
       "      <td>1</td>\n",
       "      <td>-0.040</td>\n",
       "    </tr>\n",
       "    <tr>\n",
       "      <th>57984</th>\n",
       "      <td>2000.000</td>\n",
       "      <td>0.500</td>\n",
       "      <td>26</td>\n",
       "      <td>1</td>\n",
       "      <td>2</td>\n",
       "      <td>0.100</td>\n",
       "    </tr>\n",
       "    <tr>\n",
       "      <th>57985</th>\n",
       "      <td>1998.000</td>\n",
       "      <td>1.000</td>\n",
       "      <td>26</td>\n",
       "      <td>3</td>\n",
       "      <td>1</td>\n",
       "      <td>-0.011</td>\n",
       "    </tr>\n",
       "  </tbody>\n",
       "</table>\n",
       "<p>57986 rows × 6 columns</p>\n",
       "</div>\n",
       "      <button class=\"colab-df-convert\" onclick=\"convertToInteractive('df-f440f5f1-13d9-4ebc-bf58-096acd5f1e13')\"\n",
       "              title=\"Convert this dataframe to an interactive table.\"\n",
       "              style=\"display:none;\">\n",
       "        \n",
       "  <svg xmlns=\"http://www.w3.org/2000/svg\" height=\"24px\"viewBox=\"0 0 24 24\"\n",
       "       width=\"24px\">\n",
       "    <path d=\"M0 0h24v24H0V0z\" fill=\"none\"/>\n",
       "    <path d=\"M18.56 5.44l.94 2.06.94-2.06 2.06-.94-2.06-.94-.94-2.06-.94 2.06-2.06.94zm-11 1L8.5 8.5l.94-2.06 2.06-.94-2.06-.94L8.5 2.5l-.94 2.06-2.06.94zm10 10l.94 2.06.94-2.06 2.06-.94-2.06-.94-.94-2.06-.94 2.06-2.06.94z\"/><path d=\"M17.41 7.96l-1.37-1.37c-.4-.4-.92-.59-1.43-.59-.52 0-1.04.2-1.43.59L10.3 9.45l-7.72 7.72c-.78.78-.78 2.05 0 2.83L4 21.41c.39.39.9.59 1.41.59.51 0 1.02-.2 1.41-.59l7.78-7.78 2.81-2.81c.8-.78.8-2.07 0-2.86zM5.41 20L4 18.59l7.72-7.72 1.47 1.35L5.41 20z\"/>\n",
       "  </svg>\n",
       "      </button>\n",
       "      \n",
       "  <style>\n",
       "    .colab-df-container {\n",
       "      display:flex;\n",
       "      flex-wrap:wrap;\n",
       "      gap: 12px;\n",
       "    }\n",
       "\n",
       "    .colab-df-convert {\n",
       "      background-color: #E8F0FE;\n",
       "      border: none;\n",
       "      border-radius: 50%;\n",
       "      cursor: pointer;\n",
       "      display: none;\n",
       "      fill: #1967D2;\n",
       "      height: 32px;\n",
       "      padding: 0 0 0 0;\n",
       "      width: 32px;\n",
       "    }\n",
       "\n",
       "    .colab-df-convert:hover {\n",
       "      background-color: #E2EBFA;\n",
       "      box-shadow: 0px 1px 2px rgba(60, 64, 67, 0.3), 0px 1px 3px 1px rgba(60, 64, 67, 0.15);\n",
       "      fill: #174EA6;\n",
       "    }\n",
       "\n",
       "    [theme=dark] .colab-df-convert {\n",
       "      background-color: #3B4455;\n",
       "      fill: #D2E3FC;\n",
       "    }\n",
       "\n",
       "    [theme=dark] .colab-df-convert:hover {\n",
       "      background-color: #434B5C;\n",
       "      box-shadow: 0px 1px 3px 1px rgba(0, 0, 0, 0.15);\n",
       "      filter: drop-shadow(0px 1px 2px rgba(0, 0, 0, 0.3));\n",
       "      fill: #FFFFFF;\n",
       "    }\n",
       "  </style>\n",
       "\n",
       "      <script>\n",
       "        const buttonEl =\n",
       "          document.querySelector('#df-f440f5f1-13d9-4ebc-bf58-096acd5f1e13 button.colab-df-convert');\n",
       "        buttonEl.style.display =\n",
       "          google.colab.kernel.accessAllowed ? 'block' : 'none';\n",
       "\n",
       "        async function convertToInteractive(key) {\n",
       "          const element = document.querySelector('#df-f440f5f1-13d9-4ebc-bf58-096acd5f1e13');\n",
       "          const dataTable =\n",
       "            await google.colab.kernel.invokeFunction('convertToInteractive',\n",
       "                                                     [key], {});\n",
       "          if (!dataTable) return;\n",
       "\n",
       "          const docLinkHtml = 'Like what you see? Visit the ' +\n",
       "            '<a target=\"_blank\" href=https://colab.research.google.com/notebooks/data_table.ipynb>data table notebook</a>'\n",
       "            + ' to learn more about interactive tables.';\n",
       "          element.innerHTML = '';\n",
       "          dataTable['output_type'] = 'display_data';\n",
       "          await google.colab.output.renderOutput(dataTable, element);\n",
       "          const docLink = document.createElement('div');\n",
       "          docLink.innerHTML = docLinkHtml;\n",
       "          element.appendChild(docLink);\n",
       "        }\n",
       "      </script>\n",
       "    </div>\n",
       "  </div>\n",
       "  "
      ],
      "text/plain": [
       "          year  disruptive_to_consolidating_ratio  num_of_references  \\\n",
       "0     2007.000                              3.000                 23   \n",
       "1     1986.000                              1.000                  5   \n",
       "2     2007.000                              0.400                 59   \n",
       "3     2007.000                              7.000                 66   \n",
       "4     2007.000                              1.000                 25   \n",
       "...        ...                                ...                ...   \n",
       "57981 2013.000                              2.000                 23   \n",
       "57982 1998.000                              0.167                 40   \n",
       "57983 2001.000                              2.000                 23   \n",
       "57984 2000.000                              0.500                 26   \n",
       "57985 1998.000                              1.000                 26   \n",
       "\n",
       "       num_of_authors  num_of_subjects  cdindex  \n",
       "0                   1                4    0.000  \n",
       "1                   1                1    0.000  \n",
       "2                   4                4   -0.003  \n",
       "3                   8                3   -0.004  \n",
       "4                   3                4   -0.004  \n",
       "...               ...              ...      ...  \n",
       "57981               1                1   -0.100  \n",
       "57982               3                3   -0.008  \n",
       "57983               2                1   -0.040  \n",
       "57984               1                2    0.100  \n",
       "57985               3                1   -0.011  \n",
       "\n",
       "[57986 rows x 6 columns]"
      ]
     },
     "execution_count": 44,
     "metadata": {},
     "output_type": "execute_result"
    }
   ],
   "source": [
    "input = pd.merge(works[['id', 'doi', 'year', 'disruptive_to_consolidating_ratio']],\n",
    "                 num_of_references, left_on='id', right_index=True)\n",
    "input = pd.merge(input, num_of_authors, left_on='id', right_index=True)\n",
    "input = pd.merge(input, num_of_subjects, left_on='id', right_index=True)\n",
    "input = pd.merge(input, cd5, on='doi')\n",
    "input = input.drop(columns=['id', 'doi'])\n",
    "input"
   ]
  },
  {
   "cell_type": "markdown",
   "metadata": {
    "id": "0qtPhC6Rw7zw"
   },
   "source": [
    "- We will separate the features from the target variable."
   ]
  },
  {
   "cell_type": "code",
   "execution_count": 45,
   "metadata": {
    "id": "A3AFcfK2z0ob"
   },
   "outputs": [],
   "source": [
    "X = input.drop(columns=['cdindex'])\n",
    "y = input['cdindex']"
   ]
  },
  {
   "cell_type": "markdown",
   "metadata": {
    "id": "UwE5eIS3SfcQ"
   },
   "source": [
    "- As our first regression model, we will employ `DecisionTreeRegressor` because it is easily interpretable, it can model many kinds of relationships, it is less sensitive to outliers compared to other regression models and it does not require standardization."
   ]
  },
  {
   "cell_type": "markdown",
   "metadata": {
    "id": "HPiFQkkDAV3j"
   },
   "source": [
    "- We will use the Mean Absolute Error (MAE) to evaluate our model:\n",
    "\n",
    "$$ \\mathrm {MAE} ={\\frac {\\sum _{i=1}^{n}\\left|y_{i}-\\hat{y}_{i}\\right|}{n}}$$"
   ]
  },
  {
   "cell_type": "markdown",
   "metadata": {
    "id": "DqJJc11u8P_r"
   },
   "source": [
    "- Let's now proceed with the feature selection.\n",
    "- Since we only have five features and a relatively small dataset, we can simply try every possible combination of features and select the best one."
   ]
  },
  {
   "cell_type": "markdown",
   "metadata": {
    "id": "iym90kVF9zhl"
   },
   "source": [
    "- First, we will create a list of all possible combinations of features."
   ]
  },
  {
   "cell_type": "code",
   "execution_count": 46,
   "metadata": {
    "id": "vpE2GCyq933b"
   },
   "outputs": [],
   "source": [
    "from itertools import combinations\n",
    "\n",
    "feature_combinations = []\n",
    "for k in range(1, len(X.columns) + 1):\n",
    "    feature_combinations += list(combinations(X.columns, k))"
   ]
  },
  {
   "cell_type": "markdown",
   "metadata": {
    "id": "-QWBENnp-Bmz"
   },
   "source": [
    "- Then, we will loop over every feature combination and we will select the best one using cross-validation.\n",
    "- We will also use the `GridSearchCV` class to find the optimal value for the `max_depth` hyperparameter for every feature combination, which is used to prevent the model from overfitting."
   ]
  },
  {
   "cell_type": "code",
   "execution_count": 47,
   "metadata": {
    "id": "gqE9mqejyoU8"
   },
   "outputs": [],
   "source": [
    "param_grid =  {\n",
    "    'max_depth': [depth for depth in range(1, 11)]\n",
    "}"
   ]
  },
  {
   "cell_type": "code",
   "execution_count": 48,
   "metadata": {
    "colab": {
     "base_uri": "https://localhost:8080/"
    },
    "id": "q3K1KcGV-X4m",
    "outputId": "907a0695-1008-49b6-aec9-34402256a8fc"
   },
   "outputs": [
    {
     "name": "stdout",
     "output_type": "stream",
     "text": [
      "Best combination of features: ('year', 'num_of_references')\n",
      "Best score: 0.04031583656286129\n"
     ]
    }
   ],
   "source": [
    "from sklearn.tree import DecisionTreeRegressor\n",
    "from sklearn.model_selection import GridSearchCV\n",
    "\n",
    "\n",
    "best_score, best_features, best_model = float('inf'), None, None\n",
    "\n",
    "for features in feature_combinations:\n",
    "    X_selected = X[list(features)]\n",
    "\n",
    "    model = DecisionTreeRegressor()\n",
    "    grid_search = GridSearchCV(model, param_grid, scoring='neg_mean_absolute_error')\n",
    "    grid_search.fit(X_selected, y)\n",
    "\n",
    "    score = -1 * grid_search.best_score_\n",
    "\n",
    "    if score < best_score:\n",
    "        best_score = score\n",
    "        best_features = features\n",
    "        best_model = grid_search.best_estimator_\n",
    "\n",
    "print(\"Best combination of features:\", best_features)\n",
    "print(\"Best score:\", best_score)"
   ]
  },
  {
   "cell_type": "markdown",
   "metadata": {
    "id": "xJVvwZYwT8wM"
   },
   "source": [
    "- To assess our model's performance, we can compare its mean absolute error (MAE) to the standard deviation of the target variable. This can help us understand how well our model's predictions are performing relative to the variability of the actual target variable."
   ]
  },
  {
   "cell_type": "code",
   "execution_count": 49,
   "metadata": {
    "colab": {
     "base_uri": "https://localhost:8080/"
    },
    "id": "AFUjs86J4ou1",
    "outputId": "a99e7897-3cde-46ed-b824-3111dd2c0624"
   },
   "outputs": [
    {
     "name": "stdout",
     "output_type": "stream",
     "text": [
      "The standard deviation of the target variable is: 0.44563919830019544\n"
     ]
    }
   ],
   "source": [
    "print(\"The standard deviation of the target variable is:\", y.std())"
   ]
  },
  {
   "cell_type": "markdown",
   "metadata": {
    "id": "zaD23ktKUXip"
   },
   "source": [
    "- As you can see the mean absolute error (MAE) is significantly lower than the standard deviation, which suggests that the model is capturing the variations in the target variable quite well, and the predicted values are close to the actual values."
   ]
  },
  {
   "cell_type": "markdown",
   "metadata": {
    "id": "OboHZI0WaOGU"
   },
   "source": [
    "- Now lets check the feature importances."
   ]
  },
  {
   "cell_type": "code",
   "execution_count": 50,
   "metadata": {
    "colab": {
     "base_uri": "https://localhost:8080/",
     "height": 297
    },
    "id": "so4MOCaIEzKi",
    "outputId": "6379f01f-9185-4410-8fc7-744ea7cece0d"
   },
   "outputs": [
    {
     "data": {
      "text/plain": [
       "<AxesSubplot:xlabel='feature', ylabel='importance'>"
      ]
     },
     "execution_count": 50,
     "metadata": {},
     "output_type": "execute_result"
    },
    {
     "data": {
      "image/png": "[encoded data removed]",
      "text/plain": [
       "<Figure size 432x288 with 1 Axes>"
      ]
     },
     "metadata": {
      "needs_background": "light"
     },
     "output_type": "display_data"
    }
   ],
   "source": [
    "feature_importances = best_model.feature_importances_\n",
    "feature_importances_df = pd.DataFrame({'feature': X[list(best_features)].columns,\n",
    "                                       'importance': feature_importances})\n",
    "sns.barplot(x='feature', y='importance', data=feature_importances_df, palette='Blues')"
   ]
  },
  {
   "cell_type": "markdown",
   "metadata": {
    "id": "Y6rtZNIAU0Q3"
   },
   "source": [
    "- What did our model actually learned?\n",
    "- As we mentioned in the beginning, the CD5 index measures how likely is a work that cites a scientific paper to also cite the works that paper cites. Thus, papers without any references will always have a CD5 index equal to 1.\n",
    "- Let's build a dummy regressor that will always predict CD5 index equal to 1 when the number of references is equal to 0 and CD5 index equal to 0 otherwise."
   ]
  },
  {
   "cell_type": "code",
   "execution_count": 51,
   "metadata": {
    "id": "BaI02-HFiuji"
   },
   "outputs": [],
   "source": [
    "def dummy_regressor(num_of_references):\n",
    "    if num_of_references == 0:\n",
    "        return 1\n",
    "    else:\n",
    "        return 0"
   ]
  },
  {
   "cell_type": "code",
   "execution_count": 52,
   "metadata": {
    "colab": {
     "base_uri": "https://localhost:8080/"
    },
    "id": "XYBn6M8CT9Tn",
    "outputId": "89f65e9d-b424-4c25-9e64-b4cd1b564205"
   },
   "outputs": [
    {
     "name": "stdout",
     "output_type": "stream",
     "text": [
      "0.028853496560947402\n"
     ]
    }
   ],
   "source": [
    "from sklearn.metrics import mean_absolute_error\n",
    "\n",
    "print(mean_absolute_error(y, X.num_of_references.apply(dummy_regressor)))"
   ]
  },
  {
   "cell_type": "markdown",
   "metadata": {
    "id": "rh0w0BpNJdAH"
   },
   "source": [
    "- We can see that the dummy regressor is performing better than our model."
   ]
  },
  {
   "cell_type": "markdown",
   "metadata": {
    "id": "tC4CD1hkuzx8"
   },
   "source": [
    "- For completeness, I want to mention that I also tried to employ ensemble models but could not substantively improve the performance, so there is no reason to include them."
   ]
  },
  {
   "cell_type": "markdown",
   "metadata": {
    "id": "N7c2IHgrFIRM"
   },
   "source": [
    "---"
   ]
  },
  {
   "cell_type": "markdown",
   "metadata": {
    "id": "vk78fzQqBe5U"
   },
   "source": [
    "- As our second regression model, we will employ a Neural Network as required by the description of the assignment.\n",
    "\n",
    "- We will use Keras, which is a high-level neural networks API that makes it easy to define, train, and evaluate deep learning models. Specifically, we will be using the `tf.keras` module, which is built on top of TensorFlow."
   ]
  },
  {
   "cell_type": "markdown",
   "metadata": {
    "id": "ZSXoXX36Hbkx"
   },
   "source": [
    "- To make a fair comparison between the two models, we will use the same two features (year, num_of_references) for training the Neural Network and we will again use the Mean Absolute Error (MAE) to evaluate our model:\n",
    "\n",
    "$$ \\mathrm {MAE} ={\\frac {\\sum _{i=1}^{n}\\left|y_{i}-\\hat{y}_{i}\\right|}{n}}$$"
   ]
  },
  {
   "cell_type": "markdown",
   "metadata": {
    "id": "sQL3O_3JOlO5"
   },
   "source": [
    "- We will split our dataset into training, testing and validation datasets."
   ]
  },
  {
   "cell_type": "code",
   "execution_count": 53,
   "metadata": {
    "id": "9raswaAmxKhL"
   },
   "outputs": [],
   "source": [
    "from sklearn.model_selection import train_test_split\n",
    "\n",
    "X = input[list(best_features)]\n",
    "y = input['cdindex']\n",
    "\n",
    "X_train_val, X_test, y_train_val, y_test = train_test_split(X, y, test_size=0.2, random_state=42)\n",
    "X_train, X_val, y_train, y_val = train_test_split(X_train_val, y_train_val, test_size=0.2, random_state=42)"
   ]
  },
  {
   "cell_type": "markdown",
   "metadata": {
    "id": "sdRyN43ypTB0"
   },
   "source": [
    "- We will calculate the total number of steps required to complete the training for a given number of epochs and a given batch size. This value will be used below to gradually reduce the learning rate during the training period."
   ]
  },
  {
   "cell_type": "code",
   "execution_count": 54,
   "metadata": {
    "id": "mNKPoqiQYTVg"
   },
   "outputs": [],
   "source": [
    "BATCH_SIZE = 32\n",
    "NUM_OF_EPOCHS = 40\n",
    "training_samples = len(X_train)\n",
    "steps_per_epoch = training_samples // BATCH_SIZE\n",
    "total_number_of_steps = steps_per_epoch * NUM_OF_EPOCHS"
   ]
  },
  {
   "cell_type": "markdown",
   "metadata": {
    "id": "DW4FJ6YQ8NPE"
   },
   "source": [
    "- We will create a `get_optimizer()` function that will return an `Adam` optimizer with a learning rate that will gradually decay from the `initial_learning_rate` to the `end_learning_rate` over the given `decay_steps`."
   ]
  },
  {
   "cell_type": "code",
   "execution_count": 55,
   "metadata": {
    "id": "MFbpy8qo7G3h"
   },
   "outputs": [],
   "source": [
    "def get_optimizer(initial_learning_rate=0.01, end_learning_rate=0.0001):\n",
    "    lr_schedule = tf.keras.optimizers.schedules.PolynomialDecay(\n",
    "        initial_learning_rate,\n",
    "        decay_steps=total_number_of_steps,\n",
    "        end_learning_rate=end_learning_rate)\n",
    "\n",
    "    return tf.keras.optimizers.Adam(lr_schedule)"
   ]
  },
  {
   "cell_type": "markdown",
   "metadata": {
    "id": "Les8Z-UhLh1f"
   },
   "source": [
    "- In contrast with decision trees, neural networks require feature normalization because it makes the training process much more stable.\n",
    "- We will use the `Normalization` layer from the TensorFlow Keras API, which is a clean and simple way to add feature normalization into our model.\n",
    "- We will fit the `Normalization` layer to the training data using the `adapt()` method, which calculates each feature's mean and standard deviation and stores them as the layer's weights to ensure that the normalization is performed consistently across the different training batches."
   ]
  },
  {
   "cell_type": "code",
   "execution_count": 56,
   "metadata": {
    "id": "JbOX1-yO8cgX"
   },
   "outputs": [],
   "source": [
    "normalization_layer = tf.keras.layers.Normalization()\n",
    "normalization_layer.adapt(X_train)"
   ]
  },
  {
   "cell_type": "markdown",
   "metadata": {
    "id": "xInuk7ac3Zt_"
   },
   "source": [
    "- We will create a `build_compiled_model()` function that takes in the number of units per layer as input and returns a compiled Keras sequential model (each layer has exactly one input tensor and one output tensor).\n",
    "- The model's \"capacity\" (which is determined by the number of layers and the number of units per layer) is defined dynamically based on the input `num_units_per_layer`."
   ]
  },
  {
   "cell_type": "code",
   "execution_count": 57,
   "metadata": {
    "id": "bSOMpMl83DNJ"
   },
   "outputs": [],
   "source": [
    "def build_compiled_model(num_units_per_layer):\n",
    "    model = tf.keras.Sequential()\n",
    "    model.add(normalization_layer)\n",
    "    for units in num_units_per_layer:\n",
    "        model.add(tf.keras.layers.Dense(units=units, activation=\"relu\"))\n",
    "    model.add(tf.keras.layers.Dense(1))\n",
    "\n",
    "    model.compile(loss='mae', optimizer=get_optimizer())\n",
    "    return model"
   ]
  },
  {
   "cell_type": "markdown",
   "metadata": {
    "id": "W-kvvfOxR5wo"
   },
   "source": [
    "- We will use the `keras-tuner` package to help us pick the optimal set of hyperparameters.\n",
    "- We will create a model-builder function called `build_compiled_hypermodel()`. A model-builder function takes in a `kt.HyperParameters` instance as input, which is used to define the hyperparameter search space and returns a compiled `tf.keras.Model` instance.\n",
    "- The hyperparameters are just functions returning actual values. Since we want to tune the number of layers and the number of units for each layer, the total number of hyperparameters will be different from trial to trial."
   ]
  },
  {
   "cell_type": "code",
   "execution_count": 58,
   "metadata": {
    "id": "umiKAbeWut49"
   },
   "outputs": [],
   "source": [
    "def build_compiled_hypermodel(hp):\n",
    "    num_of_layers = hp.Choice(\"num_of_layers\", values=[2, 3])\n",
    "\n",
    "    num_units_per_layer = [hp.Int(\"layer_1_units\", min_value=32, max_value=256, step=32)]\n",
    "    for i in range(2, num_of_layers + 1):\n",
    "        num_units_per_layer.append(\n",
    "          hp.Int(f'layer_{i}_units', min_value=16, max_value=hp.get(f'layer_{i-1}_units'), step=16))\n",
    "\n",
    "    model = build_compiled_model(num_units_per_layer)\n",
    "    return model"
   ]
  },
  {
   "cell_type": "markdown",
   "metadata": {
    "id": "v0X8MlSfev7c"
   },
   "source": [
    "- After defining the hyperparameter search space, we need to select a tuner to run the hyperparameter search.\n",
    "- We will use the `Hyperband` tuner, which implements a variation of the [Hyperband](https://jmlr.org/papers/volume18/16-558/16-558.pdf) tuning algorithm.\n",
    "- The Hyperband tuning algorithm works by training multiple models with different hyperparameter configurations for a small number of epochs, and then discarding the worst-performing half of the models. The remaining models are then trained for a longer number of epochs, and the process is repeated until only one model remains. The idea behind this approach is to quickly eliminate poorly performing hyperparameter configurations while dedicating more resources to the more promising ones."
   ]
  },
  {
   "cell_type": "code",
   "execution_count": 59,
   "metadata": {
    "id": "VSmLrEgowIWI"
   },
   "outputs": [],
   "source": [
    "tuner = kt.Hyperband(build_compiled_hypermodel,\n",
    "                     objective='val_loss',\n",
    "                     max_epochs=NUM_OF_EPOCHS,\n",
    "                     factor=3,\n",
    "                     hyperband_iterations=3,\n",
    "                     directory='keras_tuner_results',\n",
    "                     project_name='predict_cd5')"
   ]
  },
  {
   "cell_type": "markdown",
   "metadata": {
    "id": "bnVeL7pvO6dG"
   },
   "source": [
    "- We will create a callback function to stop training early if the validation loss has not improved for a certain amount of epochs (defined by the `patience` argument)."
   ]
  },
  {
   "cell_type": "code",
   "execution_count": 60,
   "metadata": {
    "id": "rsl0DdsR1rnf"
   },
   "outputs": [],
   "source": [
    "stop_early = tf.keras.callbacks.EarlyStopping(monitor='val_loss', patience=5)"
   ]
  },
  {
   "cell_type": "markdown",
   "metadata": {
    "id": "7uf8cpx3hr_m"
   },
   "source": [
    "- We can now run the hyperparameter search. During the search, the model-building function is called with different hyperparameter values in each trial. The arguments passed to `search()` are used to fit the models of each trial."
   ]
  },
  {
   "cell_type": "code",
   "execution_count": 61,
   "metadata": {
    "colab": {
     "base_uri": "https://localhost:8080/"
    },
    "id": "rkGz8Ta_wd_r",
    "outputId": "5dbb5bbe-2f5c-44fd-9947-8d12b425c51b"
   },
   "outputs": [
    {
     "name": "stdout",
     "output_type": "stream",
     "text": [
      "Trial 270 Complete [00h 01m 05s]\n",
      "val_loss: 0.028326839208602905\n",
      "\n",
      "Best val_loss So Far: 0.027275022119283676\n",
      "Total elapsed time: 01h 53m 51s\n"
     ]
    }
   ],
   "source": [
    "tuner.search(X_train, y_train,  validation_data=(X_val, y_val), callbacks=[stop_early])"
   ]
  },
  {
   "cell_type": "markdown",
   "metadata": {
    "id": "W3PTp0haAFpb"
   },
   "source": [
    "- We can now retrieve the best model. The models are saved at their best performing epoch evaluated on the `validation_data`."
   ]
  },
  {
   "cell_type": "code",
   "execution_count": 62,
   "metadata": {
    "colab": {
     "base_uri": "https://localhost:8080/"
    },
    "id": "nlgx5QSUAN57",
    "outputId": "de8ca74f-411e-43b2-ed25-1e9dfb6a5735"
   },
   "outputs": [
    {
     "name": "stdout",
     "output_type": "stream",
     "text": [
      "Model: \"sequential\"\n",
      "_________________________________________________________________\n",
      " Layer (type)                Output Shape              Param #   \n",
      "=================================================================\n",
      " normalization (Normalizatio  (None, 2)                5         \n",
      " n)                                                              \n",
      "                                                                 \n",
      " dense (Dense)               (None, 256)               768       \n",
      "                                                                 \n",
      " dense_1 (Dense)             (None, 32)                8224      \n",
      "                                                                 \n",
      " dense_2 (Dense)             (None, 1)                 33        \n",
      "                                                                 \n",
      "=================================================================\n",
      "Total params: 9,030\n",
      "Trainable params: 9,025\n",
      "Non-trainable params: 5\n",
      "_________________________________________________________________\n"
     ]
    }
   ],
   "source": [
    "best_model = tuner.get_best_models(num_models=1)[0]\n",
    "best_model.summary()"
   ]
  },
  {
   "cell_type": "code",
   "execution_count": 63,
   "metadata": {
    "colab": {
     "base_uri": "https://localhost:8080/"
    },
    "id": "6oC3XLqSAg7T",
    "outputId": "317a4325-802a-4220-f604-9f48f6938f2c"
   },
   "outputs": [
    {
     "name": "stdout",
     "output_type": "stream",
     "text": [
      "Testing dataset mean absolute error (MAE): 0.02832343615591526\n"
     ]
    }
   ],
   "source": [
    "mae = best_model.evaluate(X_test, y_test, verbose=0)\n",
    "print('Testing dataset mean absolute error (MAE):', mae)"
   ]
  },
  {
   "cell_type": "markdown",
   "metadata": {
    "id": "KDPXzMlSjqYb"
   },
   "source": [
    "- We can also retrieve the best hyperparameters and retrain the model using both training and validation datasets."
   ]
  },
  {
   "cell_type": "code",
   "execution_count": 64,
   "metadata": {
    "colab": {
     "base_uri": "https://localhost:8080/"
    },
    "id": "i2rbvHBS3cIr",
    "outputId": "6de66fc2-101f-4fdd-b2c0-67d8a609b2b1"
   },
   "outputs": [
    {
     "name": "stdout",
     "output_type": "stream",
     "text": [
      "Epoch 1/40\n",
      "1450/1450 [==============================] - 4s 2ms/step - loss: 0.0575\n",
      "Epoch 2/40\n",
      "1450/1450 [==============================] - 3s 2ms/step - loss: 0.0475\n",
      "Epoch 3/40\n",
      "1450/1450 [==============================] - 4s 3ms/step - loss: 0.0441\n",
      "Epoch 4/40\n",
      "1450/1450 [==============================] - 4s 3ms/step - loss: 0.0421\n",
      "Epoch 5/40\n",
      "1450/1450 [==============================] - 3s 2ms/step - loss: 0.0406\n",
      "Epoch 6/40\n",
      "1450/1450 [==============================] - 3s 2ms/step - loss: 0.0389\n",
      "Epoch 7/40\n",
      "1450/1450 [==============================] - 3s 2ms/step - loss: 0.0377\n",
      "Epoch 8/40\n",
      "1450/1450 [==============================] - 4s 3ms/step - loss: 0.0368\n",
      "Epoch 9/40\n",
      "1450/1450 [==============================] - 3s 2ms/step - loss: 0.0368\n",
      "Epoch 10/40\n",
      "1450/1450 [==============================] - 3s 2ms/step - loss: 0.0353\n",
      "Epoch 11/40\n",
      "1450/1450 [==============================] - 3s 2ms/step - loss: 0.0348\n",
      "Epoch 12/40\n",
      "1450/1450 [==============================] - 5s 3ms/step - loss: 0.0351\n",
      "Epoch 13/40\n",
      "1450/1450 [==============================] - 3s 2ms/step - loss: 0.0347\n",
      "Epoch 14/40\n",
      "1450/1450 [==============================] - 3s 2ms/step - loss: 0.0335\n",
      "Epoch 15/40\n",
      "1450/1450 [==============================] - 4s 2ms/step - loss: 0.0331\n",
      "Epoch 16/40\n",
      "1450/1450 [==============================] - 4s 3ms/step - loss: 0.0330\n",
      "Epoch 17/40\n",
      "1450/1450 [==============================] - 4s 3ms/step - loss: 0.0326\n",
      "Epoch 18/40\n",
      "1450/1450 [==============================] - 3s 2ms/step - loss: 0.0324\n",
      "Epoch 19/40\n",
      "1450/1450 [==============================] - 3s 2ms/step - loss: 0.0330\n",
      "Epoch 20/40\n",
      "1450/1450 [==============================] - 3s 2ms/step - loss: 0.0322\n",
      "Epoch 21/40\n",
      "1450/1450 [==============================] - 4s 3ms/step - loss: 0.0316\n",
      "Epoch 22/40\n",
      "1450/1450 [==============================] - 3s 2ms/step - loss: 0.0313\n",
      "Epoch 23/40\n",
      "1450/1450 [==============================] - 3s 2ms/step - loss: 0.0306\n",
      "Epoch 24/40\n",
      "1450/1450 [==============================] - 3s 2ms/step - loss: 0.0303\n",
      "Epoch 25/40\n",
      "1450/1450 [==============================] - 4s 3ms/step - loss: 0.0307\n",
      "Epoch 26/40\n",
      "1450/1450 [==============================] - 3s 2ms/step - loss: 0.0304\n",
      "Epoch 27/40\n",
      "1450/1450 [==============================] - 3s 2ms/step - loss: 0.0301\n",
      "Epoch 28/40\n",
      "1450/1450 [==============================] - 3s 2ms/step - loss: 0.0298\n",
      "Epoch 29/40\n",
      "1450/1450 [==============================] - 3s 2ms/step - loss: 0.0297\n",
      "Epoch 30/40\n",
      "1450/1450 [==============================] - 4s 3ms/step - loss: 0.0295\n",
      "Epoch 31/40\n",
      "1450/1450 [==============================] - 3s 2ms/step - loss: 0.0292\n",
      "Epoch 32/40\n",
      "1450/1450 [==============================] - 3s 2ms/step - loss: 0.0291\n",
      "Epoch 33/40\n",
      "1450/1450 [==============================] - 3s 2ms/step - loss: 0.0290\n",
      "Epoch 34/40\n",
      "1450/1450 [==============================] - 4s 3ms/step - loss: 0.0290\n",
      "Epoch 35/40\n",
      "1450/1450 [==============================] - 3s 2ms/step - loss: 0.0290\n",
      "Epoch 36/40\n",
      "1450/1450 [==============================] - 3s 2ms/step - loss: 0.0290\n",
      "Epoch 37/40\n",
      "1450/1450 [==============================] - 3s 2ms/step - loss: 0.0290\n",
      "Epoch 38/40\n",
      "1450/1450 [==============================] - 3s 2ms/step - loss: 0.0290\n",
      "Epoch 39/40\n",
      "1450/1450 [==============================] - 4s 3ms/step - loss: 0.0290\n",
      "Epoch 40/40\n",
      "1450/1450 [==============================] - 3s 2ms/step - loss: 0.0290\n"
     ]
    },
    {
     "data": {
      "text/plain": [
       "<keras.callbacks.History at 0x7ff54da4b670>"
      ]
     },
     "execution_count": 64,
     "metadata": {},
     "output_type": "execute_result"
    }
   ],
   "source": [
    "best_hps = tuner.get_best_hyperparameters(num_trials=1)[0]\n",
    "hypermodel = tuner.hypermodel.build(best_hps)\n",
    "hypermodel.fit(X_train_val, y_train_val, epochs=NUM_OF_EPOCHS)"
   ]
  },
  {
   "cell_type": "code",
   "execution_count": 65,
   "metadata": {
    "colab": {
     "base_uri": "https://localhost:8080/"
    },
    "id": "JP3meZqZC6CM",
    "outputId": "3ecde053-10e1-4094-83ec-82af95c2346f"
   },
   "outputs": [
    {
     "name": "stdout",
     "output_type": "stream",
     "text": [
      "Testing dataset mean absolute error (MAE): 0.02829541452229023\n"
     ]
    }
   ],
   "source": [
    "mae = hypermodel.evaluate(X_test, y_test, verbose=0)\n",
    "print('Testing dataset mean absolute error (MAE):', mae)"
   ]
  },
  {
   "cell_type": "markdown",
   "metadata": {
    "id": "Cer4fS372_-2"
   },
   "source": [
    "- Even tho the models are not completely comparable, since the MAE of the Decision Tree model was obtained by cross-validation and not using the same testing dataset, we can see that the Neural Network model performed slightly better, but still it did not manage to learn anything more than the `dummy_regressor`."
   ]
  },
  {
   "cell_type": "markdown",
   "metadata": {
    "id": "d6DX_umeFjne"
   },
   "source": [
    "- To conclude, as I had already mentioned during the preprocessing, since our dataset does not cover the full range of inputs that the model is expected to handle, we cannot avoid overfitting and both of the models trained for the purposes of this assignment would not be able to predict the CD5 of papers in general since all they have learned is to predict CD5 index equal to 1 when the number of references is equal to 0 and CD5 index close to 0 for any other case."
   ]
  }
 ],
 "metadata": {
  "colab": {
   "provenance": []
  },
  "gpuClass": "premium",
  "kernelspec": {
   "display_name": "Python 3 (ipykernel)",
   "language": "python",
   "name": "python3"
  },
  "language_info": {
   "codemirror_mode": {
    "name": "ipython",
    "version": 3
   },
   "file_extension": ".py",
   "mimetype": "text/x-python",
   "name": "python",
   "nbconvert_exporter": "python",
   "pygments_lexer": "ipython3",
   "version": "3.10.8"
  }
 },
 "nbformat": 4,
 "nbformat_minor": 1
}
